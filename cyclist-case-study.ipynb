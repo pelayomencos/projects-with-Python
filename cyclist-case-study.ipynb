{
 "cells": [
  {
   "cell_type": "markdown",
   "id": "9bd62501",
   "metadata": {
    "papermill": {
     "duration": 0.020728,
     "end_time": "2023-01-20T14:59:43.360493",
     "exception": false,
     "start_time": "2023-01-20T14:59:43.339765",
     "status": "completed"
    },
    "tags": []
   },
   "source": [
    "# Google Certificate Capstone Project - Case Study 1"
   ]
  },
  {
   "cell_type": "markdown",
   "id": "8c955a95",
   "metadata": {
    "papermill": {
     "duration": 0.017549,
     "end_time": "2023-01-20T14:59:43.397969",
     "exception": false,
     "start_time": "2023-01-20T14:59:43.380420",
     "status": "completed"
    },
    "tags": []
   },
   "source": [
    "![Image_1](https://domf5oio6qrcr.cloudfront.net/medialibrary/4374/benefits-of-cycling.jpg)"
   ]
  },
  {
   "cell_type": "markdown",
   "id": "c14ed0d2",
   "metadata": {
    "papermill": {
     "duration": 0.017074,
     "end_time": "2023-01-20T14:59:43.433263",
     "exception": false,
     "start_time": "2023-01-20T14:59:43.416189",
     "status": "completed"
    },
    "tags": []
   },
   "source": [
    "# SCENARIO\n",
    "\n"
   ]
  },
  {
   "cell_type": "markdown",
   "id": "322a8e0a",
   "metadata": {
    "papermill": {
     "duration": 0.01664,
     "end_time": "2023-01-20T14:59:43.467147",
     "exception": false,
     "start_time": "2023-01-20T14:59:43.450507",
     "status": "completed"
    },
    "tags": []
   },
   "source": [
    "You are a junior data analyst working in the marketing analyst team at Cyclistic, a bike-share company in Chicago. The director of marketing believes the company’s future success depends on maximizing the number of annual memberships. Therefore, your team wants to understand how casual riders and annual members use Cyclistic bikes differently. From these insights, your team will design a new marketing strategy to convert casual riders into annual members. But first, Cyclistic executives must approve your recommendations, so they must be backed up with compelling data insights and professional data visualizations.\n"
   ]
  },
  {
   "cell_type": "markdown",
   "id": "6a693ed7",
   "metadata": {
    "papermill": {
     "duration": 0.016715,
     "end_time": "2023-01-20T14:59:43.500901",
     "exception": false,
     "start_time": "2023-01-20T14:59:43.484186",
     "status": "completed"
    },
    "tags": []
   },
   "source": [
    "### Characters and teams\n",
    "\n",
    "* Cyclistic: A bike-share program that features more than 5,800 bicycles and 600 docking stations. Cyclistic sets itself apart by also offering reclining bikes, hand tricycles, and cargo bikes, making bike-share more inclusive to people with disabilities and riders who can’t use a standard two-wheeled bike. The majority of riders opt for traditional bikes; about 8% of riders use the assistive options. Cyclistic users are more likely to ride for leisure, but about 30% use them to commute to work each day.\n",
    "\n",
    "* Lily Moreno: The director of marketing and your manager. Moreno is responsible for the development of campaigns and initiatives to promote the bike-share program. These may include email, social media, and other channels.\n",
    "\n",
    "* Cyclistic marketing analytics team: A team of data analysts who are responsible for collecting, analyzing, and reporting data that helps guide Cyclistic marketing strategy. You joined this team six months ago and have been busy learning about Cyclistic’s mission and business goals — as well as how you, as a junior data analyst, can help Cyclistic achieve them.\n",
    "\n",
    "* Cyclistic executive team: The notoriously detail-oriented executive team will decide whether to approve the recommended marketing program"
   ]
  },
  {
   "cell_type": "markdown",
   "id": "d7dc3e92",
   "metadata": {
    "papermill": {
     "duration": 0.016651,
     "end_time": "2023-01-20T14:59:43.534659",
     "exception": false,
     "start_time": "2023-01-20T14:59:43.518008",
     "status": "completed"
    },
    "tags": []
   },
   "source": [
    "### About the company\n",
    "\n",
    "In 2016, Cyclistic launched a successful bike-share offering. Since then, the program has grown to a fleet of 5,824 bicycles that are geotracked and locked into a network of 692 stations across Chicago. The bikes can be unlocked from one station and returned to any other station in the system anytime.\n",
    "\n",
    "Until now, Cyclistic’s marketing strategy relied on building general awareness and appealing to broad consumer segments. One approach that helped make these things possible was the flexibility of its pricing plans: single-ride passes, full-day passes, and annual memberships. Customers who purchase single-ride or full-day passes are referred to as casual riders. Customers who purchase annual memberships are Cyclistic members.\n",
    "\n",
    "Cyclistic’s finance analysts have concluded that annual members are much more profitable than casual riders. Although the pricing flexibility helps Cyclistic attract more customers, Moreno believes that maximizing the number of annual members will be key to future growth. Rather than creating a marketing campaign that targets all-new customers, Moreno believes there is a very good chance to convert casual riders into members. She notes that casual riders are already aware of the Cyclistic program and have chosen Cyclistic for their mobility needs.\n",
    "\n",
    "Moreno has set a clear goal: Design marketing strategies aimed at converting casual riders into annual members. In order to do that, however, the marketing analyst team needs to better understand how annual members and casual riders differ, why casual riders would buy a membership, and how digital media could affect their marketing tactics. Moreno and her team are interested in analyzing the Cyclistic historical bike trip data to identify trends."
   ]
  },
  {
   "cell_type": "markdown",
   "id": "7301c4c2",
   "metadata": {
    "papermill": {
     "duration": 0.01678,
     "end_time": "2023-01-20T14:59:43.568511",
     "exception": false,
     "start_time": "2023-01-20T14:59:43.551731",
     "status": "completed"
    },
    "tags": []
   },
   "source": [
    "# 1. ASK \n",
    "\n",
    "How do casual riders and annual members use Cyclistic bikes differently?\n",
    "\n",
    "\n",
    "Buisness task: Study bike ride data to see how casual riders and annual members differ, in order to help Cylist elaborate a marketing campaign with the goal of making more casual users become annual members."
   ]
  },
  {
   "cell_type": "markdown",
   "id": "254defa3",
   "metadata": {
    "papermill": {
     "duration": 0.016785,
     "end_time": "2023-01-20T14:59:43.603111",
     "exception": false,
     "start_time": "2023-01-20T14:59:43.586326",
     "status": "completed"
    },
    "tags": []
   },
   "source": [
    "# 2. PREPARE\n",
    "\n",
    "We will use the previous 12 months of Cyclist trip data. \n",
    "\n",
    "#### Description of the data we will be using \n",
    "\n",
    "* Twelve months: April 2021 to March 2022. Each month is stored in a CSV file. The data is therefore rather recent. \n",
    "* Comprehensive: the dataset contains all the rides done with Cyclist bikes between April 2021 and March 2022. \n",
    "* Publically available dataset. \n",
    "* Respect for privacy: no personal information of the user is included. \n",
    "\n",
    "#### Limitations of the data \n",
    "\n",
    "* Having demographical information (age, sex, type of job etc.) would be very useful to be able craft more detailed recommendations. \n",
    "\n",
    "\n",
    "#### Evaluation of the data\n",
    "\n",
    "* The dataset is reliable, contains a vast number of datapoints, and has interesting variables which will allow us to advance in our buisness task. "
   ]
  },
  {
   "cell_type": "code",
   "execution_count": 1,
   "id": "aba8a459",
   "metadata": {
    "execution": {
     "iopub.execute_input": "2023-01-20T14:59:43.640078Z",
     "iopub.status.busy": "2023-01-20T14:59:43.639287Z",
     "iopub.status.idle": "2023-01-20T14:59:45.044575Z",
     "shell.execute_reply": "2023-01-20T14:59:45.043295Z"
    },
    "papermill": {
     "duration": 1.42734,
     "end_time": "2023-01-20T14:59:45.047521",
     "exception": false,
     "start_time": "2023-01-20T14:59:43.620181",
     "status": "completed"
    },
    "tags": []
   },
   "outputs": [],
   "source": [
    "#load libraries \n",
    "import pandas as pd\n",
    "import numpy as np \n",
    "import matplotlib.pyplot as plt\n",
    "import plotly.express as px"
   ]
  },
  {
   "cell_type": "code",
   "execution_count": 2,
   "id": "6715e37e",
   "metadata": {
    "execution": {
     "iopub.execute_input": "2023-01-20T14:59:45.083567Z",
     "iopub.status.busy": "2023-01-20T14:59:45.083135Z",
     "iopub.status.idle": "2023-01-20T15:00:24.874532Z",
     "shell.execute_reply": "2023-01-20T15:00:24.873342Z"
    },
    "papermill": {
     "duration": 39.812967,
     "end_time": "2023-01-20T15:00:24.877686",
     "exception": false,
     "start_time": "2023-01-20T14:59:45.064719",
     "status": "completed"
    },
    "tags": []
   },
   "outputs": [],
   "source": [
    "#open the files \n",
    "data1 = pd.read_csv(\"../input/cyclistic-bike-share/202201-divvy-tripdata.csv\")\n",
    "data2 = pd.read_csv(\"../input/cyclistic-bike-share/202202-divvy-tripdata.csv\")\n",
    "data3 = pd.read_csv(\"../input/cyclistic-bike-share/202203-divvy-tripdata.csv\")\n",
    "data4 = pd.read_csv(\"../input/cyclistic-bike-share/202104-divvy-tripdata.csv\")\n",
    "data5 = pd.read_csv(\"../input/cyclistic-bike-share/202105-divvy-tripdata.csv\")\n",
    "data6 = pd.read_csv(\"../input/cyclistic-bike-share/202106-divvy-tripdata.csv\")\n",
    "data7 = pd.read_csv(\"../input/cyclistic-bike-share/202107-divvy-tripdata.csv\")\n",
    "data8 = pd.read_csv(\"../input/cyclistic-bike-share/202108-divvy-tripdata.csv\")\n",
    "data9 = pd.read_csv(\"../input/cyclistic-bike-share/202109-divvy-tripdata.csv\")\n",
    "data10 = pd.read_csv(\"../input/cyclistic-bike-share/202110-divvy-tripdata.csv\")\n",
    "data11 = pd.read_csv(\"../input/cyclistic-bike-share/202111-divvy-tripdata.csv\")\n",
    "data12 = pd.read_csv(\"../input/cyclistic-bike-share/202112-divvy-tripdata.csv\")"
   ]
  },
  {
   "cell_type": "code",
   "execution_count": 3,
   "id": "feef59c3",
   "metadata": {
    "execution": {
     "iopub.execute_input": "2023-01-20T15:00:24.917075Z",
     "iopub.status.busy": "2023-01-20T15:00:24.915645Z",
     "iopub.status.idle": "2023-01-20T15:00:27.021182Z",
     "shell.execute_reply": "2023-01-20T15:00:27.019743Z"
    },
    "papermill": {
     "duration": 2.127713,
     "end_time": "2023-01-20T15:00:27.023961",
     "exception": false,
     "start_time": "2023-01-20T15:00:24.896248",
     "status": "completed"
    },
    "tags": []
   },
   "outputs": [],
   "source": [
    "#merge files into one single dataframe \n",
    "data = pd.concat([data1, data2, data3, data4, data5, data6,\n",
    "                 data7, data8, data9, data10, data11, data12])"
   ]
  },
  {
   "cell_type": "code",
   "execution_count": 4,
   "id": "2f5c46ba",
   "metadata": {
    "execution": {
     "iopub.execute_input": "2023-01-20T15:00:27.061840Z",
     "iopub.status.busy": "2023-01-20T15:00:27.060900Z",
     "iopub.status.idle": "2023-01-20T15:00:27.069730Z",
     "shell.execute_reply": "2023-01-20T15:00:27.068886Z"
    },
    "papermill": {
     "duration": 0.030926,
     "end_time": "2023-01-20T15:00:27.072931",
     "exception": false,
     "start_time": "2023-01-20T15:00:27.042005",
     "status": "completed"
    },
    "tags": []
   },
   "outputs": [
    {
     "data": {
      "text/plain": [
       "(5723532, 13)"
      ]
     },
     "execution_count": 4,
     "metadata": {},
     "output_type": "execute_result"
    }
   ],
   "source": [
    "#dimensions of our dataframe\n",
    "data.shape"
   ]
  },
  {
   "cell_type": "markdown",
   "id": "4072be46",
   "metadata": {
    "papermill": {
     "duration": 0.017192,
     "end_time": "2023-01-20T15:00:27.107633",
     "exception": false,
     "start_time": "2023-01-20T15:00:27.090441",
     "status": "completed"
    },
    "tags": []
   },
   "source": [
    "Our dataframe has around 5.7 million rows; and 13 different columns - that's a lot of data! Let's see what kind of information do our columns contain: \n"
   ]
  },
  {
   "cell_type": "code",
   "execution_count": 5,
   "id": "83c40bf5",
   "metadata": {
    "execution": {
     "iopub.execute_input": "2023-01-20T15:00:27.144891Z",
     "iopub.status.busy": "2023-01-20T15:00:27.144263Z",
     "iopub.status.idle": "2023-01-20T15:00:27.168354Z",
     "shell.execute_reply": "2023-01-20T15:00:27.167146Z"
    },
    "papermill": {
     "duration": 0.045936,
     "end_time": "2023-01-20T15:00:27.170946",
     "exception": false,
     "start_time": "2023-01-20T15:00:27.125010",
     "status": "completed"
    },
    "tags": []
   },
   "outputs": [
    {
     "data": {
      "text/html": [
       "<div>\n",
       "<style scoped>\n",
       "    .dataframe tbody tr th:only-of-type {\n",
       "        vertical-align: middle;\n",
       "    }\n",
       "\n",
       "    .dataframe tbody tr th {\n",
       "        vertical-align: top;\n",
       "    }\n",
       "\n",
       "    .dataframe thead th {\n",
       "        text-align: right;\n",
       "    }\n",
       "</style>\n",
       "<table border=\"1\" class=\"dataframe\">\n",
       "  <thead>\n",
       "    <tr style=\"text-align: right;\">\n",
       "      <th></th>\n",
       "      <th>ride_id</th>\n",
       "      <th>rideable_type</th>\n",
       "      <th>started_at</th>\n",
       "      <th>ended_at</th>\n",
       "      <th>start_station_name</th>\n",
       "      <th>start_station_id</th>\n",
       "      <th>end_station_name</th>\n",
       "      <th>end_station_id</th>\n",
       "      <th>start_lat</th>\n",
       "      <th>start_lng</th>\n",
       "      <th>end_lat</th>\n",
       "      <th>end_lng</th>\n",
       "      <th>member_casual</th>\n",
       "    </tr>\n",
       "  </thead>\n",
       "  <tbody>\n",
       "    <tr>\n",
       "      <th>0</th>\n",
       "      <td>C2F7DD78E82EC875</td>\n",
       "      <td>electric_bike</td>\n",
       "      <td>2022-01-13 11:59:47</td>\n",
       "      <td>2022-01-13 12:02:44</td>\n",
       "      <td>Glenwood Ave &amp; Touhy Ave</td>\n",
       "      <td>525</td>\n",
       "      <td>Clark St &amp; Touhy Ave</td>\n",
       "      <td>RP-007</td>\n",
       "      <td>42.012800</td>\n",
       "      <td>-87.665906</td>\n",
       "      <td>42.012560</td>\n",
       "      <td>-87.674367</td>\n",
       "      <td>casual</td>\n",
       "    </tr>\n",
       "    <tr>\n",
       "      <th>1</th>\n",
       "      <td>A6CF8980A652D272</td>\n",
       "      <td>electric_bike</td>\n",
       "      <td>2022-01-10 08:41:56</td>\n",
       "      <td>2022-01-10 08:46:17</td>\n",
       "      <td>Glenwood Ave &amp; Touhy Ave</td>\n",
       "      <td>525</td>\n",
       "      <td>Clark St &amp; Touhy Ave</td>\n",
       "      <td>RP-007</td>\n",
       "      <td>42.012763</td>\n",
       "      <td>-87.665967</td>\n",
       "      <td>42.012560</td>\n",
       "      <td>-87.674367</td>\n",
       "      <td>casual</td>\n",
       "    </tr>\n",
       "    <tr>\n",
       "      <th>2</th>\n",
       "      <td>BD0F91DFF741C66D</td>\n",
       "      <td>classic_bike</td>\n",
       "      <td>2022-01-25 04:53:40</td>\n",
       "      <td>2022-01-25 04:58:01</td>\n",
       "      <td>Sheffield Ave &amp; Fullerton Ave</td>\n",
       "      <td>TA1306000016</td>\n",
       "      <td>Greenview Ave &amp; Fullerton Ave</td>\n",
       "      <td>TA1307000001</td>\n",
       "      <td>41.925602</td>\n",
       "      <td>-87.653708</td>\n",
       "      <td>41.925330</td>\n",
       "      <td>-87.665800</td>\n",
       "      <td>member</td>\n",
       "    </tr>\n",
       "    <tr>\n",
       "      <th>3</th>\n",
       "      <td>CBB80ED419105406</td>\n",
       "      <td>classic_bike</td>\n",
       "      <td>2022-01-04 00:18:04</td>\n",
       "      <td>2022-01-04 00:33:00</td>\n",
       "      <td>Clark St &amp; Bryn Mawr Ave</td>\n",
       "      <td>KA1504000151</td>\n",
       "      <td>Paulina St &amp; Montrose Ave</td>\n",
       "      <td>TA1309000021</td>\n",
       "      <td>41.983593</td>\n",
       "      <td>-87.669154</td>\n",
       "      <td>41.961507</td>\n",
       "      <td>-87.671387</td>\n",
       "      <td>casual</td>\n",
       "    </tr>\n",
       "    <tr>\n",
       "      <th>4</th>\n",
       "      <td>DDC963BFDDA51EEA</td>\n",
       "      <td>classic_bike</td>\n",
       "      <td>2022-01-20 01:31:10</td>\n",
       "      <td>2022-01-20 01:37:12</td>\n",
       "      <td>Michigan Ave &amp; Jackson Blvd</td>\n",
       "      <td>TA1309000002</td>\n",
       "      <td>State St &amp; Randolph St</td>\n",
       "      <td>TA1305000029</td>\n",
       "      <td>41.877850</td>\n",
       "      <td>-87.624080</td>\n",
       "      <td>41.884621</td>\n",
       "      <td>-87.627834</td>\n",
       "      <td>member</td>\n",
       "    </tr>\n",
       "  </tbody>\n",
       "</table>\n",
       "</div>"
      ],
      "text/plain": [
       "            ride_id  rideable_type           started_at             ended_at  \\\n",
       "0  C2F7DD78E82EC875  electric_bike  2022-01-13 11:59:47  2022-01-13 12:02:44   \n",
       "1  A6CF8980A652D272  electric_bike  2022-01-10 08:41:56  2022-01-10 08:46:17   \n",
       "2  BD0F91DFF741C66D   classic_bike  2022-01-25 04:53:40  2022-01-25 04:58:01   \n",
       "3  CBB80ED419105406   classic_bike  2022-01-04 00:18:04  2022-01-04 00:33:00   \n",
       "4  DDC963BFDDA51EEA   classic_bike  2022-01-20 01:31:10  2022-01-20 01:37:12   \n",
       "\n",
       "              start_station_name start_station_id  \\\n",
       "0       Glenwood Ave & Touhy Ave              525   \n",
       "1       Glenwood Ave & Touhy Ave              525   \n",
       "2  Sheffield Ave & Fullerton Ave     TA1306000016   \n",
       "3       Clark St & Bryn Mawr Ave     KA1504000151   \n",
       "4    Michigan Ave & Jackson Blvd     TA1309000002   \n",
       "\n",
       "                end_station_name end_station_id  start_lat  start_lng  \\\n",
       "0           Clark St & Touhy Ave         RP-007  42.012800 -87.665906   \n",
       "1           Clark St & Touhy Ave         RP-007  42.012763 -87.665967   \n",
       "2  Greenview Ave & Fullerton Ave   TA1307000001  41.925602 -87.653708   \n",
       "3      Paulina St & Montrose Ave   TA1309000021  41.983593 -87.669154   \n",
       "4         State St & Randolph St   TA1305000029  41.877850 -87.624080   \n",
       "\n",
       "     end_lat    end_lng member_casual  \n",
       "0  42.012560 -87.674367        casual  \n",
       "1  42.012560 -87.674367        casual  \n",
       "2  41.925330 -87.665800        member  \n",
       "3  41.961507 -87.671387        casual  \n",
       "4  41.884621 -87.627834        member  "
      ]
     },
     "execution_count": 5,
     "metadata": {},
     "output_type": "execute_result"
    }
   ],
   "source": [
    "data.iloc[:5]"
   ]
  },
  {
   "cell_type": "markdown",
   "id": "3c92bad1",
   "metadata": {
    "papermill": {
     "duration": 0.017802,
     "end_time": "2023-01-20T15:00:27.206536",
     "exception": false,
     "start_time": "2023-01-20T15:00:27.188734",
     "status": "completed"
    },
    "tags": []
   },
   "source": [
    "Columns we have: \n",
    "\n",
    "\n",
    "**1. ride_id** : Numeric identifier of each ride.\n",
    "\n",
    "**2. rideable_type**: Type of bike driven: electric, classic, docked. \n",
    "\n",
    "**3. started_at**: Hour and date at which the bike ride began. \n",
    "\n",
    "**4. ended_at**: Hour and date at which the bike ride ended. \n",
    "\n",
    "**5. start_station_name**: Name of the station where the bike ride began.\n",
    "\n",
    "**6. start_station_id**: Numeric identifier of the station. We will not be using this column, as the previous column already gives us the information we need. \n",
    "\n",
    "**7. end_station_name**: Name of the station where the bike ride ended. \n",
    "\n",
    "**8. end_station_id**: Numeric identifier of the station. We will not be using this column, as the previous column already gives us the information we need.\n",
    "\n",
    "**9. start_lat**: No use \n",
    "\n",
    "**10. start_lng**: No use\n",
    "\n",
    "**11. end_lat**: No use\n",
    "\n",
    "**12. end_lng**: No use\n",
    "\n",
    "**13. member_casual**: Type of user: casual rider or annual member. \n"
   ]
  },
  {
   "cell_type": "markdown",
   "id": "a8d31407",
   "metadata": {
    "papermill": {
     "duration": 0.017716,
     "end_time": "2023-01-20T15:00:27.242231",
     "exception": false,
     "start_time": "2023-01-20T15:00:27.224515",
     "status": "completed"
    },
    "tags": []
   },
   "source": [
    "# 3. PROCESS\n",
    "\n",
    "### 3.1. CLEAN\n",
    "\n",
    "Let's check if there are any duplicates among our rows. "
   ]
  },
  {
   "cell_type": "code",
   "execution_count": 6,
   "id": "20a6d7d5",
   "metadata": {
    "execution": {
     "iopub.execute_input": "2023-01-20T15:00:27.280415Z",
     "iopub.status.busy": "2023-01-20T15:00:27.279094Z",
     "iopub.status.idle": "2023-01-20T15:00:33.088460Z",
     "shell.execute_reply": "2023-01-20T15:00:33.086748Z"
    },
    "papermill": {
     "duration": 5.831359,
     "end_time": "2023-01-20T15:00:33.091315",
     "exception": false,
     "start_time": "2023-01-20T15:00:27.259956",
     "status": "completed"
    },
    "tags": []
   },
   "outputs": [
    {
     "name": "stdout",
     "output_type": "stream",
     "text": [
      "Empty DataFrame\n",
      "Columns: [ride_id, rideable_type, started_at, ended_at, start_station_name, start_station_id, end_station_name, end_station_id, start_lat, start_lng, end_lat, end_lng, member_casual]\n",
      "Index: []\n"
     ]
    }
   ],
   "source": [
    "print(data[data.duplicated(['ride_id'])])"
   ]
  },
  {
   "cell_type": "markdown",
   "id": "2d56bfc9",
   "metadata": {
    "papermill": {
     "duration": 0.017502,
     "end_time": "2023-01-20T15:00:33.127612",
     "exception": false,
     "start_time": "2023-01-20T15:00:33.110110",
     "status": "completed"
    },
    "tags": []
   },
   "source": [
    "Great, there aren't any duplicates"
   ]
  },
  {
   "cell_type": "markdown",
   "id": "a6d11c2e",
   "metadata": {
    "papermill": {
     "duration": 0.018198,
     "end_time": "2023-01-20T15:00:33.163654",
     "exception": false,
     "start_time": "2023-01-20T15:00:33.145456",
     "status": "completed"
    },
    "tags": []
   },
   "source": [
    "Another important aspect we have to check is if only the labels we expect are present for the categorical data variables:\n"
   ]
  },
  {
   "cell_type": "code",
   "execution_count": 7,
   "id": "f6bdc22c",
   "metadata": {
    "execution": {
     "iopub.execute_input": "2023-01-20T15:00:33.202178Z",
     "iopub.status.busy": "2023-01-20T15:00:33.201737Z",
     "iopub.status.idle": "2023-01-20T15:00:34.071634Z",
     "shell.execute_reply": "2023-01-20T15:00:34.070093Z"
    },
    "papermill": {
     "duration": 0.892964,
     "end_time": "2023-01-20T15:00:34.075126",
     "exception": false,
     "start_time": "2023-01-20T15:00:33.182162",
     "status": "completed"
    },
    "tags": []
   },
   "outputs": [
    {
     "name": "stdout",
     "output_type": "stream",
     "text": [
      "['casual' 'member']\n",
      "['electric_bike' 'classic_bike' 'docked_bike']\n"
     ]
    }
   ],
   "source": [
    "print(data['member_casual'].unique())\n",
    "print(data['rideable_type'].unique())"
   ]
  },
  {
   "cell_type": "markdown",
   "id": "95895911",
   "metadata": {
    "papermill": {
     "duration": 0.018356,
     "end_time": "2023-01-20T15:00:34.112874",
     "exception": false,
     "start_time": "2023-01-20T15:00:34.094518",
     "status": "completed"
    },
    "tags": []
   },
   "source": [
    "Good, the labels we have make perfect sense."
   ]
  },
  {
   "cell_type": "markdown",
   "id": "5369602e",
   "metadata": {
    "papermill": {
     "duration": 0.019022,
     "end_time": "2023-01-20T15:00:34.151951",
     "exception": false,
     "start_time": "2023-01-20T15:00:34.132929",
     "status": "completed"
    },
    "tags": []
   },
   "source": [
    "### 3.2. ORGANIZE\n",
    "\n",
    "Let's get rid of the columns we will not make use of. "
   ]
  },
  {
   "cell_type": "code",
   "execution_count": 8,
   "id": "80bbc28e",
   "metadata": {
    "execution": {
     "iopub.execute_input": "2023-01-20T15:00:34.192127Z",
     "iopub.status.busy": "2023-01-20T15:00:34.191689Z",
     "iopub.status.idle": "2023-01-20T15:00:34.990098Z",
     "shell.execute_reply": "2023-01-20T15:00:34.989164Z"
    },
    "papermill": {
     "duration": 0.821576,
     "end_time": "2023-01-20T15:00:34.992654",
     "exception": false,
     "start_time": "2023-01-20T15:00:34.171078",
     "status": "completed"
    },
    "tags": []
   },
   "outputs": [],
   "source": [
    "#drop columns we are not interested in\n",
    "data.drop(['start_station_id', 'end_station_id', \n",
    "           'start_lat','start_lng',\n",
    "          'end_lat', 'end_lng'], axis = 1, inplace=True)"
   ]
  },
  {
   "cell_type": "markdown",
   "id": "f832ed5f",
   "metadata": {
    "papermill": {
     "duration": 0.017821,
     "end_time": "2023-01-20T15:00:35.028545",
     "exception": false,
     "start_time": "2023-01-20T15:00:35.010724",
     "status": "completed"
    },
    "tags": []
   },
   "source": [
    "Create new columns that can be interesting for analysis, such as the duration of each ride or the day of the week in which the ride took place.  "
   ]
  },
  {
   "cell_type": "code",
   "execution_count": 9,
   "id": "f48cce23",
   "metadata": {
    "execution": {
     "iopub.execute_input": "2023-01-20T15:00:35.066948Z",
     "iopub.status.busy": "2023-01-20T15:00:35.066494Z",
     "iopub.status.idle": "2023-01-20T15:00:38.678309Z",
     "shell.execute_reply": "2023-01-20T15:00:38.677037Z"
    },
    "papermill": {
     "duration": 3.63442,
     "end_time": "2023-01-20T15:00:38.681273",
     "exception": false,
     "start_time": "2023-01-20T15:00:35.046853",
     "status": "completed"
    },
    "tags": []
   },
   "outputs": [],
   "source": [
    "#change format to be able to do operations\n",
    "data['started_at'] = pd.to_datetime(data['started_at'])\n",
    "data['ended_at'] = pd.to_datetime(data['ended_at'])"
   ]
  },
  {
   "cell_type": "code",
   "execution_count": 10,
   "id": "d108f647",
   "metadata": {
    "execution": {
     "iopub.execute_input": "2023-01-20T15:00:38.720532Z",
     "iopub.status.busy": "2023-01-20T15:00:38.720153Z",
     "iopub.status.idle": "2023-01-20T15:00:38.897375Z",
     "shell.execute_reply": "2023-01-20T15:00:38.896187Z"
    },
    "papermill": {
     "duration": 0.199746,
     "end_time": "2023-01-20T15:00:38.900089",
     "exception": false,
     "start_time": "2023-01-20T15:00:38.700343",
     "status": "completed"
    },
    "tags": []
   },
   "outputs": [],
   "source": [
    "#create column that calculates ride duration\n",
    "data['ride_length'] = (data['ended_at'] - data['started_at']) / pd.Timedelta(minutes=1)\n",
    "data['ride_length'] = data['ride_length'].astype('int32')"
   ]
  },
  {
   "cell_type": "code",
   "execution_count": 11,
   "id": "ef31d0ca",
   "metadata": {
    "execution": {
     "iopub.execute_input": "2023-01-20T15:00:38.938926Z",
     "iopub.status.busy": "2023-01-20T15:00:38.938500Z",
     "iopub.status.idle": "2023-01-20T15:00:40.884327Z",
     "shell.execute_reply": "2023-01-20T15:00:40.883118Z"
    },
    "papermill": {
     "duration": 1.968455,
     "end_time": "2023-01-20T15:00:40.886931",
     "exception": false,
     "start_time": "2023-01-20T15:00:38.918476",
     "status": "completed"
    },
    "tags": []
   },
   "outputs": [],
   "source": [
    "#create column that calculates day of the week\n",
    "data['day'] = data['started_at'].dt.day_name()"
   ]
  },
  {
   "cell_type": "code",
   "execution_count": 12,
   "id": "6fc5e8c0",
   "metadata": {
    "execution": {
     "iopub.execute_input": "2023-01-20T15:00:40.925889Z",
     "iopub.status.busy": "2023-01-20T15:00:40.924941Z",
     "iopub.status.idle": "2023-01-20T15:01:10.500317Z",
     "shell.execute_reply": "2023-01-20T15:01:10.499092Z"
    },
    "papermill": {
     "duration": 29.597892,
     "end_time": "2023-01-20T15:01:10.503252",
     "exception": false,
     "start_time": "2023-01-20T15:00:40.905360",
     "status": "completed"
    },
    "tags": []
   },
   "outputs": [],
   "source": [
    "#column with name of month\n",
    "data['month'] = data['started_at'].dt.strftime(\"%B\")"
   ]
  },
  {
   "cell_type": "code",
   "execution_count": 13,
   "id": "626afbb5",
   "metadata": {
    "execution": {
     "iopub.execute_input": "2023-01-20T15:01:10.541834Z",
     "iopub.status.busy": "2023-01-20T15:01:10.540772Z",
     "iopub.status.idle": "2023-01-20T15:01:10.560367Z",
     "shell.execute_reply": "2023-01-20T15:01:10.559161Z"
    },
    "papermill": {
     "duration": 0.04141,
     "end_time": "2023-01-20T15:01:10.562733",
     "exception": false,
     "start_time": "2023-01-20T15:01:10.521323",
     "status": "completed"
    },
    "tags": []
   },
   "outputs": [
    {
     "data": {
      "text/html": [
       "<div>\n",
       "<style scoped>\n",
       "    .dataframe tbody tr th:only-of-type {\n",
       "        vertical-align: middle;\n",
       "    }\n",
       "\n",
       "    .dataframe tbody tr th {\n",
       "        vertical-align: top;\n",
       "    }\n",
       "\n",
       "    .dataframe thead th {\n",
       "        text-align: right;\n",
       "    }\n",
       "</style>\n",
       "<table border=\"1\" class=\"dataframe\">\n",
       "  <thead>\n",
       "    <tr style=\"text-align: right;\">\n",
       "      <th></th>\n",
       "      <th>ride_id</th>\n",
       "      <th>rideable_type</th>\n",
       "      <th>started_at</th>\n",
       "      <th>ended_at</th>\n",
       "      <th>start_station_name</th>\n",
       "      <th>end_station_name</th>\n",
       "      <th>member_casual</th>\n",
       "      <th>ride_length</th>\n",
       "      <th>day</th>\n",
       "      <th>month</th>\n",
       "    </tr>\n",
       "  </thead>\n",
       "  <tbody>\n",
       "    <tr>\n",
       "      <th>0</th>\n",
       "      <td>C2F7DD78E82EC875</td>\n",
       "      <td>electric_bike</td>\n",
       "      <td>2022-01-13 11:59:47</td>\n",
       "      <td>2022-01-13 12:02:44</td>\n",
       "      <td>Glenwood Ave &amp; Touhy Ave</td>\n",
       "      <td>Clark St &amp; Touhy Ave</td>\n",
       "      <td>casual</td>\n",
       "      <td>2</td>\n",
       "      <td>Thursday</td>\n",
       "      <td>January</td>\n",
       "    </tr>\n",
       "    <tr>\n",
       "      <th>1</th>\n",
       "      <td>A6CF8980A652D272</td>\n",
       "      <td>electric_bike</td>\n",
       "      <td>2022-01-10 08:41:56</td>\n",
       "      <td>2022-01-10 08:46:17</td>\n",
       "      <td>Glenwood Ave &amp; Touhy Ave</td>\n",
       "      <td>Clark St &amp; Touhy Ave</td>\n",
       "      <td>casual</td>\n",
       "      <td>4</td>\n",
       "      <td>Monday</td>\n",
       "      <td>January</td>\n",
       "    </tr>\n",
       "    <tr>\n",
       "      <th>2</th>\n",
       "      <td>BD0F91DFF741C66D</td>\n",
       "      <td>classic_bike</td>\n",
       "      <td>2022-01-25 04:53:40</td>\n",
       "      <td>2022-01-25 04:58:01</td>\n",
       "      <td>Sheffield Ave &amp; Fullerton Ave</td>\n",
       "      <td>Greenview Ave &amp; Fullerton Ave</td>\n",
       "      <td>member</td>\n",
       "      <td>4</td>\n",
       "      <td>Tuesday</td>\n",
       "      <td>January</td>\n",
       "    </tr>\n",
       "  </tbody>\n",
       "</table>\n",
       "</div>"
      ],
      "text/plain": [
       "            ride_id  rideable_type          started_at            ended_at  \\\n",
       "0  C2F7DD78E82EC875  electric_bike 2022-01-13 11:59:47 2022-01-13 12:02:44   \n",
       "1  A6CF8980A652D272  electric_bike 2022-01-10 08:41:56 2022-01-10 08:46:17   \n",
       "2  BD0F91DFF741C66D   classic_bike 2022-01-25 04:53:40 2022-01-25 04:58:01   \n",
       "\n",
       "              start_station_name               end_station_name member_casual  \\\n",
       "0       Glenwood Ave & Touhy Ave           Clark St & Touhy Ave        casual   \n",
       "1       Glenwood Ave & Touhy Ave           Clark St & Touhy Ave        casual   \n",
       "2  Sheffield Ave & Fullerton Ave  Greenview Ave & Fullerton Ave        member   \n",
       "\n",
       "   ride_length       day    month  \n",
       "0            2  Thursday  January  \n",
       "1            4    Monday  January  \n",
       "2            4   Tuesday  January  "
      ]
     },
     "execution_count": 13,
     "metadata": {},
     "output_type": "execute_result"
    }
   ],
   "source": [
    "#what is our dataframe looking like?\n",
    "data.iloc[:3]"
   ]
  },
  {
   "cell_type": "markdown",
   "id": "f16abc5a",
   "metadata": {
    "papermill": {
     "duration": 0.018318,
     "end_time": "2023-01-20T15:01:10.599132",
     "exception": false,
     "start_time": "2023-01-20T15:01:10.580814",
     "status": "completed"
    },
    "tags": []
   },
   "source": [
    "# 4. ANALYSE & 5. SHARE\n"
   ]
  },
  {
   "cell_type": "markdown",
   "id": "0170f2c7",
   "metadata": {
    "papermill": {
     "duration": 0.017745,
     "end_time": "2023-01-20T15:01:10.635184",
     "exception": false,
     "start_time": "2023-01-20T15:01:10.617439",
     "status": "completed"
    },
    "tags": []
   },
   "source": [
    "# 4.1. Casual Riders vs Annual Members\n",
    "\n",
    "How many casual riders are there, in comparaison to annual members?"
   ]
  },
  {
   "cell_type": "code",
   "execution_count": 14,
   "id": "dde55495",
   "metadata": {
    "execution": {
     "iopub.execute_input": "2023-01-20T15:01:10.674414Z",
     "iopub.status.busy": "2023-01-20T15:01:10.673751Z",
     "iopub.status.idle": "2023-01-20T15:01:11.199439Z",
     "shell.execute_reply": "2023-01-20T15:01:11.197714Z"
    },
    "papermill": {
     "duration": 0.548925,
     "end_time": "2023-01-20T15:01:11.202968",
     "exception": false,
     "start_time": "2023-01-20T15:01:10.654043",
     "status": "completed"
    },
    "tags": []
   },
   "outputs": [
    {
     "data": {
      "text/plain": [
       "<AxesSubplot:title={'center':'Casual users vs Members'}, ylabel='member_casual'>"
      ]
     },
     "execution_count": 14,
     "metadata": {},
     "output_type": "execute_result"
    },
    {
     "data": {
      "image/png": "[encoded data removed]",
      "text/plain": [
       "<Figure size 576x360 with 1 Axes>"
      ]
     },
     "metadata": {},
     "output_type": "display_data"
    }
   ],
   "source": [
    "member_counts = data['member_casual'].value_counts()\n",
    "member_counts.plot(kind='pie',\n",
    "                  autopct='%1.0f%%',\n",
    "                  title='Casual users vs Members',\n",
    "                  figsize = (8, 5))"
   ]
  },
  {
   "cell_type": "markdown",
   "id": "4353a9cd",
   "metadata": {
    "papermill": {
     "duration": 0.029854,
     "end_time": "2023-01-20T15:01:11.263551",
     "exception": false,
     "start_time": "2023-01-20T15:01:11.233697",
     "status": "completed"
    },
    "tags": []
   },
   "source": [
    "There are more members than casual users – but the difference is not huge: casual users make up for 44% of the total number amount of rides in the year. "
   ]
  },
  {
   "cell_type": "markdown",
   "id": "a34004e8",
   "metadata": {
    "papermill": {
     "duration": 0.018502,
     "end_time": "2023-01-20T15:01:11.301115",
     "exception": false,
     "start_time": "2023-01-20T15:01:11.282613",
     "status": "completed"
    },
    "tags": []
   },
   "source": [
    "**INFO 1:** A large portion (44%) of bikers at Cyclist are casual riders. "
   ]
  },
  {
   "cell_type": "markdown",
   "id": "09818986",
   "metadata": {
    "papermill": {
     "duration": 0.018667,
     "end_time": "2023-01-20T15:01:11.338768",
     "exception": false,
     "start_time": "2023-01-20T15:01:11.320101",
     "status": "completed"
    },
    "tags": []
   },
   "source": [
    "# 4.2. Type of bike "
   ]
  },
  {
   "cell_type": "code",
   "execution_count": 15,
   "id": "fca3183e",
   "metadata": {
    "execution": {
     "iopub.execute_input": "2023-01-20T15:01:11.378443Z",
     "iopub.status.busy": "2023-01-20T15:01:11.377720Z",
     "iopub.status.idle": "2023-01-20T15:01:15.037142Z",
     "shell.execute_reply": "2023-01-20T15:01:15.035881Z"
    },
    "papermill": {
     "duration": 3.682803,
     "end_time": "2023-01-20T15:01:15.040287",
     "exception": false,
     "start_time": "2023-01-20T15:01:11.357484",
     "status": "completed"
    },
    "tags": []
   },
   "outputs": [],
   "source": [
    "member_bike_count = pd.pivot_table(data, values = 'ride_id', index = ['member_casual', 'rideable_type'],  aggfunc='count')"
   ]
  },
  {
   "cell_type": "code",
   "execution_count": 16,
   "id": "a2b236ca",
   "metadata": {
    "execution": {
     "iopub.execute_input": "2023-01-20T15:01:15.087511Z",
     "iopub.status.busy": "2023-01-20T15:01:15.087111Z",
     "iopub.status.idle": "2023-01-20T15:01:15.096271Z",
     "shell.execute_reply": "2023-01-20T15:01:15.094565Z"
    },
    "papermill": {
     "duration": 0.037778,
     "end_time": "2023-01-20T15:01:15.100028",
     "exception": false,
     "start_time": "2023-01-20T15:01:15.062250",
     "status": "completed"
    },
    "tags": []
   },
   "outputs": [],
   "source": [
    "member_bike_count = member_bike_count.reset_index()"
   ]
  },
  {
   "cell_type": "code",
   "execution_count": 17,
   "id": "47a52b8d",
   "metadata": {
    "execution": {
     "iopub.execute_input": "2023-01-20T15:01:15.142691Z",
     "iopub.status.busy": "2023-01-20T15:01:15.141551Z",
     "iopub.status.idle": "2023-01-20T15:01:15.153660Z",
     "shell.execute_reply": "2023-01-20T15:01:15.152748Z"
    },
    "papermill": {
     "duration": 0.035576,
     "end_time": "2023-01-20T15:01:15.156336",
     "exception": false,
     "start_time": "2023-01-20T15:01:15.120760",
     "status": "completed"
    },
    "tags": []
   },
   "outputs": [],
   "source": [
    "member_bike_count_group = member_bike_count.groupby('member_casual')\n",
    "member_bike_count['percentage'] = member_bike_count_group['ride_id'].apply(lambda x: round(x / x.sum() * 100,1))"
   ]
  },
  {
   "cell_type": "code",
   "execution_count": 18,
   "id": "8d40616e",
   "metadata": {
    "execution": {
     "iopub.execute_input": "2023-01-20T15:01:15.196839Z",
     "iopub.status.busy": "2023-01-20T15:01:15.196204Z",
     "iopub.status.idle": "2023-01-20T15:01:15.202588Z",
     "shell.execute_reply": "2023-01-20T15:01:15.201544Z"
    },
    "papermill": {
     "duration": 0.029455,
     "end_time": "2023-01-20T15:01:15.204774",
     "exception": false,
     "start_time": "2023-01-20T15:01:15.175319",
     "status": "completed"
    },
    "tags": []
   },
   "outputs": [],
   "source": [
    "member_bike_count['percentage'] = member_bike_count['percentage'].astype(str) + '%'"
   ]
  },
  {
   "cell_type": "code",
   "execution_count": 19,
   "id": "453abbee",
   "metadata": {
    "execution": {
     "iopub.execute_input": "2023-01-20T15:01:15.245591Z",
     "iopub.status.busy": "2023-01-20T15:01:15.244877Z",
     "iopub.status.idle": "2023-01-20T15:01:16.376195Z",
     "shell.execute_reply": "2023-01-20T15:01:16.375176Z"
    },
    "papermill": {
     "duration": 1.154543,
     "end_time": "2023-01-20T15:01:16.378820",
     "exception": false,
     "start_time": "2023-01-20T15:01:15.224277",
     "status": "completed"
    },
    "tags": []
   },
   "outputs": [
    {
     "data": {
      "text/html": [
       "        <script type=\"text/javascript\">\n",
       "        window.PlotlyConfig = {MathJaxConfig: 'local'};\n",
       "        if (window.MathJax && window.MathJax.Hub && window.MathJax.Hub.Config) {window.MathJax.Hub.Config({SVG: {font: \"STIX-Web\"}});}\n",
       "        if (typeof require !== 'undefined') {\n",
       "        require.undef(\"plotly\");\n",
       "        requirejs.config({\n",
       "            paths: {\n",
       "                'plotly': ['https://cdn.plot.ly/plotly-2.14.0.min']\n",
       "            }\n",
       "        });\n",
       "        require(['plotly'], function(Plotly) {\n",
       "            window._Plotly = Plotly;\n",
       "        });\n",
       "        }\n",
       "        </script>\n",
       "        "
      ]
     },
     "metadata": {},
     "output_type": "display_data"
    },
    {
     "data": {
      "text/html": [
       "<div>                            <div id=\"38969363-e95d-433b-90cf-859a3659a7fc\" class=\"plotly-graph-div\" style=\"height:525px; width:100%;\"></div>            <script type=\"text/javascript\">                require([\"plotly\"], function(Plotly) {                    window.PLOTLYENV=window.PLOTLYENV || {};                                    if (document.getElementById(\"38969363-e95d-433b-90cf-859a3659a7fc\")) {                    Plotly.newPlot(                        \"38969363-e95d-433b-90cf-859a3659a7fc\",                        [{\"alignmentgroup\":\"True\",\"hovertemplate\":\"rideable_type=classic_bike<br>member_casual=%{x}<br>ride_id=%{y}<br>percentage=%{text}<extra></extra>\",\"legendgroup\":\"classic_bike\",\"marker\":{\"color\":\"#636efa\",\"pattern\":{\"shape\":\"\"}},\"name\":\"classic_bike\",\"offsetgroup\":\"classic_bike\",\"orientation\":\"v\",\"showlegend\":true,\"text\":[\"49.4%\",\"62.7%\"],\"textposition\":\"auto\",\"x\":[\"casual\",\"member\"],\"xaxis\":\"x\",\"y\":[1257643,1993048],\"yaxis\":\"y\",\"type\":\"bar\",\"textangle\":0},{\"alignmentgroup\":\"True\",\"hovertemplate\":\"rideable_type=docked_bike<br>member_casual=%{x}<br>ride_id=%{y}<br>percentage=%{text}<extra></extra>\",\"legendgroup\":\"docked_bike\",\"marker\":{\"color\":\"#EF553B\",\"pattern\":{\"shape\":\"\"}},\"name\":\"docked_bike\",\"offsetgroup\":\"docked_bike\",\"orientation\":\"v\",\"showlegend\":true,\"text\":[\"11.9%\"],\"textposition\":\"auto\",\"x\":[\"casual\"],\"xaxis\":\"x\",\"y\":[303989],\"yaxis\":\"y\",\"type\":\"bar\",\"textangle\":0},{\"alignmentgroup\":\"True\",\"hovertemplate\":\"rideable_type=electric_bike<br>member_casual=%{x}<br>ride_id=%{y}<br>percentage=%{text}<extra></extra>\",\"legendgroup\":\"electric_bike\",\"marker\":{\"color\":\"#00cc96\",\"pattern\":{\"shape\":\"\"}},\"name\":\"electric_bike\",\"offsetgroup\":\"electric_bike\",\"orientation\":\"v\",\"showlegend\":true,\"text\":[\"38.7%\",\"37.3%\"],\"textposition\":\"auto\",\"x\":[\"casual\",\"member\"],\"xaxis\":\"x\",\"y\":[984910,1183942],\"yaxis\":\"y\",\"type\":\"bar\",\"textangle\":0}],                        {\"template\":{\"data\":{\"histogram2dcontour\":[{\"type\":\"histogram2dcontour\",\"colorbar\":{\"outlinewidth\":0,\"ticks\":\"\"},\"colorscale\":[[0.0,\"#0d0887\"],[0.1111111111111111,\"#46039f\"],[0.2222222222222222,\"#7201a8\"],[0.3333333333333333,\"#9c179e\"],[0.4444444444444444,\"#bd3786\"],[0.5555555555555556,\"#d8576b\"],[0.6666666666666666,\"#ed7953\"],[0.7777777777777778,\"#fb9f3a\"],[0.8888888888888888,\"#fdca26\"],[1.0,\"#f0f921\"]]}],\"choropleth\":[{\"type\":\"choropleth\",\"colorbar\":{\"outlinewidth\":0,\"ticks\":\"\"}}],\"histogram2d\":[{\"type\":\"histogram2d\",\"colorbar\":{\"outlinewidth\":0,\"ticks\":\"\"},\"colorscale\":[[0.0,\"#0d0887\"],[0.1111111111111111,\"#46039f\"],[0.2222222222222222,\"#7201a8\"],[0.3333333333333333,\"#9c179e\"],[0.4444444444444444,\"#bd3786\"],[0.5555555555555556,\"#d8576b\"],[0.6666666666666666,\"#ed7953\"],[0.7777777777777778,\"#fb9f3a\"],[0.8888888888888888,\"#fdca26\"],[1.0,\"#f0f921\"]]}],\"heatmap\":[{\"type\":\"heatmap\",\"colorbar\":{\"outlinewidth\":0,\"ticks\":\"\"},\"colorscale\":[[0.0,\"#0d0887\"],[0.1111111111111111,\"#46039f\"],[0.2222222222222222,\"#7201a8\"],[0.3333333333333333,\"#9c179e\"],[0.4444444444444444,\"#bd3786\"],[0.5555555555555556,\"#d8576b\"],[0.6666666666666666,\"#ed7953\"],[0.7777777777777778,\"#fb9f3a\"],[0.8888888888888888,\"#fdca26\"],[1.0,\"#f0f921\"]]}],\"heatmapgl\":[{\"type\":\"heatmapgl\",\"colorbar\":{\"outlinewidth\":0,\"ticks\":\"\"},\"colorscale\":[[0.0,\"#0d0887\"],[0.1111111111111111,\"#46039f\"],[0.2222222222222222,\"#7201a8\"],[0.3333333333333333,\"#9c179e\"],[0.4444444444444444,\"#bd3786\"],[0.5555555555555556,\"#d8576b\"],[0.6666666666666666,\"#ed7953\"],[0.7777777777777778,\"#fb9f3a\"],[0.8888888888888888,\"#fdca26\"],[1.0,\"#f0f921\"]]}],\"contourcarpet\":[{\"type\":\"contourcarpet\",\"colorbar\":{\"outlinewidth\":0,\"ticks\":\"\"}}],\"contour\":[{\"type\":\"contour\",\"colorbar\":{\"outlinewidth\":0,\"ticks\":\"\"},\"colorscale\":[[0.0,\"#0d0887\"],[0.1111111111111111,\"#46039f\"],[0.2222222222222222,\"#7201a8\"],[0.3333333333333333,\"#9c179e\"],[0.4444444444444444,\"#bd3786\"],[0.5555555555555556,\"#d8576b\"],[0.6666666666666666,\"#ed7953\"],[0.7777777777777778,\"#fb9f3a\"],[0.8888888888888888,\"#fdca26\"],[1.0,\"#f0f921\"]]}],\"surface\":[{\"type\":\"surface\",\"colorbar\":{\"outlinewidth\":0,\"ticks\":\"\"},\"colorscale\":[[0.0,\"#0d0887\"],[0.1111111111111111,\"#46039f\"],[0.2222222222222222,\"#7201a8\"],[0.3333333333333333,\"#9c179e\"],[0.4444444444444444,\"#bd3786\"],[0.5555555555555556,\"#d8576b\"],[0.6666666666666666,\"#ed7953\"],[0.7777777777777778,\"#fb9f3a\"],[0.8888888888888888,\"#fdca26\"],[1.0,\"#f0f921\"]]}],\"mesh3d\":[{\"type\":\"mesh3d\",\"colorbar\":{\"outlinewidth\":0,\"ticks\":\"\"}}],\"scatter\":[{\"fillpattern\":{\"fillmode\":\"overlay\",\"size\":10,\"solidity\":0.2},\"type\":\"scatter\"}],\"parcoords\":[{\"type\":\"parcoords\",\"line\":{\"colorbar\":{\"outlinewidth\":0,\"ticks\":\"\"}}}],\"scatterpolargl\":[{\"type\":\"scatterpolargl\",\"marker\":{\"colorbar\":{\"outlinewidth\":0,\"ticks\":\"\"}}}],\"bar\":[{\"error_x\":{\"color\":\"#2a3f5f\"},\"error_y\":{\"color\":\"#2a3f5f\"},\"marker\":{\"line\":{\"color\":\"#E5ECF6\",\"width\":0.5},\"pattern\":{\"fillmode\":\"overlay\",\"size\":10,\"solidity\":0.2}},\"type\":\"bar\"}],\"scattergeo\":[{\"type\":\"scattergeo\",\"marker\":{\"colorbar\":{\"outlinewidth\":0,\"ticks\":\"\"}}}],\"scatterpolar\":[{\"type\":\"scatterpolar\",\"marker\":{\"colorbar\":{\"outlinewidth\":0,\"ticks\":\"\"}}}],\"histogram\":[{\"marker\":{\"pattern\":{\"fillmode\":\"overlay\",\"size\":10,\"solidity\":0.2}},\"type\":\"histogram\"}],\"scattergl\":[{\"type\":\"scattergl\",\"marker\":{\"colorbar\":{\"outlinewidth\":0,\"ticks\":\"\"}}}],\"scatter3d\":[{\"type\":\"scatter3d\",\"line\":{\"colorbar\":{\"outlinewidth\":0,\"ticks\":\"\"}},\"marker\":{\"colorbar\":{\"outlinewidth\":0,\"ticks\":\"\"}}}],\"scattermapbox\":[{\"type\":\"scattermapbox\",\"marker\":{\"colorbar\":{\"outlinewidth\":0,\"ticks\":\"\"}}}],\"scatterternary\":[{\"type\":\"scatterternary\",\"marker\":{\"colorbar\":{\"outlinewidth\":0,\"ticks\":\"\"}}}],\"scattercarpet\":[{\"type\":\"scattercarpet\",\"marker\":{\"colorbar\":{\"outlinewidth\":0,\"ticks\":\"\"}}}],\"carpet\":[{\"aaxis\":{\"endlinecolor\":\"#2a3f5f\",\"gridcolor\":\"white\",\"linecolor\":\"white\",\"minorgridcolor\":\"white\",\"startlinecolor\":\"#2a3f5f\"},\"baxis\":{\"endlinecolor\":\"#2a3f5f\",\"gridcolor\":\"white\",\"linecolor\":\"white\",\"minorgridcolor\":\"white\",\"startlinecolor\":\"#2a3f5f\"},\"type\":\"carpet\"}],\"table\":[{\"cells\":{\"fill\":{\"color\":\"#EBF0F8\"},\"line\":{\"color\":\"white\"}},\"header\":{\"fill\":{\"color\":\"#C8D4E3\"},\"line\":{\"color\":\"white\"}},\"type\":\"table\"}],\"barpolar\":[{\"marker\":{\"line\":{\"color\":\"#E5ECF6\",\"width\":0.5},\"pattern\":{\"fillmode\":\"overlay\",\"size\":10,\"solidity\":0.2}},\"type\":\"barpolar\"}],\"pie\":[{\"automargin\":true,\"type\":\"pie\"}]},\"layout\":{\"autotypenumbers\":\"strict\",\"colorway\":[\"#636efa\",\"#EF553B\",\"#00cc96\",\"#ab63fa\",\"#FFA15A\",\"#19d3f3\",\"#FF6692\",\"#B6E880\",\"#FF97FF\",\"#FECB52\"],\"font\":{\"color\":\"#2a3f5f\"},\"hovermode\":\"closest\",\"hoverlabel\":{\"align\":\"left\"},\"paper_bgcolor\":\"white\",\"plot_bgcolor\":\"#E5ECF6\",\"polar\":{\"bgcolor\":\"#E5ECF6\",\"angularaxis\":{\"gridcolor\":\"white\",\"linecolor\":\"white\",\"ticks\":\"\"},\"radialaxis\":{\"gridcolor\":\"white\",\"linecolor\":\"white\",\"ticks\":\"\"}},\"ternary\":{\"bgcolor\":\"#E5ECF6\",\"aaxis\":{\"gridcolor\":\"white\",\"linecolor\":\"white\",\"ticks\":\"\"},\"baxis\":{\"gridcolor\":\"white\",\"linecolor\":\"white\",\"ticks\":\"\"},\"caxis\":{\"gridcolor\":\"white\",\"linecolor\":\"white\",\"ticks\":\"\"}},\"coloraxis\":{\"colorbar\":{\"outlinewidth\":0,\"ticks\":\"\"}},\"colorscale\":{\"sequential\":[[0.0,\"#0d0887\"],[0.1111111111111111,\"#46039f\"],[0.2222222222222222,\"#7201a8\"],[0.3333333333333333,\"#9c179e\"],[0.4444444444444444,\"#bd3786\"],[0.5555555555555556,\"#d8576b\"],[0.6666666666666666,\"#ed7953\"],[0.7777777777777778,\"#fb9f3a\"],[0.8888888888888888,\"#fdca26\"],[1.0,\"#f0f921\"]],\"sequentialminus\":[[0.0,\"#0d0887\"],[0.1111111111111111,\"#46039f\"],[0.2222222222222222,\"#7201a8\"],[0.3333333333333333,\"#9c179e\"],[0.4444444444444444,\"#bd3786\"],[0.5555555555555556,\"#d8576b\"],[0.6666666666666666,\"#ed7953\"],[0.7777777777777778,\"#fb9f3a\"],[0.8888888888888888,\"#fdca26\"],[1.0,\"#f0f921\"]],\"diverging\":[[0,\"#8e0152\"],[0.1,\"#c51b7d\"],[0.2,\"#de77ae\"],[0.3,\"#f1b6da\"],[0.4,\"#fde0ef\"],[0.5,\"#f7f7f7\"],[0.6,\"#e6f5d0\"],[0.7,\"#b8e186\"],[0.8,\"#7fbc41\"],[0.9,\"#4d9221\"],[1,\"#276419\"]]},\"xaxis\":{\"gridcolor\":\"white\",\"linecolor\":\"white\",\"ticks\":\"\",\"title\":{\"standoff\":15},\"zerolinecolor\":\"white\",\"automargin\":true,\"zerolinewidth\":2},\"yaxis\":{\"gridcolor\":\"white\",\"linecolor\":\"white\",\"ticks\":\"\",\"title\":{\"standoff\":15},\"zerolinecolor\":\"white\",\"automargin\":true,\"zerolinewidth\":2},\"scene\":{\"xaxis\":{\"backgroundcolor\":\"#E5ECF6\",\"gridcolor\":\"white\",\"linecolor\":\"white\",\"showbackground\":true,\"ticks\":\"\",\"zerolinecolor\":\"white\",\"gridwidth\":2},\"yaxis\":{\"backgroundcolor\":\"#E5ECF6\",\"gridcolor\":\"white\",\"linecolor\":\"white\",\"showbackground\":true,\"ticks\":\"\",\"zerolinecolor\":\"white\",\"gridwidth\":2},\"zaxis\":{\"backgroundcolor\":\"#E5ECF6\",\"gridcolor\":\"white\",\"linecolor\":\"white\",\"showbackground\":true,\"ticks\":\"\",\"zerolinecolor\":\"white\",\"gridwidth\":2}},\"shapedefaults\":{\"line\":{\"color\":\"#2a3f5f\"}},\"annotationdefaults\":{\"arrowcolor\":\"#2a3f5f\",\"arrowhead\":0,\"arrowwidth\":1},\"geo\":{\"bgcolor\":\"white\",\"landcolor\":\"#E5ECF6\",\"subunitcolor\":\"white\",\"showland\":true,\"showlakes\":true,\"lakecolor\":\"white\"},\"title\":{\"x\":0.05},\"mapbox\":{\"style\":\"light\"}}},\"xaxis\":{\"anchor\":\"y\",\"domain\":[0.0,1.0],\"title\":{\"text\":\"member_casual\"}},\"yaxis\":{\"anchor\":\"x\",\"domain\":[0.0,1.0],\"title\":{\"text\":\"ride_id\"}},\"legend\":{\"title\":{\"text\":\"rideable_type\"},\"tracegroupgap\":0},\"margin\":{\"t\":60},\"barmode\":\"group\"},                        {\"responsive\": true}                    ).then(function(){\n",
       "                            \n",
       "var gd = document.getElementById('38969363-e95d-433b-90cf-859a3659a7fc');\n",
       "var x = new MutationObserver(function (mutations, observer) {{\n",
       "        var display = window.getComputedStyle(gd).display;\n",
       "        if (!display || display === 'none') {{\n",
       "            console.log([gd, 'removed!']);\n",
       "            Plotly.purge(gd);\n",
       "            observer.disconnect();\n",
       "        }}\n",
       "}});\n",
       "\n",
       "// Listen for the removal of the full notebook cells\n",
       "var notebookContainer = gd.closest('#notebook-container');\n",
       "if (notebookContainer) {{\n",
       "    x.observe(notebookContainer, {childList: true});\n",
       "}}\n",
       "\n",
       "// Listen for the clearing of the current output cell\n",
       "var outputEl = gd.closest('.output');\n",
       "if (outputEl) {{\n",
       "    x.observe(outputEl, {childList: true});\n",
       "}}\n",
       "\n",
       "                        })                };                });            </script>        </div>"
      ]
     },
     "metadata": {},
     "output_type": "display_data"
    }
   ],
   "source": [
    "fig = px.bar(member_bike_count, x = 'member_casual', \n",
    "            y = 'ride_id', color = 'rideable_type',\n",
    "            barmode='group', text = 'percentage')\n",
    "fig.update_traces(textangle=0)"
   ]
  },
  {
   "cell_type": "markdown",
   "id": "93d74034",
   "metadata": {
    "papermill": {
     "duration": 0.018656,
     "end_time": "2023-01-20T15:01:16.416862",
     "exception": false,
     "start_time": "2023-01-20T15:01:16.398206",
     "status": "completed"
    },
    "tags": []
   },
   "source": [
    "Both kind of users ride classic bikes more frequently. \n",
    "The proportions are nevertheless different: members tend to use much more clasic bikes than electric ones (62.7% vs 37.3%), whereas this difference is smaller for casual riders (49.4% vs 38.7%). "
   ]
  },
  {
   "cell_type": "markdown",
   "id": "bcaf5ce9",
   "metadata": {
    "papermill": {
     "duration": 0.018834,
     "end_time": "2023-01-20T15:01:16.455983",
     "exception": false,
     "start_time": "2023-01-20T15:01:16.437149",
     "status": "completed"
    },
    "tags": []
   },
   "source": [
    "**INFO 2:** Members opt for classic bikes much more than casual riders (who use a lot of electric and docked bikes). "
   ]
  },
  {
   "cell_type": "markdown",
   "id": "b473839f",
   "metadata": {
    "papermill": {
     "duration": 0.019366,
     "end_time": "2023-01-20T15:01:16.495402",
     "exception": false,
     "start_time": "2023-01-20T15:01:16.476036",
     "status": "completed"
    },
    "tags": []
   },
   "source": [
    "# 4.3 WHEN?\n",
    "\n",
    "# 4.3.1. Day of the week\n",
    "\n",
    "Do casual riders and annual members ride on the same days?"
   ]
  },
  {
   "cell_type": "code",
   "execution_count": 20,
   "id": "0934e586",
   "metadata": {
    "execution": {
     "iopub.execute_input": "2023-01-20T15:01:16.535769Z",
     "iopub.status.busy": "2023-01-20T15:01:16.535386Z",
     "iopub.status.idle": "2023-01-20T15:01:18.563882Z",
     "shell.execute_reply": "2023-01-20T15:01:18.562658Z"
    },
    "papermill": {
     "duration": 2.051684,
     "end_time": "2023-01-20T15:01:18.566571",
     "exception": false,
     "start_time": "2023-01-20T15:01:16.514887",
     "status": "completed"
    },
    "tags": []
   },
   "outputs": [],
   "source": [
    "member_day = pd.pivot_table(data, values = 'ride_id', index = 'day', columns = 'member_casual', aggfunc='count')"
   ]
  },
  {
   "cell_type": "code",
   "execution_count": 21,
   "id": "8cc31ebf",
   "metadata": {
    "execution": {
     "iopub.execute_input": "2023-01-20T15:01:18.608557Z",
     "iopub.status.busy": "2023-01-20T15:01:18.607982Z",
     "iopub.status.idle": "2023-01-20T15:01:18.614247Z",
     "shell.execute_reply": "2023-01-20T15:01:18.613063Z"
    },
    "papermill": {
     "duration": 0.030285,
     "end_time": "2023-01-20T15:01:18.616494",
     "exception": false,
     "start_time": "2023-01-20T15:01:18.586209",
     "status": "completed"
    },
    "tags": []
   },
   "outputs": [],
   "source": [
    "day_order = ['Monday', 'Tuesday', 'Wednesday', 'Thursday', 'Friday', 'Saturday', 'Sunday']\n",
    "member_day = member_day.reindex(index=day_order)"
   ]
  },
  {
   "cell_type": "code",
   "execution_count": 22,
   "id": "45ed79ce",
   "metadata": {
    "execution": {
     "iopub.execute_input": "2023-01-20T15:01:18.657315Z",
     "iopub.status.busy": "2023-01-20T15:01:18.656262Z",
     "iopub.status.idle": "2023-01-20T15:01:18.754530Z",
     "shell.execute_reply": "2023-01-20T15:01:18.753531Z"
    },
    "papermill": {
     "duration": 0.121558,
     "end_time": "2023-01-20T15:01:18.757159",
     "exception": false,
     "start_time": "2023-01-20T15:01:18.635601",
     "status": "completed"
    },
    "tags": []
   },
   "outputs": [
    {
     "data": {
      "text/html": [
       "<div>                            <div id=\"96794a60-dca4-4050-a289-76f179bf162b\" class=\"plotly-graph-div\" style=\"height:525px; width:100%;\"></div>            <script type=\"text/javascript\">                require([\"plotly\"], function(Plotly) {                    window.PLOTLYENV=window.PLOTLYENV || {};                                    if (document.getElementById(\"96794a60-dca4-4050-a289-76f179bf162b\")) {                    Plotly.newPlot(                        \"96794a60-dca4-4050-a289-76f179bf162b\",                        [{\"hovertemplate\":\"member_casual=casual<br>day=%{x}<br>value=%{y}<extra></extra>\",\"legendgroup\":\"casual\",\"line\":{\"color\":\"#636efa\",\"dash\":\"solid\"},\"marker\":{\"symbol\":\"circle\"},\"mode\":\"lines\",\"name\":\"casual\",\"orientation\":\"v\",\"showlegend\":true,\"x\":[\"Monday\",\"Tuesday\",\"Wednesday\",\"Thursday\",\"Friday\",\"Saturday\",\"Sunday\"],\"xaxis\":\"x\",\"y\":[292996,276375,286402,293632,364282,550015,482840],\"yaxis\":\"y\",\"type\":\"scatter\"},{\"hovertemplate\":\"member_casual=member<br>day=%{x}<br>value=%{y}<extra></extra>\",\"legendgroup\":\"member\",\"line\":{\"color\":\"#EF553B\",\"dash\":\"solid\"},\"marker\":{\"symbol\":\"circle\"},\"mode\":\"lines\",\"name\":\"member\",\"orientation\":\"v\",\"showlegend\":true,\"x\":[\"Monday\",\"Tuesday\",\"Wednesday\",\"Thursday\",\"Friday\",\"Saturday\",\"Sunday\"],\"xaxis\":\"x\",\"y\":[439435,490099,499936,475334,453113,431331,387742],\"yaxis\":\"y\",\"type\":\"scatter\"}],                        {\"template\":{\"data\":{\"histogram2dcontour\":[{\"type\":\"histogram2dcontour\",\"colorbar\":{\"outlinewidth\":0,\"ticks\":\"\"},\"colorscale\":[[0.0,\"#0d0887\"],[0.1111111111111111,\"#46039f\"],[0.2222222222222222,\"#7201a8\"],[0.3333333333333333,\"#9c179e\"],[0.4444444444444444,\"#bd3786\"],[0.5555555555555556,\"#d8576b\"],[0.6666666666666666,\"#ed7953\"],[0.7777777777777778,\"#fb9f3a\"],[0.8888888888888888,\"#fdca26\"],[1.0,\"#f0f921\"]]}],\"choropleth\":[{\"type\":\"choropleth\",\"colorbar\":{\"outlinewidth\":0,\"ticks\":\"\"}}],\"histogram2d\":[{\"type\":\"histogram2d\",\"colorbar\":{\"outlinewidth\":0,\"ticks\":\"\"},\"colorscale\":[[0.0,\"#0d0887\"],[0.1111111111111111,\"#46039f\"],[0.2222222222222222,\"#7201a8\"],[0.3333333333333333,\"#9c179e\"],[0.4444444444444444,\"#bd3786\"],[0.5555555555555556,\"#d8576b\"],[0.6666666666666666,\"#ed7953\"],[0.7777777777777778,\"#fb9f3a\"],[0.8888888888888888,\"#fdca26\"],[1.0,\"#f0f921\"]]}],\"heatmap\":[{\"type\":\"heatmap\",\"colorbar\":{\"outlinewidth\":0,\"ticks\":\"\"},\"colorscale\":[[0.0,\"#0d0887\"],[0.1111111111111111,\"#46039f\"],[0.2222222222222222,\"#7201a8\"],[0.3333333333333333,\"#9c179e\"],[0.4444444444444444,\"#bd3786\"],[0.5555555555555556,\"#d8576b\"],[0.6666666666666666,\"#ed7953\"],[0.7777777777777778,\"#fb9f3a\"],[0.8888888888888888,\"#fdca26\"],[1.0,\"#f0f921\"]]}],\"heatmapgl\":[{\"type\":\"heatmapgl\",\"colorbar\":{\"outlinewidth\":0,\"ticks\":\"\"},\"colorscale\":[[0.0,\"#0d0887\"],[0.1111111111111111,\"#46039f\"],[0.2222222222222222,\"#7201a8\"],[0.3333333333333333,\"#9c179e\"],[0.4444444444444444,\"#bd3786\"],[0.5555555555555556,\"#d8576b\"],[0.6666666666666666,\"#ed7953\"],[0.7777777777777778,\"#fb9f3a\"],[0.8888888888888888,\"#fdca26\"],[1.0,\"#f0f921\"]]}],\"contourcarpet\":[{\"type\":\"contourcarpet\",\"colorbar\":{\"outlinewidth\":0,\"ticks\":\"\"}}],\"contour\":[{\"type\":\"contour\",\"colorbar\":{\"outlinewidth\":0,\"ticks\":\"\"},\"colorscale\":[[0.0,\"#0d0887\"],[0.1111111111111111,\"#46039f\"],[0.2222222222222222,\"#7201a8\"],[0.3333333333333333,\"#9c179e\"],[0.4444444444444444,\"#bd3786\"],[0.5555555555555556,\"#d8576b\"],[0.6666666666666666,\"#ed7953\"],[0.7777777777777778,\"#fb9f3a\"],[0.8888888888888888,\"#fdca26\"],[1.0,\"#f0f921\"]]}],\"surface\":[{\"type\":\"surface\",\"colorbar\":{\"outlinewidth\":0,\"ticks\":\"\"},\"colorscale\":[[0.0,\"#0d0887\"],[0.1111111111111111,\"#46039f\"],[0.2222222222222222,\"#7201a8\"],[0.3333333333333333,\"#9c179e\"],[0.4444444444444444,\"#bd3786\"],[0.5555555555555556,\"#d8576b\"],[0.6666666666666666,\"#ed7953\"],[0.7777777777777778,\"#fb9f3a\"],[0.8888888888888888,\"#fdca26\"],[1.0,\"#f0f921\"]]}],\"mesh3d\":[{\"type\":\"mesh3d\",\"colorbar\":{\"outlinewidth\":0,\"ticks\":\"\"}}],\"scatter\":[{\"fillpattern\":{\"fillmode\":\"overlay\",\"size\":10,\"solidity\":0.2},\"type\":\"scatter\"}],\"parcoords\":[{\"type\":\"parcoords\",\"line\":{\"colorbar\":{\"outlinewidth\":0,\"ticks\":\"\"}}}],\"scatterpolargl\":[{\"type\":\"scatterpolargl\",\"marker\":{\"colorbar\":{\"outlinewidth\":0,\"ticks\":\"\"}}}],\"bar\":[{\"error_x\":{\"color\":\"#2a3f5f\"},\"error_y\":{\"color\":\"#2a3f5f\"},\"marker\":{\"line\":{\"color\":\"#E5ECF6\",\"width\":0.5},\"pattern\":{\"fillmode\":\"overlay\",\"size\":10,\"solidity\":0.2}},\"type\":\"bar\"}],\"scattergeo\":[{\"type\":\"scattergeo\",\"marker\":{\"colorbar\":{\"outlinewidth\":0,\"ticks\":\"\"}}}],\"scatterpolar\":[{\"type\":\"scatterpolar\",\"marker\":{\"colorbar\":{\"outlinewidth\":0,\"ticks\":\"\"}}}],\"histogram\":[{\"marker\":{\"pattern\":{\"fillmode\":\"overlay\",\"size\":10,\"solidity\":0.2}},\"type\":\"histogram\"}],\"scattergl\":[{\"type\":\"scattergl\",\"marker\":{\"colorbar\":{\"outlinewidth\":0,\"ticks\":\"\"}}}],\"scatter3d\":[{\"type\":\"scatter3d\",\"line\":{\"colorbar\":{\"outlinewidth\":0,\"ticks\":\"\"}},\"marker\":{\"colorbar\":{\"outlinewidth\":0,\"ticks\":\"\"}}}],\"scattermapbox\":[{\"type\":\"scattermapbox\",\"marker\":{\"colorbar\":{\"outlinewidth\":0,\"ticks\":\"\"}}}],\"scatterternary\":[{\"type\":\"scatterternary\",\"marker\":{\"colorbar\":{\"outlinewidth\":0,\"ticks\":\"\"}}}],\"scattercarpet\":[{\"type\":\"scattercarpet\",\"marker\":{\"colorbar\":{\"outlinewidth\":0,\"ticks\":\"\"}}}],\"carpet\":[{\"aaxis\":{\"endlinecolor\":\"#2a3f5f\",\"gridcolor\":\"white\",\"linecolor\":\"white\",\"minorgridcolor\":\"white\",\"startlinecolor\":\"#2a3f5f\"},\"baxis\":{\"endlinecolor\":\"#2a3f5f\",\"gridcolor\":\"white\",\"linecolor\":\"white\",\"minorgridcolor\":\"white\",\"startlinecolor\":\"#2a3f5f\"},\"type\":\"carpet\"}],\"table\":[{\"cells\":{\"fill\":{\"color\":\"#EBF0F8\"},\"line\":{\"color\":\"white\"}},\"header\":{\"fill\":{\"color\":\"#C8D4E3\"},\"line\":{\"color\":\"white\"}},\"type\":\"table\"}],\"barpolar\":[{\"marker\":{\"line\":{\"color\":\"#E5ECF6\",\"width\":0.5},\"pattern\":{\"fillmode\":\"overlay\",\"size\":10,\"solidity\":0.2}},\"type\":\"barpolar\"}],\"pie\":[{\"automargin\":true,\"type\":\"pie\"}]},\"layout\":{\"autotypenumbers\":\"strict\",\"colorway\":[\"#636efa\",\"#EF553B\",\"#00cc96\",\"#ab63fa\",\"#FFA15A\",\"#19d3f3\",\"#FF6692\",\"#B6E880\",\"#FF97FF\",\"#FECB52\"],\"font\":{\"color\":\"#2a3f5f\"},\"hovermode\":\"closest\",\"hoverlabel\":{\"align\":\"left\"},\"paper_bgcolor\":\"white\",\"plot_bgcolor\":\"#E5ECF6\",\"polar\":{\"bgcolor\":\"#E5ECF6\",\"angularaxis\":{\"gridcolor\":\"white\",\"linecolor\":\"white\",\"ticks\":\"\"},\"radialaxis\":{\"gridcolor\":\"white\",\"linecolor\":\"white\",\"ticks\":\"\"}},\"ternary\":{\"bgcolor\":\"#E5ECF6\",\"aaxis\":{\"gridcolor\":\"white\",\"linecolor\":\"white\",\"ticks\":\"\"},\"baxis\":{\"gridcolor\":\"white\",\"linecolor\":\"white\",\"ticks\":\"\"},\"caxis\":{\"gridcolor\":\"white\",\"linecolor\":\"white\",\"ticks\":\"\"}},\"coloraxis\":{\"colorbar\":{\"outlinewidth\":0,\"ticks\":\"\"}},\"colorscale\":{\"sequential\":[[0.0,\"#0d0887\"],[0.1111111111111111,\"#46039f\"],[0.2222222222222222,\"#7201a8\"],[0.3333333333333333,\"#9c179e\"],[0.4444444444444444,\"#bd3786\"],[0.5555555555555556,\"#d8576b\"],[0.6666666666666666,\"#ed7953\"],[0.7777777777777778,\"#fb9f3a\"],[0.8888888888888888,\"#fdca26\"],[1.0,\"#f0f921\"]],\"sequentialminus\":[[0.0,\"#0d0887\"],[0.1111111111111111,\"#46039f\"],[0.2222222222222222,\"#7201a8\"],[0.3333333333333333,\"#9c179e\"],[0.4444444444444444,\"#bd3786\"],[0.5555555555555556,\"#d8576b\"],[0.6666666666666666,\"#ed7953\"],[0.7777777777777778,\"#fb9f3a\"],[0.8888888888888888,\"#fdca26\"],[1.0,\"#f0f921\"]],\"diverging\":[[0,\"#8e0152\"],[0.1,\"#c51b7d\"],[0.2,\"#de77ae\"],[0.3,\"#f1b6da\"],[0.4,\"#fde0ef\"],[0.5,\"#f7f7f7\"],[0.6,\"#e6f5d0\"],[0.7,\"#b8e186\"],[0.8,\"#7fbc41\"],[0.9,\"#4d9221\"],[1,\"#276419\"]]},\"xaxis\":{\"gridcolor\":\"white\",\"linecolor\":\"white\",\"ticks\":\"\",\"title\":{\"standoff\":15},\"zerolinecolor\":\"white\",\"automargin\":true,\"zerolinewidth\":2},\"yaxis\":{\"gridcolor\":\"white\",\"linecolor\":\"white\",\"ticks\":\"\",\"title\":{\"standoff\":15},\"zerolinecolor\":\"white\",\"automargin\":true,\"zerolinewidth\":2},\"scene\":{\"xaxis\":{\"backgroundcolor\":\"#E5ECF6\",\"gridcolor\":\"white\",\"linecolor\":\"white\",\"showbackground\":true,\"ticks\":\"\",\"zerolinecolor\":\"white\",\"gridwidth\":2},\"yaxis\":{\"backgroundcolor\":\"#E5ECF6\",\"gridcolor\":\"white\",\"linecolor\":\"white\",\"showbackground\":true,\"ticks\":\"\",\"zerolinecolor\":\"white\",\"gridwidth\":2},\"zaxis\":{\"backgroundcolor\":\"#E5ECF6\",\"gridcolor\":\"white\",\"linecolor\":\"white\",\"showbackground\":true,\"ticks\":\"\",\"zerolinecolor\":\"white\",\"gridwidth\":2}},\"shapedefaults\":{\"line\":{\"color\":\"#2a3f5f\"}},\"annotationdefaults\":{\"arrowcolor\":\"#2a3f5f\",\"arrowhead\":0,\"arrowwidth\":1},\"geo\":{\"bgcolor\":\"white\",\"landcolor\":\"#E5ECF6\",\"subunitcolor\":\"white\",\"showland\":true,\"showlakes\":true,\"lakecolor\":\"white\"},\"title\":{\"x\":0.05},\"mapbox\":{\"style\":\"light\"}}},\"xaxis\":{\"anchor\":\"y\",\"domain\":[0.0,1.0],\"title\":{\"text\":\"day\"}},\"yaxis\":{\"anchor\":\"x\",\"domain\":[0.0,1.0],\"title\":{\"text\":\"value\"}},\"legend\":{\"title\":{\"text\":\"member_casual\"},\"tracegroupgap\":0},\"margin\":{\"t\":60}},                        {\"responsive\": true}                    ).then(function(){\n",
       "                            \n",
       "var gd = document.getElementById('96794a60-dca4-4050-a289-76f179bf162b');\n",
       "var x = new MutationObserver(function (mutations, observer) {{\n",
       "        var display = window.getComputedStyle(gd).display;\n",
       "        if (!display || display === 'none') {{\n",
       "            console.log([gd, 'removed!']);\n",
       "            Plotly.purge(gd);\n",
       "            observer.disconnect();\n",
       "        }}\n",
       "}});\n",
       "\n",
       "// Listen for the removal of the full notebook cells\n",
       "var notebookContainer = gd.closest('#notebook-container');\n",
       "if (notebookContainer) {{\n",
       "    x.observe(notebookContainer, {childList: true});\n",
       "}}\n",
       "\n",
       "// Listen for the clearing of the current output cell\n",
       "var outputEl = gd.closest('.output');\n",
       "if (outputEl) {{\n",
       "    x.observe(outputEl, {childList: true});\n",
       "}}\n",
       "\n",
       "                        })                };                });            </script>        </div>"
      ]
     },
     "metadata": {},
     "output_type": "display_data"
    }
   ],
   "source": [
    "px.line(member_day)"
   ]
  },
  {
   "cell_type": "markdown",
   "id": "7b972fc4",
   "metadata": {
    "papermill": {
     "duration": 0.019658,
     "end_time": "2023-01-20T15:01:18.796413",
     "exception": false,
     "start_time": "2023-01-20T15:01:18.776755",
     "status": "completed"
    },
    "tags": []
   },
   "source": [
    "**INFO 3:** Members bike more on weekdays (mondays to fridays), wheras casual's activity peaks on weekends.  "
   ]
  },
  {
   "cell_type": "markdown",
   "id": "a85bb71a",
   "metadata": {
    "papermill": {
     "duration": 0.019064,
     "end_time": "2023-01-20T15:01:18.836380",
     "exception": false,
     "start_time": "2023-01-20T15:01:18.817316",
     "status": "completed"
    },
    "tags": []
   },
   "source": [
    "# 4.3.2. Month of the year"
   ]
  },
  {
   "cell_type": "code",
   "execution_count": 23,
   "id": "fa093b2c",
   "metadata": {
    "execution": {
     "iopub.execute_input": "2023-01-20T15:01:18.879270Z",
     "iopub.status.busy": "2023-01-20T15:01:18.878872Z",
     "iopub.status.idle": "2023-01-20T15:01:20.829161Z",
     "shell.execute_reply": "2023-01-20T15:01:20.828244Z"
    },
    "papermill": {
     "duration": 1.975646,
     "end_time": "2023-01-20T15:01:20.831854",
     "exception": false,
     "start_time": "2023-01-20T15:01:18.856208",
     "status": "completed"
    },
    "tags": []
   },
   "outputs": [],
   "source": [
    "#month\n",
    "member_month = pd.pivot_table(data, values = 'ride_id', index = 'month', columns = 'member_casual', aggfunc='count')\n",
    "month_order =  ['January', 'February', 'March', 'April', 'May', 'June', 'July',\n",
    "               'August', 'September', 'October', 'November', 'December']\n",
    "member_month = member_month.reindex(index=month_order)"
   ]
  },
  {
   "cell_type": "code",
   "execution_count": 24,
   "id": "8eacdcba",
   "metadata": {
    "execution": {
     "iopub.execute_input": "2023-01-20T15:01:20.875109Z",
     "iopub.status.busy": "2023-01-20T15:01:20.873875Z",
     "iopub.status.idle": "2023-01-20T15:01:20.948028Z",
     "shell.execute_reply": "2023-01-20T15:01:20.945630Z"
    },
    "papermill": {
     "duration": 0.098848,
     "end_time": "2023-01-20T15:01:20.950958",
     "exception": false,
     "start_time": "2023-01-20T15:01:20.852110",
     "status": "completed"
    },
    "tags": []
   },
   "outputs": [
    {
     "data": {
      "text/html": [
       "<div>                            <div id=\"2e3eb22b-af8c-452d-aa4f-a733aaa61d1a\" class=\"plotly-graph-div\" style=\"height:525px; width:100%;\"></div>            <script type=\"text/javascript\">                require([\"plotly\"], function(Plotly) {                    window.PLOTLYENV=window.PLOTLYENV || {};                                    if (document.getElementById(\"2e3eb22b-af8c-452d-aa4f-a733aaa61d1a\")) {                    Plotly.newPlot(                        \"2e3eb22b-af8c-452d-aa4f-a733aaa61d1a\",                        [{\"hovertemplate\":\"member_casual=casual<br>month=%{x}<br>value=%{y}<extra></extra>\",\"legendgroup\":\"casual\",\"line\":{\"color\":\"#636efa\",\"dash\":\"solid\"},\"marker\":{\"symbol\":\"circle\"},\"mode\":\"markers+lines\",\"name\":\"casual\",\"orientation\":\"v\",\"showlegend\":true,\"x\":[\"January\",\"February\",\"March\",\"April\",\"May\",\"June\",\"July\",\"August\",\"September\",\"October\",\"November\",\"December\"],\"xaxis\":\"x\",\"y\":[18520,21416,89882,136601,256916,370681,442056,412671,363890,257242,106929,69738],\"yaxis\":\"y\",\"type\":\"scatter\"},{\"hovertemplate\":\"member_casual=member<br>month=%{x}<br>value=%{y}<extra></extra>\",\"legendgroup\":\"member\",\"line\":{\"color\":\"#EF553B\",\"dash\":\"solid\"},\"marker\":{\"symbol\":\"circle\"},\"mode\":\"markers+lines\",\"name\":\"member\",\"orientation\":\"v\",\"showlegend\":true,\"x\":[\"January\",\"February\",\"March\",\"April\",\"May\",\"June\",\"July\",\"August\",\"September\",\"October\",\"November\",\"December\"],\"xaxis\":\"x\",\"y\":[85250,94193,194160,200629,274717,358914,380354,391681,392257,373984,253049,177802],\"yaxis\":\"y\",\"type\":\"scatter\"}],                        {\"template\":{\"data\":{\"histogram2dcontour\":[{\"type\":\"histogram2dcontour\",\"colorbar\":{\"outlinewidth\":0,\"ticks\":\"\"},\"colorscale\":[[0.0,\"#0d0887\"],[0.1111111111111111,\"#46039f\"],[0.2222222222222222,\"#7201a8\"],[0.3333333333333333,\"#9c179e\"],[0.4444444444444444,\"#bd3786\"],[0.5555555555555556,\"#d8576b\"],[0.6666666666666666,\"#ed7953\"],[0.7777777777777778,\"#fb9f3a\"],[0.8888888888888888,\"#fdca26\"],[1.0,\"#f0f921\"]]}],\"choropleth\":[{\"type\":\"choropleth\",\"colorbar\":{\"outlinewidth\":0,\"ticks\":\"\"}}],\"histogram2d\":[{\"type\":\"histogram2d\",\"colorbar\":{\"outlinewidth\":0,\"ticks\":\"\"},\"colorscale\":[[0.0,\"#0d0887\"],[0.1111111111111111,\"#46039f\"],[0.2222222222222222,\"#7201a8\"],[0.3333333333333333,\"#9c179e\"],[0.4444444444444444,\"#bd3786\"],[0.5555555555555556,\"#d8576b\"],[0.6666666666666666,\"#ed7953\"],[0.7777777777777778,\"#fb9f3a\"],[0.8888888888888888,\"#fdca26\"],[1.0,\"#f0f921\"]]}],\"heatmap\":[{\"type\":\"heatmap\",\"colorbar\":{\"outlinewidth\":0,\"ticks\":\"\"},\"colorscale\":[[0.0,\"#0d0887\"],[0.1111111111111111,\"#46039f\"],[0.2222222222222222,\"#7201a8\"],[0.3333333333333333,\"#9c179e\"],[0.4444444444444444,\"#bd3786\"],[0.5555555555555556,\"#d8576b\"],[0.6666666666666666,\"#ed7953\"],[0.7777777777777778,\"#fb9f3a\"],[0.8888888888888888,\"#fdca26\"],[1.0,\"#f0f921\"]]}],\"heatmapgl\":[{\"type\":\"heatmapgl\",\"colorbar\":{\"outlinewidth\":0,\"ticks\":\"\"},\"colorscale\":[[0.0,\"#0d0887\"],[0.1111111111111111,\"#46039f\"],[0.2222222222222222,\"#7201a8\"],[0.3333333333333333,\"#9c179e\"],[0.4444444444444444,\"#bd3786\"],[0.5555555555555556,\"#d8576b\"],[0.6666666666666666,\"#ed7953\"],[0.7777777777777778,\"#fb9f3a\"],[0.8888888888888888,\"#fdca26\"],[1.0,\"#f0f921\"]]}],\"contourcarpet\":[{\"type\":\"contourcarpet\",\"colorbar\":{\"outlinewidth\":0,\"ticks\":\"\"}}],\"contour\":[{\"type\":\"contour\",\"colorbar\":{\"outlinewidth\":0,\"ticks\":\"\"},\"colorscale\":[[0.0,\"#0d0887\"],[0.1111111111111111,\"#46039f\"],[0.2222222222222222,\"#7201a8\"],[0.3333333333333333,\"#9c179e\"],[0.4444444444444444,\"#bd3786\"],[0.5555555555555556,\"#d8576b\"],[0.6666666666666666,\"#ed7953\"],[0.7777777777777778,\"#fb9f3a\"],[0.8888888888888888,\"#fdca26\"],[1.0,\"#f0f921\"]]}],\"surface\":[{\"type\":\"surface\",\"colorbar\":{\"outlinewidth\":0,\"ticks\":\"\"},\"colorscale\":[[0.0,\"#0d0887\"],[0.1111111111111111,\"#46039f\"],[0.2222222222222222,\"#7201a8\"],[0.3333333333333333,\"#9c179e\"],[0.4444444444444444,\"#bd3786\"],[0.5555555555555556,\"#d8576b\"],[0.6666666666666666,\"#ed7953\"],[0.7777777777777778,\"#fb9f3a\"],[0.8888888888888888,\"#fdca26\"],[1.0,\"#f0f921\"]]}],\"mesh3d\":[{\"type\":\"mesh3d\",\"colorbar\":{\"outlinewidth\":0,\"ticks\":\"\"}}],\"scatter\":[{\"fillpattern\":{\"fillmode\":\"overlay\",\"size\":10,\"solidity\":0.2},\"type\":\"scatter\"}],\"parcoords\":[{\"type\":\"parcoords\",\"line\":{\"colorbar\":{\"outlinewidth\":0,\"ticks\":\"\"}}}],\"scatterpolargl\":[{\"type\":\"scatterpolargl\",\"marker\":{\"colorbar\":{\"outlinewidth\":0,\"ticks\":\"\"}}}],\"bar\":[{\"error_x\":{\"color\":\"#2a3f5f\"},\"error_y\":{\"color\":\"#2a3f5f\"},\"marker\":{\"line\":{\"color\":\"#E5ECF6\",\"width\":0.5},\"pattern\":{\"fillmode\":\"overlay\",\"size\":10,\"solidity\":0.2}},\"type\":\"bar\"}],\"scattergeo\":[{\"type\":\"scattergeo\",\"marker\":{\"colorbar\":{\"outlinewidth\":0,\"ticks\":\"\"}}}],\"scatterpolar\":[{\"type\":\"scatterpolar\",\"marker\":{\"colorbar\":{\"outlinewidth\":0,\"ticks\":\"\"}}}],\"histogram\":[{\"marker\":{\"pattern\":{\"fillmode\":\"overlay\",\"size\":10,\"solidity\":0.2}},\"type\":\"histogram\"}],\"scattergl\":[{\"type\":\"scattergl\",\"marker\":{\"colorbar\":{\"outlinewidth\":0,\"ticks\":\"\"}}}],\"scatter3d\":[{\"type\":\"scatter3d\",\"line\":{\"colorbar\":{\"outlinewidth\":0,\"ticks\":\"\"}},\"marker\":{\"colorbar\":{\"outlinewidth\":0,\"ticks\":\"\"}}}],\"scattermapbox\":[{\"type\":\"scattermapbox\",\"marker\":{\"colorbar\":{\"outlinewidth\":0,\"ticks\":\"\"}}}],\"scatterternary\":[{\"type\":\"scatterternary\",\"marker\":{\"colorbar\":{\"outlinewidth\":0,\"ticks\":\"\"}}}],\"scattercarpet\":[{\"type\":\"scattercarpet\",\"marker\":{\"colorbar\":{\"outlinewidth\":0,\"ticks\":\"\"}}}],\"carpet\":[{\"aaxis\":{\"endlinecolor\":\"#2a3f5f\",\"gridcolor\":\"white\",\"linecolor\":\"white\",\"minorgridcolor\":\"white\",\"startlinecolor\":\"#2a3f5f\"},\"baxis\":{\"endlinecolor\":\"#2a3f5f\",\"gridcolor\":\"white\",\"linecolor\":\"white\",\"minorgridcolor\":\"white\",\"startlinecolor\":\"#2a3f5f\"},\"type\":\"carpet\"}],\"table\":[{\"cells\":{\"fill\":{\"color\":\"#EBF0F8\"},\"line\":{\"color\":\"white\"}},\"header\":{\"fill\":{\"color\":\"#C8D4E3\"},\"line\":{\"color\":\"white\"}},\"type\":\"table\"}],\"barpolar\":[{\"marker\":{\"line\":{\"color\":\"#E5ECF6\",\"width\":0.5},\"pattern\":{\"fillmode\":\"overlay\",\"size\":10,\"solidity\":0.2}},\"type\":\"barpolar\"}],\"pie\":[{\"automargin\":true,\"type\":\"pie\"}]},\"layout\":{\"autotypenumbers\":\"strict\",\"colorway\":[\"#636efa\",\"#EF553B\",\"#00cc96\",\"#ab63fa\",\"#FFA15A\",\"#19d3f3\",\"#FF6692\",\"#B6E880\",\"#FF97FF\",\"#FECB52\"],\"font\":{\"color\":\"#2a3f5f\"},\"hovermode\":\"closest\",\"hoverlabel\":{\"align\":\"left\"},\"paper_bgcolor\":\"white\",\"plot_bgcolor\":\"#E5ECF6\",\"polar\":{\"bgcolor\":\"#E5ECF6\",\"angularaxis\":{\"gridcolor\":\"white\",\"linecolor\":\"white\",\"ticks\":\"\"},\"radialaxis\":{\"gridcolor\":\"white\",\"linecolor\":\"white\",\"ticks\":\"\"}},\"ternary\":{\"bgcolor\":\"#E5ECF6\",\"aaxis\":{\"gridcolor\":\"white\",\"linecolor\":\"white\",\"ticks\":\"\"},\"baxis\":{\"gridcolor\":\"white\",\"linecolor\":\"white\",\"ticks\":\"\"},\"caxis\":{\"gridcolor\":\"white\",\"linecolor\":\"white\",\"ticks\":\"\"}},\"coloraxis\":{\"colorbar\":{\"outlinewidth\":0,\"ticks\":\"\"}},\"colorscale\":{\"sequential\":[[0.0,\"#0d0887\"],[0.1111111111111111,\"#46039f\"],[0.2222222222222222,\"#7201a8\"],[0.3333333333333333,\"#9c179e\"],[0.4444444444444444,\"#bd3786\"],[0.5555555555555556,\"#d8576b\"],[0.6666666666666666,\"#ed7953\"],[0.7777777777777778,\"#fb9f3a\"],[0.8888888888888888,\"#fdca26\"],[1.0,\"#f0f921\"]],\"sequentialminus\":[[0.0,\"#0d0887\"],[0.1111111111111111,\"#46039f\"],[0.2222222222222222,\"#7201a8\"],[0.3333333333333333,\"#9c179e\"],[0.4444444444444444,\"#bd3786\"],[0.5555555555555556,\"#d8576b\"],[0.6666666666666666,\"#ed7953\"],[0.7777777777777778,\"#fb9f3a\"],[0.8888888888888888,\"#fdca26\"],[1.0,\"#f0f921\"]],\"diverging\":[[0,\"#8e0152\"],[0.1,\"#c51b7d\"],[0.2,\"#de77ae\"],[0.3,\"#f1b6da\"],[0.4,\"#fde0ef\"],[0.5,\"#f7f7f7\"],[0.6,\"#e6f5d0\"],[0.7,\"#b8e186\"],[0.8,\"#7fbc41\"],[0.9,\"#4d9221\"],[1,\"#276419\"]]},\"xaxis\":{\"gridcolor\":\"white\",\"linecolor\":\"white\",\"ticks\":\"\",\"title\":{\"standoff\":15},\"zerolinecolor\":\"white\",\"automargin\":true,\"zerolinewidth\":2},\"yaxis\":{\"gridcolor\":\"white\",\"linecolor\":\"white\",\"ticks\":\"\",\"title\":{\"standoff\":15},\"zerolinecolor\":\"white\",\"automargin\":true,\"zerolinewidth\":2},\"scene\":{\"xaxis\":{\"backgroundcolor\":\"#E5ECF6\",\"gridcolor\":\"white\",\"linecolor\":\"white\",\"showbackground\":true,\"ticks\":\"\",\"zerolinecolor\":\"white\",\"gridwidth\":2},\"yaxis\":{\"backgroundcolor\":\"#E5ECF6\",\"gridcolor\":\"white\",\"linecolor\":\"white\",\"showbackground\":true,\"ticks\":\"\",\"zerolinecolor\":\"white\",\"gridwidth\":2},\"zaxis\":{\"backgroundcolor\":\"#E5ECF6\",\"gridcolor\":\"white\",\"linecolor\":\"white\",\"showbackground\":true,\"ticks\":\"\",\"zerolinecolor\":\"white\",\"gridwidth\":2}},\"shapedefaults\":{\"line\":{\"color\":\"#2a3f5f\"}},\"annotationdefaults\":{\"arrowcolor\":\"#2a3f5f\",\"arrowhead\":0,\"arrowwidth\":1},\"geo\":{\"bgcolor\":\"white\",\"landcolor\":\"#E5ECF6\",\"subunitcolor\":\"white\",\"showland\":true,\"showlakes\":true,\"lakecolor\":\"white\"},\"title\":{\"x\":0.05},\"mapbox\":{\"style\":\"light\"}}},\"xaxis\":{\"anchor\":\"y\",\"domain\":[0.0,1.0],\"title\":{\"text\":\"month\"}},\"yaxis\":{\"anchor\":\"x\",\"domain\":[0.0,1.0],\"title\":{\"text\":\"value\"}},\"legend\":{\"title\":{\"text\":\"member_casual\"},\"tracegroupgap\":0},\"margin\":{\"t\":60}},                        {\"responsive\": true}                    ).then(function(){\n",
       "                            \n",
       "var gd = document.getElementById('2e3eb22b-af8c-452d-aa4f-a733aaa61d1a');\n",
       "var x = new MutationObserver(function (mutations, observer) {{\n",
       "        var display = window.getComputedStyle(gd).display;\n",
       "        if (!display || display === 'none') {{\n",
       "            console.log([gd, 'removed!']);\n",
       "            Plotly.purge(gd);\n",
       "            observer.disconnect();\n",
       "        }}\n",
       "}});\n",
       "\n",
       "// Listen for the removal of the full notebook cells\n",
       "var notebookContainer = gd.closest('#notebook-container');\n",
       "if (notebookContainer) {{\n",
       "    x.observe(notebookContainer, {childList: true});\n",
       "}}\n",
       "\n",
       "// Listen for the clearing of the current output cell\n",
       "var outputEl = gd.closest('.output');\n",
       "if (outputEl) {{\n",
       "    x.observe(outputEl, {childList: true});\n",
       "}}\n",
       "\n",
       "                        })                };                });            </script>        </div>"
      ]
     },
     "metadata": {},
     "output_type": "display_data"
    }
   ],
   "source": [
    "px.line(member_month, markers=True)"
   ]
  },
  {
   "cell_type": "markdown",
   "id": "106b278d",
   "metadata": {
    "papermill": {
     "duration": 0.02055,
     "end_time": "2023-01-20T15:01:20.993253",
     "exception": false,
     "start_time": "2023-01-20T15:01:20.972703",
     "status": "completed"
    },
    "tags": []
   },
   "source": [
    "The distribution for monthly rides has a similar shape for both type of users - peak activity takes places during the summer months, and steadily decreases afterwards (before starting to increase again around February). This shape is more pronounced for the casual group of riders: activity is very high on summers and very low during the cold months."
   ]
  },
  {
   "cell_type": "markdown",
   "id": "84bd4011",
   "metadata": {
    "papermill": {
     "duration": 0.020729,
     "end_time": "2023-01-20T15:01:21.034277",
     "exception": false,
     "start_time": "2023-01-20T15:01:21.013548",
     "status": "completed"
    },
    "tags": []
   },
   "source": [
    "**INFO 4:** Both kind of users bike more when the climate is mild or hot, and much less when it is cold, but this effect is more pronounced in the case of casual riders. \n",
    "\n"
   ]
  },
  {
   "cell_type": "markdown",
   "id": "14c9088a",
   "metadata": {
    "papermill": {
     "duration": 0.019393,
     "end_time": "2023-01-20T15:01:21.073428",
     "exception": false,
     "start_time": "2023-01-20T15:01:21.054035",
     "status": "completed"
    },
    "tags": []
   },
   "source": [
    "# 4.3.3. Hour of the day"
   ]
  },
  {
   "cell_type": "code",
   "execution_count": 25,
   "id": "05981911",
   "metadata": {
    "execution": {
     "iopub.execute_input": "2023-01-20T15:01:21.115668Z",
     "iopub.status.busy": "2023-01-20T15:01:21.115239Z",
     "iopub.status.idle": "2023-01-20T15:01:21.693727Z",
     "shell.execute_reply": "2023-01-20T15:01:21.692522Z"
    },
    "papermill": {
     "duration": 0.603501,
     "end_time": "2023-01-20T15:01:21.696550",
     "exception": false,
     "start_time": "2023-01-20T15:01:21.093049",
     "status": "completed"
    },
    "tags": []
   },
   "outputs": [],
   "source": [
    "#create column where there is only information on the hour\n",
    "data['hour'] = data['started_at'].dt.hour"
   ]
  },
  {
   "cell_type": "code",
   "execution_count": 26,
   "id": "c7a5d311",
   "metadata": {
    "execution": {
     "iopub.execute_input": "2023-01-20T15:01:21.740704Z",
     "iopub.status.busy": "2023-01-20T15:01:21.740298Z",
     "iopub.status.idle": "2023-01-20T15:01:23.162201Z",
     "shell.execute_reply": "2023-01-20T15:01:23.160890Z"
    },
    "papermill": {
     "duration": 1.447386,
     "end_time": "2023-01-20T15:01:23.165024",
     "exception": false,
     "start_time": "2023-01-20T15:01:21.717638",
     "status": "completed"
    },
    "tags": []
   },
   "outputs": [],
   "source": [
    "member_hour = pd.pivot_table(data, values = 'ride_id', index = 'hour', columns = 'member_casual', aggfunc='count')"
   ]
  },
  {
   "cell_type": "code",
   "execution_count": 27,
   "id": "07d5dd0f",
   "metadata": {
    "execution": {
     "iopub.execute_input": "2023-01-20T15:01:23.208639Z",
     "iopub.status.busy": "2023-01-20T15:01:23.208250Z",
     "iopub.status.idle": "2023-01-20T15:01:23.280017Z",
     "shell.execute_reply": "2023-01-20T15:01:23.278859Z"
    },
    "papermill": {
     "duration": 0.096904,
     "end_time": "2023-01-20T15:01:23.282490",
     "exception": false,
     "start_time": "2023-01-20T15:01:23.185586",
     "status": "completed"
    },
    "tags": []
   },
   "outputs": [
    {
     "data": {
      "text/html": [
       "<div>                            <div id=\"46fe990d-a17f-4383-8d24-08c72fff97a3\" class=\"plotly-graph-div\" style=\"height:525px; width:100%;\"></div>            <script type=\"text/javascript\">                require([\"plotly\"], function(Plotly) {                    window.PLOTLYENV=window.PLOTLYENV || {};                                    if (document.getElementById(\"46fe990d-a17f-4383-8d24-08c72fff97a3\")) {                    Plotly.newPlot(                        \"46fe990d-a17f-4383-8d24-08c72fff97a3\",                        [{\"hovertemplate\":\"member_casual=casual<br>hour=%{x}<br>value=%{y}<extra></extra>\",\"legendgroup\":\"casual\",\"line\":{\"color\":\"#636efa\",\"dash\":\"solid\"},\"marker\":{\"symbol\":\"circle\"},\"mode\":\"markers+lines\",\"name\":\"casual\",\"orientation\":\"v\",\"showlegend\":true,\"x\":[0,1,2,3,4,5,6,7,8,9,10,11,12,13,14,15,16,17,18,19,20,21,22,23],\"xaxis\":\"x\",\"y\":[54117,39625,26061,14336,10038,12860,26379,48196,65301,77055,105164,136006,162005,173180,178604,189395,206574,237995,215905,167835,123030,104846,97262,74773],\"yaxis\":\"y\",\"type\":\"scatter\"},{\"hovertemplate\":\"member_casual=member<br>hour=%{x}<br>value=%{y}<extra></extra>\",\"legendgroup\":\"member\",\"line\":{\"color\":\"#EF553B\",\"dash\":\"solid\"},\"marker\":{\"symbol\":\"circle\"},\"mode\":\"markers+lines\",\"name\":\"member\",\"orientation\":\"v\",\"showlegend\":true,\"x\":[0,1,2,3,4,5,6,7,8,9,10,11,12,13,14,15,16,17,18,19,20,21,22,23],\"xaxis\":\"x\",\"y\":[34198,22672,13077,7552,8567,31822,84703,158391,185078,136569,132780,158876,184747,181109,178301,207117,268415,332991,279683,200400,136446,102014,77949,53533],\"yaxis\":\"y\",\"type\":\"scatter\"}],                        {\"template\":{\"data\":{\"histogram2dcontour\":[{\"type\":\"histogram2dcontour\",\"colorbar\":{\"outlinewidth\":0,\"ticks\":\"\"},\"colorscale\":[[0.0,\"#0d0887\"],[0.1111111111111111,\"#46039f\"],[0.2222222222222222,\"#7201a8\"],[0.3333333333333333,\"#9c179e\"],[0.4444444444444444,\"#bd3786\"],[0.5555555555555556,\"#d8576b\"],[0.6666666666666666,\"#ed7953\"],[0.7777777777777778,\"#fb9f3a\"],[0.8888888888888888,\"#fdca26\"],[1.0,\"#f0f921\"]]}],\"choropleth\":[{\"type\":\"choropleth\",\"colorbar\":{\"outlinewidth\":0,\"ticks\":\"\"}}],\"histogram2d\":[{\"type\":\"histogram2d\",\"colorbar\":{\"outlinewidth\":0,\"ticks\":\"\"},\"colorscale\":[[0.0,\"#0d0887\"],[0.1111111111111111,\"#46039f\"],[0.2222222222222222,\"#7201a8\"],[0.3333333333333333,\"#9c179e\"],[0.4444444444444444,\"#bd3786\"],[0.5555555555555556,\"#d8576b\"],[0.6666666666666666,\"#ed7953\"],[0.7777777777777778,\"#fb9f3a\"],[0.8888888888888888,\"#fdca26\"],[1.0,\"#f0f921\"]]}],\"heatmap\":[{\"type\":\"heatmap\",\"colorbar\":{\"outlinewidth\":0,\"ticks\":\"\"},\"colorscale\":[[0.0,\"#0d0887\"],[0.1111111111111111,\"#46039f\"],[0.2222222222222222,\"#7201a8\"],[0.3333333333333333,\"#9c179e\"],[0.4444444444444444,\"#bd3786\"],[0.5555555555555556,\"#d8576b\"],[0.6666666666666666,\"#ed7953\"],[0.7777777777777778,\"#fb9f3a\"],[0.8888888888888888,\"#fdca26\"],[1.0,\"#f0f921\"]]}],\"heatmapgl\":[{\"type\":\"heatmapgl\",\"colorbar\":{\"outlinewidth\":0,\"ticks\":\"\"},\"colorscale\":[[0.0,\"#0d0887\"],[0.1111111111111111,\"#46039f\"],[0.2222222222222222,\"#7201a8\"],[0.3333333333333333,\"#9c179e\"],[0.4444444444444444,\"#bd3786\"],[0.5555555555555556,\"#d8576b\"],[0.6666666666666666,\"#ed7953\"],[0.7777777777777778,\"#fb9f3a\"],[0.8888888888888888,\"#fdca26\"],[1.0,\"#f0f921\"]]}],\"contourcarpet\":[{\"type\":\"contourcarpet\",\"colorbar\":{\"outlinewidth\":0,\"ticks\":\"\"}}],\"contour\":[{\"type\":\"contour\",\"colorbar\":{\"outlinewidth\":0,\"ticks\":\"\"},\"colorscale\":[[0.0,\"#0d0887\"],[0.1111111111111111,\"#46039f\"],[0.2222222222222222,\"#7201a8\"],[0.3333333333333333,\"#9c179e\"],[0.4444444444444444,\"#bd3786\"],[0.5555555555555556,\"#d8576b\"],[0.6666666666666666,\"#ed7953\"],[0.7777777777777778,\"#fb9f3a\"],[0.8888888888888888,\"#fdca26\"],[1.0,\"#f0f921\"]]}],\"surface\":[{\"type\":\"surface\",\"colorbar\":{\"outlinewidth\":0,\"ticks\":\"\"},\"colorscale\":[[0.0,\"#0d0887\"],[0.1111111111111111,\"#46039f\"],[0.2222222222222222,\"#7201a8\"],[0.3333333333333333,\"#9c179e\"],[0.4444444444444444,\"#bd3786\"],[0.5555555555555556,\"#d8576b\"],[0.6666666666666666,\"#ed7953\"],[0.7777777777777778,\"#fb9f3a\"],[0.8888888888888888,\"#fdca26\"],[1.0,\"#f0f921\"]]}],\"mesh3d\":[{\"type\":\"mesh3d\",\"colorbar\":{\"outlinewidth\":0,\"ticks\":\"\"}}],\"scatter\":[{\"fillpattern\":{\"fillmode\":\"overlay\",\"size\":10,\"solidity\":0.2},\"type\":\"scatter\"}],\"parcoords\":[{\"type\":\"parcoords\",\"line\":{\"colorbar\":{\"outlinewidth\":0,\"ticks\":\"\"}}}],\"scatterpolargl\":[{\"type\":\"scatterpolargl\",\"marker\":{\"colorbar\":{\"outlinewidth\":0,\"ticks\":\"\"}}}],\"bar\":[{\"error_x\":{\"color\":\"#2a3f5f\"},\"error_y\":{\"color\":\"#2a3f5f\"},\"marker\":{\"line\":{\"color\":\"#E5ECF6\",\"width\":0.5},\"pattern\":{\"fillmode\":\"overlay\",\"size\":10,\"solidity\":0.2}},\"type\":\"bar\"}],\"scattergeo\":[{\"type\":\"scattergeo\",\"marker\":{\"colorbar\":{\"outlinewidth\":0,\"ticks\":\"\"}}}],\"scatterpolar\":[{\"type\":\"scatterpolar\",\"marker\":{\"colorbar\":{\"outlinewidth\":0,\"ticks\":\"\"}}}],\"histogram\":[{\"marker\":{\"pattern\":{\"fillmode\":\"overlay\",\"size\":10,\"solidity\":0.2}},\"type\":\"histogram\"}],\"scattergl\":[{\"type\":\"scattergl\",\"marker\":{\"colorbar\":{\"outlinewidth\":0,\"ticks\":\"\"}}}],\"scatter3d\":[{\"type\":\"scatter3d\",\"line\":{\"colorbar\":{\"outlinewidth\":0,\"ticks\":\"\"}},\"marker\":{\"colorbar\":{\"outlinewidth\":0,\"ticks\":\"\"}}}],\"scattermapbox\":[{\"type\":\"scattermapbox\",\"marker\":{\"colorbar\":{\"outlinewidth\":0,\"ticks\":\"\"}}}],\"scatterternary\":[{\"type\":\"scatterternary\",\"marker\":{\"colorbar\":{\"outlinewidth\":0,\"ticks\":\"\"}}}],\"scattercarpet\":[{\"type\":\"scattercarpet\",\"marker\":{\"colorbar\":{\"outlinewidth\":0,\"ticks\":\"\"}}}],\"carpet\":[{\"aaxis\":{\"endlinecolor\":\"#2a3f5f\",\"gridcolor\":\"white\",\"linecolor\":\"white\",\"minorgridcolor\":\"white\",\"startlinecolor\":\"#2a3f5f\"},\"baxis\":{\"endlinecolor\":\"#2a3f5f\",\"gridcolor\":\"white\",\"linecolor\":\"white\",\"minorgridcolor\":\"white\",\"startlinecolor\":\"#2a3f5f\"},\"type\":\"carpet\"}],\"table\":[{\"cells\":{\"fill\":{\"color\":\"#EBF0F8\"},\"line\":{\"color\":\"white\"}},\"header\":{\"fill\":{\"color\":\"#C8D4E3\"},\"line\":{\"color\":\"white\"}},\"type\":\"table\"}],\"barpolar\":[{\"marker\":{\"line\":{\"color\":\"#E5ECF6\",\"width\":0.5},\"pattern\":{\"fillmode\":\"overlay\",\"size\":10,\"solidity\":0.2}},\"type\":\"barpolar\"}],\"pie\":[{\"automargin\":true,\"type\":\"pie\"}]},\"layout\":{\"autotypenumbers\":\"strict\",\"colorway\":[\"#636efa\",\"#EF553B\",\"#00cc96\",\"#ab63fa\",\"#FFA15A\",\"#19d3f3\",\"#FF6692\",\"#B6E880\",\"#FF97FF\",\"#FECB52\"],\"font\":{\"color\":\"#2a3f5f\"},\"hovermode\":\"closest\",\"hoverlabel\":{\"align\":\"left\"},\"paper_bgcolor\":\"white\",\"plot_bgcolor\":\"#E5ECF6\",\"polar\":{\"bgcolor\":\"#E5ECF6\",\"angularaxis\":{\"gridcolor\":\"white\",\"linecolor\":\"white\",\"ticks\":\"\"},\"radialaxis\":{\"gridcolor\":\"white\",\"linecolor\":\"white\",\"ticks\":\"\"}},\"ternary\":{\"bgcolor\":\"#E5ECF6\",\"aaxis\":{\"gridcolor\":\"white\",\"linecolor\":\"white\",\"ticks\":\"\"},\"baxis\":{\"gridcolor\":\"white\",\"linecolor\":\"white\",\"ticks\":\"\"},\"caxis\":{\"gridcolor\":\"white\",\"linecolor\":\"white\",\"ticks\":\"\"}},\"coloraxis\":{\"colorbar\":{\"outlinewidth\":0,\"ticks\":\"\"}},\"colorscale\":{\"sequential\":[[0.0,\"#0d0887\"],[0.1111111111111111,\"#46039f\"],[0.2222222222222222,\"#7201a8\"],[0.3333333333333333,\"#9c179e\"],[0.4444444444444444,\"#bd3786\"],[0.5555555555555556,\"#d8576b\"],[0.6666666666666666,\"#ed7953\"],[0.7777777777777778,\"#fb9f3a\"],[0.8888888888888888,\"#fdca26\"],[1.0,\"#f0f921\"]],\"sequentialminus\":[[0.0,\"#0d0887\"],[0.1111111111111111,\"#46039f\"],[0.2222222222222222,\"#7201a8\"],[0.3333333333333333,\"#9c179e\"],[0.4444444444444444,\"#bd3786\"],[0.5555555555555556,\"#d8576b\"],[0.6666666666666666,\"#ed7953\"],[0.7777777777777778,\"#fb9f3a\"],[0.8888888888888888,\"#fdca26\"],[1.0,\"#f0f921\"]],\"diverging\":[[0,\"#8e0152\"],[0.1,\"#c51b7d\"],[0.2,\"#de77ae\"],[0.3,\"#f1b6da\"],[0.4,\"#fde0ef\"],[0.5,\"#f7f7f7\"],[0.6,\"#e6f5d0\"],[0.7,\"#b8e186\"],[0.8,\"#7fbc41\"],[0.9,\"#4d9221\"],[1,\"#276419\"]]},\"xaxis\":{\"gridcolor\":\"white\",\"linecolor\":\"white\",\"ticks\":\"\",\"title\":{\"standoff\":15},\"zerolinecolor\":\"white\",\"automargin\":true,\"zerolinewidth\":2},\"yaxis\":{\"gridcolor\":\"white\",\"linecolor\":\"white\",\"ticks\":\"\",\"title\":{\"standoff\":15},\"zerolinecolor\":\"white\",\"automargin\":true,\"zerolinewidth\":2},\"scene\":{\"xaxis\":{\"backgroundcolor\":\"#E5ECF6\",\"gridcolor\":\"white\",\"linecolor\":\"white\",\"showbackground\":true,\"ticks\":\"\",\"zerolinecolor\":\"white\",\"gridwidth\":2},\"yaxis\":{\"backgroundcolor\":\"#E5ECF6\",\"gridcolor\":\"white\",\"linecolor\":\"white\",\"showbackground\":true,\"ticks\":\"\",\"zerolinecolor\":\"white\",\"gridwidth\":2},\"zaxis\":{\"backgroundcolor\":\"#E5ECF6\",\"gridcolor\":\"white\",\"linecolor\":\"white\",\"showbackground\":true,\"ticks\":\"\",\"zerolinecolor\":\"white\",\"gridwidth\":2}},\"shapedefaults\":{\"line\":{\"color\":\"#2a3f5f\"}},\"annotationdefaults\":{\"arrowcolor\":\"#2a3f5f\",\"arrowhead\":0,\"arrowwidth\":1},\"geo\":{\"bgcolor\":\"white\",\"landcolor\":\"#E5ECF6\",\"subunitcolor\":\"white\",\"showland\":true,\"showlakes\":true,\"lakecolor\":\"white\"},\"title\":{\"x\":0.05},\"mapbox\":{\"style\":\"light\"}}},\"xaxis\":{\"anchor\":\"y\",\"domain\":[0.0,1.0],\"title\":{\"text\":\"hour\"}},\"yaxis\":{\"anchor\":\"x\",\"domain\":[0.0,1.0],\"title\":{\"text\":\"value\"}},\"legend\":{\"title\":{\"text\":\"member_casual\"},\"tracegroupgap\":0},\"margin\":{\"t\":60}},                        {\"responsive\": true}                    ).then(function(){\n",
       "                            \n",
       "var gd = document.getElementById('46fe990d-a17f-4383-8d24-08c72fff97a3');\n",
       "var x = new MutationObserver(function (mutations, observer) {{\n",
       "        var display = window.getComputedStyle(gd).display;\n",
       "        if (!display || display === 'none') {{\n",
       "            console.log([gd, 'removed!']);\n",
       "            Plotly.purge(gd);\n",
       "            observer.disconnect();\n",
       "        }}\n",
       "}});\n",
       "\n",
       "// Listen for the removal of the full notebook cells\n",
       "var notebookContainer = gd.closest('#notebook-container');\n",
       "if (notebookContainer) {{\n",
       "    x.observe(notebookContainer, {childList: true});\n",
       "}}\n",
       "\n",
       "// Listen for the clearing of the current output cell\n",
       "var outputEl = gd.closest('.output');\n",
       "if (outputEl) {{\n",
       "    x.observe(outputEl, {childList: true});\n",
       "}}\n",
       "\n",
       "                        })                };                });            </script>        </div>"
      ]
     },
     "metadata": {},
     "output_type": "display_data"
    }
   ],
   "source": [
    "px.line(member_hour, markers=True)"
   ]
  },
  {
   "cell_type": "markdown",
   "id": "9d181870",
   "metadata": {
    "papermill": {
     "duration": 0.022519,
     "end_time": "2023-01-20T15:01:23.329006",
     "exception": false,
     "start_time": "2023-01-20T15:01:23.306487",
     "status": "completed"
    },
    "tags": []
   },
   "source": [
    "Member activity is clearly defined by two clear activity peaks: the first one around 8h, and the second, and most important one, around 17h. Indeed, those hours correspond to the time of the day when people (usually) start and finish work. \n",
    "Interestingly, the main difference with the shape of casuals rides compared to members is that there is no peak around 8h – which suggests that people who are not members may use the bike to get back from work, but not to *go to work*.  "
   ]
  },
  {
   "cell_type": "markdown",
   "id": "b4049632",
   "metadata": {
    "papermill": {
     "duration": 0.020559,
     "end_time": "2023-01-20T15:01:23.371636",
     "exception": false,
     "start_time": "2023-01-20T15:01:23.351077",
     "status": "completed"
    },
    "tags": []
   },
   "source": [
    "## Hour of the day: weekdays vs weekends"
   ]
  },
  {
   "cell_type": "code",
   "execution_count": 28,
   "id": "2bb09904",
   "metadata": {
    "execution": {
     "iopub.execute_input": "2023-01-20T15:01:23.419010Z",
     "iopub.status.busy": "2023-01-20T15:01:23.418588Z",
     "iopub.status.idle": "2023-01-20T15:01:26.197859Z",
     "shell.execute_reply": "2023-01-20T15:01:26.196192Z"
    },
    "papermill": {
     "duration": 2.806537,
     "end_time": "2023-01-20T15:01:26.200517",
     "exception": false,
     "start_time": "2023-01-20T15:01:23.393980",
     "status": "completed"
    },
    "tags": []
   },
   "outputs": [],
   "source": [
    "#filter data\n",
    "weekday_data = data.loc[(data['day'] != 'Saturday') & (data['day'] != 'Sunday')]\n",
    "weekend_data = data.loc[(data['day'] == 'Saturday') | (data['day'] == 'Sunday')]"
   ]
  },
  {
   "cell_type": "markdown",
   "id": "9f19d154",
   "metadata": {
    "papermill": {
     "duration": 0.020129,
     "end_time": "2023-01-20T15:01:26.241511",
     "exception": false,
     "start_time": "2023-01-20T15:01:26.221382",
     "status": "completed"
    },
    "tags": []
   },
   "source": [
    "### Weekdays"
   ]
  },
  {
   "cell_type": "code",
   "execution_count": 29,
   "id": "bd1cc5de",
   "metadata": {
    "execution": {
     "iopub.execute_input": "2023-01-20T15:01:26.283596Z",
     "iopub.status.busy": "2023-01-20T15:01:26.283205Z",
     "iopub.status.idle": "2023-01-20T15:01:27.350545Z",
     "shell.execute_reply": "2023-01-20T15:01:27.349545Z"
    },
    "papermill": {
     "duration": 1.090975,
     "end_time": "2023-01-20T15:01:27.352971",
     "exception": false,
     "start_time": "2023-01-20T15:01:26.261996",
     "status": "completed"
    },
    "tags": []
   },
   "outputs": [
    {
     "data": {
      "text/html": [
       "<div>                            <div id=\"58ce89c1-4152-4429-ae83-e4c4beadac21\" class=\"plotly-graph-div\" style=\"height:525px; width:100%;\"></div>            <script type=\"text/javascript\">                require([\"plotly\"], function(Plotly) {                    window.PLOTLYENV=window.PLOTLYENV || {};                                    if (document.getElementById(\"58ce89c1-4152-4429-ae83-e4c4beadac21\")) {                    Plotly.newPlot(                        \"58ce89c1-4152-4429-ae83-e4c4beadac21\",                        [{\"hovertemplate\":\"member_casual=casual<br>hour=%{x}<br>value=%{y}<extra></extra>\",\"legendgroup\":\"casual\",\"line\":{\"color\":\"#636efa\",\"dash\":\"solid\"},\"marker\":{\"symbol\":\"circle\"},\"mode\":\"markers+lines\",\"name\":\"casual\",\"orientation\":\"v\",\"showlegend\":true,\"x\":[0,1,2,3,4,5,6,7,8,9,10,11,12,13,14,15,16,17,18,19,20,21,22,23],\"xaxis\":\"x\",\"y\":[21906,13266,8077,5077,5015,8600,20559,38539,47325,44103,52507,67383,82548,87356,92023,102968,124511,163214,151042,115358,82750,70175,63386,45999],\"yaxis\":\"y\",\"type\":\"scatter\"},{\"hovertemplate\":\"member_casual=member<br>hour=%{x}<br>value=%{y}<extra></extra>\",\"legendgroup\":\"member\",\"line\":{\"color\":\"#EF553B\",\"dash\":\"solid\"},\"marker\":{\"symbol\":\"circle\"},\"mode\":\"markers+lines\",\"name\":\"member\",\"orientation\":\"v\",\"showlegend\":true,\"x\":[0,1,2,3,4,5,6,7,8,9,10,11,12,13,14,15,16,17,18,19,20,21,22,23],\"xaxis\":\"x\",\"y\":[15542,8169,4346,2894,5549,27962,76080,142949,159439,98009,81502,99443,120419,117069,114802,143515,206100,273807,226844,157477,105158,77097,56751,36994],\"yaxis\":\"y\",\"type\":\"scatter\"}],                        {\"template\":{\"data\":{\"histogram2dcontour\":[{\"type\":\"histogram2dcontour\",\"colorbar\":{\"outlinewidth\":0,\"ticks\":\"\"},\"colorscale\":[[0.0,\"#0d0887\"],[0.1111111111111111,\"#46039f\"],[0.2222222222222222,\"#7201a8\"],[0.3333333333333333,\"#9c179e\"],[0.4444444444444444,\"#bd3786\"],[0.5555555555555556,\"#d8576b\"],[0.6666666666666666,\"#ed7953\"],[0.7777777777777778,\"#fb9f3a\"],[0.8888888888888888,\"#fdca26\"],[1.0,\"#f0f921\"]]}],\"choropleth\":[{\"type\":\"choropleth\",\"colorbar\":{\"outlinewidth\":0,\"ticks\":\"\"}}],\"histogram2d\":[{\"type\":\"histogram2d\",\"colorbar\":{\"outlinewidth\":0,\"ticks\":\"\"},\"colorscale\":[[0.0,\"#0d0887\"],[0.1111111111111111,\"#46039f\"],[0.2222222222222222,\"#7201a8\"],[0.3333333333333333,\"#9c179e\"],[0.4444444444444444,\"#bd3786\"],[0.5555555555555556,\"#d8576b\"],[0.6666666666666666,\"#ed7953\"],[0.7777777777777778,\"#fb9f3a\"],[0.8888888888888888,\"#fdca26\"],[1.0,\"#f0f921\"]]}],\"heatmap\":[{\"type\":\"heatmap\",\"colorbar\":{\"outlinewidth\":0,\"ticks\":\"\"},\"colorscale\":[[0.0,\"#0d0887\"],[0.1111111111111111,\"#46039f\"],[0.2222222222222222,\"#7201a8\"],[0.3333333333333333,\"#9c179e\"],[0.4444444444444444,\"#bd3786\"],[0.5555555555555556,\"#d8576b\"],[0.6666666666666666,\"#ed7953\"],[0.7777777777777778,\"#fb9f3a\"],[0.8888888888888888,\"#fdca26\"],[1.0,\"#f0f921\"]]}],\"heatmapgl\":[{\"type\":\"heatmapgl\",\"colorbar\":{\"outlinewidth\":0,\"ticks\":\"\"},\"colorscale\":[[0.0,\"#0d0887\"],[0.1111111111111111,\"#46039f\"],[0.2222222222222222,\"#7201a8\"],[0.3333333333333333,\"#9c179e\"],[0.4444444444444444,\"#bd3786\"],[0.5555555555555556,\"#d8576b\"],[0.6666666666666666,\"#ed7953\"],[0.7777777777777778,\"#fb9f3a\"],[0.8888888888888888,\"#fdca26\"],[1.0,\"#f0f921\"]]}],\"contourcarpet\":[{\"type\":\"contourcarpet\",\"colorbar\":{\"outlinewidth\":0,\"ticks\":\"\"}}],\"contour\":[{\"type\":\"contour\",\"colorbar\":{\"outlinewidth\":0,\"ticks\":\"\"},\"colorscale\":[[0.0,\"#0d0887\"],[0.1111111111111111,\"#46039f\"],[0.2222222222222222,\"#7201a8\"],[0.3333333333333333,\"#9c179e\"],[0.4444444444444444,\"#bd3786\"],[0.5555555555555556,\"#d8576b\"],[0.6666666666666666,\"#ed7953\"],[0.7777777777777778,\"#fb9f3a\"],[0.8888888888888888,\"#fdca26\"],[1.0,\"#f0f921\"]]}],\"surface\":[{\"type\":\"surface\",\"colorbar\":{\"outlinewidth\":0,\"ticks\":\"\"},\"colorscale\":[[0.0,\"#0d0887\"],[0.1111111111111111,\"#46039f\"],[0.2222222222222222,\"#7201a8\"],[0.3333333333333333,\"#9c179e\"],[0.4444444444444444,\"#bd3786\"],[0.5555555555555556,\"#d8576b\"],[0.6666666666666666,\"#ed7953\"],[0.7777777777777778,\"#fb9f3a\"],[0.8888888888888888,\"#fdca26\"],[1.0,\"#f0f921\"]]}],\"mesh3d\":[{\"type\":\"mesh3d\",\"colorbar\":{\"outlinewidth\":0,\"ticks\":\"\"}}],\"scatter\":[{\"fillpattern\":{\"fillmode\":\"overlay\",\"size\":10,\"solidity\":0.2},\"type\":\"scatter\"}],\"parcoords\":[{\"type\":\"parcoords\",\"line\":{\"colorbar\":{\"outlinewidth\":0,\"ticks\":\"\"}}}],\"scatterpolargl\":[{\"type\":\"scatterpolargl\",\"marker\":{\"colorbar\":{\"outlinewidth\":0,\"ticks\":\"\"}}}],\"bar\":[{\"error_x\":{\"color\":\"#2a3f5f\"},\"error_y\":{\"color\":\"#2a3f5f\"},\"marker\":{\"line\":{\"color\":\"#E5ECF6\",\"width\":0.5},\"pattern\":{\"fillmode\":\"overlay\",\"size\":10,\"solidity\":0.2}},\"type\":\"bar\"}],\"scattergeo\":[{\"type\":\"scattergeo\",\"marker\":{\"colorbar\":{\"outlinewidth\":0,\"ticks\":\"\"}}}],\"scatterpolar\":[{\"type\":\"scatterpolar\",\"marker\":{\"colorbar\":{\"outlinewidth\":0,\"ticks\":\"\"}}}],\"histogram\":[{\"marker\":{\"pattern\":{\"fillmode\":\"overlay\",\"size\":10,\"solidity\":0.2}},\"type\":\"histogram\"}],\"scattergl\":[{\"type\":\"scattergl\",\"marker\":{\"colorbar\":{\"outlinewidth\":0,\"ticks\":\"\"}}}],\"scatter3d\":[{\"type\":\"scatter3d\",\"line\":{\"colorbar\":{\"outlinewidth\":0,\"ticks\":\"\"}},\"marker\":{\"colorbar\":{\"outlinewidth\":0,\"ticks\":\"\"}}}],\"scattermapbox\":[{\"type\":\"scattermapbox\",\"marker\":{\"colorbar\":{\"outlinewidth\":0,\"ticks\":\"\"}}}],\"scatterternary\":[{\"type\":\"scatterternary\",\"marker\":{\"colorbar\":{\"outlinewidth\":0,\"ticks\":\"\"}}}],\"scattercarpet\":[{\"type\":\"scattercarpet\",\"marker\":{\"colorbar\":{\"outlinewidth\":0,\"ticks\":\"\"}}}],\"carpet\":[{\"aaxis\":{\"endlinecolor\":\"#2a3f5f\",\"gridcolor\":\"white\",\"linecolor\":\"white\",\"minorgridcolor\":\"white\",\"startlinecolor\":\"#2a3f5f\"},\"baxis\":{\"endlinecolor\":\"#2a3f5f\",\"gridcolor\":\"white\",\"linecolor\":\"white\",\"minorgridcolor\":\"white\",\"startlinecolor\":\"#2a3f5f\"},\"type\":\"carpet\"}],\"table\":[{\"cells\":{\"fill\":{\"color\":\"#EBF0F8\"},\"line\":{\"color\":\"white\"}},\"header\":{\"fill\":{\"color\":\"#C8D4E3\"},\"line\":{\"color\":\"white\"}},\"type\":\"table\"}],\"barpolar\":[{\"marker\":{\"line\":{\"color\":\"#E5ECF6\",\"width\":0.5},\"pattern\":{\"fillmode\":\"overlay\",\"size\":10,\"solidity\":0.2}},\"type\":\"barpolar\"}],\"pie\":[{\"automargin\":true,\"type\":\"pie\"}]},\"layout\":{\"autotypenumbers\":\"strict\",\"colorway\":[\"#636efa\",\"#EF553B\",\"#00cc96\",\"#ab63fa\",\"#FFA15A\",\"#19d3f3\",\"#FF6692\",\"#B6E880\",\"#FF97FF\",\"#FECB52\"],\"font\":{\"color\":\"#2a3f5f\"},\"hovermode\":\"closest\",\"hoverlabel\":{\"align\":\"left\"},\"paper_bgcolor\":\"white\",\"plot_bgcolor\":\"#E5ECF6\",\"polar\":{\"bgcolor\":\"#E5ECF6\",\"angularaxis\":{\"gridcolor\":\"white\",\"linecolor\":\"white\",\"ticks\":\"\"},\"radialaxis\":{\"gridcolor\":\"white\",\"linecolor\":\"white\",\"ticks\":\"\"}},\"ternary\":{\"bgcolor\":\"#E5ECF6\",\"aaxis\":{\"gridcolor\":\"white\",\"linecolor\":\"white\",\"ticks\":\"\"},\"baxis\":{\"gridcolor\":\"white\",\"linecolor\":\"white\",\"ticks\":\"\"},\"caxis\":{\"gridcolor\":\"white\",\"linecolor\":\"white\",\"ticks\":\"\"}},\"coloraxis\":{\"colorbar\":{\"outlinewidth\":0,\"ticks\":\"\"}},\"colorscale\":{\"sequential\":[[0.0,\"#0d0887\"],[0.1111111111111111,\"#46039f\"],[0.2222222222222222,\"#7201a8\"],[0.3333333333333333,\"#9c179e\"],[0.4444444444444444,\"#bd3786\"],[0.5555555555555556,\"#d8576b\"],[0.6666666666666666,\"#ed7953\"],[0.7777777777777778,\"#fb9f3a\"],[0.8888888888888888,\"#fdca26\"],[1.0,\"#f0f921\"]],\"sequentialminus\":[[0.0,\"#0d0887\"],[0.1111111111111111,\"#46039f\"],[0.2222222222222222,\"#7201a8\"],[0.3333333333333333,\"#9c179e\"],[0.4444444444444444,\"#bd3786\"],[0.5555555555555556,\"#d8576b\"],[0.6666666666666666,\"#ed7953\"],[0.7777777777777778,\"#fb9f3a\"],[0.8888888888888888,\"#fdca26\"],[1.0,\"#f0f921\"]],\"diverging\":[[0,\"#8e0152\"],[0.1,\"#c51b7d\"],[0.2,\"#de77ae\"],[0.3,\"#f1b6da\"],[0.4,\"#fde0ef\"],[0.5,\"#f7f7f7\"],[0.6,\"#e6f5d0\"],[0.7,\"#b8e186\"],[0.8,\"#7fbc41\"],[0.9,\"#4d9221\"],[1,\"#276419\"]]},\"xaxis\":{\"gridcolor\":\"white\",\"linecolor\":\"white\",\"ticks\":\"\",\"title\":{\"standoff\":15},\"zerolinecolor\":\"white\",\"automargin\":true,\"zerolinewidth\":2},\"yaxis\":{\"gridcolor\":\"white\",\"linecolor\":\"white\",\"ticks\":\"\",\"title\":{\"standoff\":15},\"zerolinecolor\":\"white\",\"automargin\":true,\"zerolinewidth\":2},\"scene\":{\"xaxis\":{\"backgroundcolor\":\"#E5ECF6\",\"gridcolor\":\"white\",\"linecolor\":\"white\",\"showbackground\":true,\"ticks\":\"\",\"zerolinecolor\":\"white\",\"gridwidth\":2},\"yaxis\":{\"backgroundcolor\":\"#E5ECF6\",\"gridcolor\":\"white\",\"linecolor\":\"white\",\"showbackground\":true,\"ticks\":\"\",\"zerolinecolor\":\"white\",\"gridwidth\":2},\"zaxis\":{\"backgroundcolor\":\"#E5ECF6\",\"gridcolor\":\"white\",\"linecolor\":\"white\",\"showbackground\":true,\"ticks\":\"\",\"zerolinecolor\":\"white\",\"gridwidth\":2}},\"shapedefaults\":{\"line\":{\"color\":\"#2a3f5f\"}},\"annotationdefaults\":{\"arrowcolor\":\"#2a3f5f\",\"arrowhead\":0,\"arrowwidth\":1},\"geo\":{\"bgcolor\":\"white\",\"landcolor\":\"#E5ECF6\",\"subunitcolor\":\"white\",\"showland\":true,\"showlakes\":true,\"lakecolor\":\"white\"},\"title\":{\"x\":0.05},\"mapbox\":{\"style\":\"light\"}}},\"xaxis\":{\"anchor\":\"y\",\"domain\":[0.0,1.0],\"title\":{\"text\":\"hour\"}},\"yaxis\":{\"anchor\":\"x\",\"domain\":[0.0,1.0],\"title\":{\"text\":\"value\"}},\"legend\":{\"title\":{\"text\":\"member_casual\"},\"tracegroupgap\":0},\"margin\":{\"t\":60}},                        {\"responsive\": true}                    ).then(function(){\n",
       "                            \n",
       "var gd = document.getElementById('58ce89c1-4152-4429-ae83-e4c4beadac21');\n",
       "var x = new MutationObserver(function (mutations, observer) {{\n",
       "        var display = window.getComputedStyle(gd).display;\n",
       "        if (!display || display === 'none') {{\n",
       "            console.log([gd, 'removed!']);\n",
       "            Plotly.purge(gd);\n",
       "            observer.disconnect();\n",
       "        }}\n",
       "}});\n",
       "\n",
       "// Listen for the removal of the full notebook cells\n",
       "var notebookContainer = gd.closest('#notebook-container');\n",
       "if (notebookContainer) {{\n",
       "    x.observe(notebookContainer, {childList: true});\n",
       "}}\n",
       "\n",
       "// Listen for the clearing of the current output cell\n",
       "var outputEl = gd.closest('.output');\n",
       "if (outputEl) {{\n",
       "    x.observe(outputEl, {childList: true});\n",
       "}}\n",
       "\n",
       "                        })                };                });            </script>        </div>"
      ]
     },
     "metadata": {},
     "output_type": "display_data"
    }
   ],
   "source": [
    "#weekdays\n",
    "member_hour_weekday = pd.pivot_table(weekday_data, values = 'ride_id', index = 'hour', columns = 'member_casual', aggfunc='count')\n",
    "px.line(member_hour_weekday, markers=True)"
   ]
  },
  {
   "cell_type": "markdown",
   "id": "c4f0e335",
   "metadata": {
    "papermill": {
     "duration": 0.019665,
     "end_time": "2023-01-20T15:01:27.394098",
     "exception": false,
     "start_time": "2023-01-20T15:01:27.374433",
     "status": "completed"
    },
    "tags": []
   },
   "source": [
    "When we only look at the weekday hourly data for rides, the previous shapes observed for both groups are amplified: members activity is defined by two clear peaks (8h and 17h), whereas casual's activity slowly increases until reaching its apex at 17h, and then rapidly falls. "
   ]
  },
  {
   "cell_type": "markdown",
   "id": "8c5a058c",
   "metadata": {
    "papermill": {
     "duration": 0.020744,
     "end_time": "2023-01-20T15:01:27.434859",
     "exception": false,
     "start_time": "2023-01-20T15:01:27.414115",
     "status": "completed"
    },
    "tags": []
   },
   "source": [
    "### Weekends"
   ]
  },
  {
   "cell_type": "code",
   "execution_count": 30,
   "id": "c2bd48a2",
   "metadata": {
    "execution": {
     "iopub.execute_input": "2023-01-20T15:01:27.478379Z",
     "iopub.status.busy": "2023-01-20T15:01:27.477987Z",
     "iopub.status.idle": "2023-01-20T15:01:28.088976Z",
     "shell.execute_reply": "2023-01-20T15:01:28.087847Z"
    },
    "papermill": {
     "duration": 0.6351,
     "end_time": "2023-01-20T15:01:28.091550",
     "exception": false,
     "start_time": "2023-01-20T15:01:27.456450",
     "status": "completed"
    },
    "tags": []
   },
   "outputs": [
    {
     "data": {
      "text/html": [
       "<div>                            <div id=\"028c9e05-878b-42a5-843d-bd81b73a2526\" class=\"plotly-graph-div\" style=\"height:525px; width:100%;\"></div>            <script type=\"text/javascript\">                require([\"plotly\"], function(Plotly) {                    window.PLOTLYENV=window.PLOTLYENV || {};                                    if (document.getElementById(\"028c9e05-878b-42a5-843d-bd81b73a2526\")) {                    Plotly.newPlot(                        \"028c9e05-878b-42a5-843d-bd81b73a2526\",                        [{\"hovertemplate\":\"member_casual=casual<br>hour=%{x}<br>value=%{y}<extra></extra>\",\"legendgroup\":\"casual\",\"line\":{\"color\":\"#636efa\",\"dash\":\"solid\"},\"marker\":{\"symbol\":\"circle\"},\"mode\":\"markers+lines\",\"name\":\"casual\",\"orientation\":\"v\",\"showlegend\":true,\"x\":[0,1,2,3,4,5,6,7,8,9,10,11,12,13,14,15,16,17,18,19,20,21,22,23],\"xaxis\":\"x\",\"y\":[32211,26359,17984,9259,5023,4260,5820,9657,17976,32952,52657,68623,79457,85824,86581,86427,82063,74781,64863,52477,40280,34671,33876,28774],\"yaxis\":\"y\",\"type\":\"scatter\"},{\"hovertemplate\":\"member_casual=member<br>hour=%{x}<br>value=%{y}<extra></extra>\",\"legendgroup\":\"member\",\"line\":{\"color\":\"#EF553B\",\"dash\":\"solid\"},\"marker\":{\"symbol\":\"circle\"},\"mode\":\"markers+lines\",\"name\":\"member\",\"orientation\":\"v\",\"showlegend\":true,\"x\":[0,1,2,3,4,5,6,7,8,9,10,11,12,13,14,15,16,17,18,19,20,21,22,23],\"xaxis\":\"x\",\"y\":[18656,14503,8731,4658,3018,3860,8623,15442,25639,38560,51278,59433,64328,64040,63499,63602,62315,59184,52839,42923,31288,24917,21198,16539],\"yaxis\":\"y\",\"type\":\"scatter\"}],                        {\"template\":{\"data\":{\"histogram2dcontour\":[{\"type\":\"histogram2dcontour\",\"colorbar\":{\"outlinewidth\":0,\"ticks\":\"\"},\"colorscale\":[[0.0,\"#0d0887\"],[0.1111111111111111,\"#46039f\"],[0.2222222222222222,\"#7201a8\"],[0.3333333333333333,\"#9c179e\"],[0.4444444444444444,\"#bd3786\"],[0.5555555555555556,\"#d8576b\"],[0.6666666666666666,\"#ed7953\"],[0.7777777777777778,\"#fb9f3a\"],[0.8888888888888888,\"#fdca26\"],[1.0,\"#f0f921\"]]}],\"choropleth\":[{\"type\":\"choropleth\",\"colorbar\":{\"outlinewidth\":0,\"ticks\":\"\"}}],\"histogram2d\":[{\"type\":\"histogram2d\",\"colorbar\":{\"outlinewidth\":0,\"ticks\":\"\"},\"colorscale\":[[0.0,\"#0d0887\"],[0.1111111111111111,\"#46039f\"],[0.2222222222222222,\"#7201a8\"],[0.3333333333333333,\"#9c179e\"],[0.4444444444444444,\"#bd3786\"],[0.5555555555555556,\"#d8576b\"],[0.6666666666666666,\"#ed7953\"],[0.7777777777777778,\"#fb9f3a\"],[0.8888888888888888,\"#fdca26\"],[1.0,\"#f0f921\"]]}],\"heatmap\":[{\"type\":\"heatmap\",\"colorbar\":{\"outlinewidth\":0,\"ticks\":\"\"},\"colorscale\":[[0.0,\"#0d0887\"],[0.1111111111111111,\"#46039f\"],[0.2222222222222222,\"#7201a8\"],[0.3333333333333333,\"#9c179e\"],[0.4444444444444444,\"#bd3786\"],[0.5555555555555556,\"#d8576b\"],[0.6666666666666666,\"#ed7953\"],[0.7777777777777778,\"#fb9f3a\"],[0.8888888888888888,\"#fdca26\"],[1.0,\"#f0f921\"]]}],\"heatmapgl\":[{\"type\":\"heatmapgl\",\"colorbar\":{\"outlinewidth\":0,\"ticks\":\"\"},\"colorscale\":[[0.0,\"#0d0887\"],[0.1111111111111111,\"#46039f\"],[0.2222222222222222,\"#7201a8\"],[0.3333333333333333,\"#9c179e\"],[0.4444444444444444,\"#bd3786\"],[0.5555555555555556,\"#d8576b\"],[0.6666666666666666,\"#ed7953\"],[0.7777777777777778,\"#fb9f3a\"],[0.8888888888888888,\"#fdca26\"],[1.0,\"#f0f921\"]]}],\"contourcarpet\":[{\"type\":\"contourcarpet\",\"colorbar\":{\"outlinewidth\":0,\"ticks\":\"\"}}],\"contour\":[{\"type\":\"contour\",\"colorbar\":{\"outlinewidth\":0,\"ticks\":\"\"},\"colorscale\":[[0.0,\"#0d0887\"],[0.1111111111111111,\"#46039f\"],[0.2222222222222222,\"#7201a8\"],[0.3333333333333333,\"#9c179e\"],[0.4444444444444444,\"#bd3786\"],[0.5555555555555556,\"#d8576b\"],[0.6666666666666666,\"#ed7953\"],[0.7777777777777778,\"#fb9f3a\"],[0.8888888888888888,\"#fdca26\"],[1.0,\"#f0f921\"]]}],\"surface\":[{\"type\":\"surface\",\"colorbar\":{\"outlinewidth\":0,\"ticks\":\"\"},\"colorscale\":[[0.0,\"#0d0887\"],[0.1111111111111111,\"#46039f\"],[0.2222222222222222,\"#7201a8\"],[0.3333333333333333,\"#9c179e\"],[0.4444444444444444,\"#bd3786\"],[0.5555555555555556,\"#d8576b\"],[0.6666666666666666,\"#ed7953\"],[0.7777777777777778,\"#fb9f3a\"],[0.8888888888888888,\"#fdca26\"],[1.0,\"#f0f921\"]]}],\"mesh3d\":[{\"type\":\"mesh3d\",\"colorbar\":{\"outlinewidth\":0,\"ticks\":\"\"}}],\"scatter\":[{\"fillpattern\":{\"fillmode\":\"overlay\",\"size\":10,\"solidity\":0.2},\"type\":\"scatter\"}],\"parcoords\":[{\"type\":\"parcoords\",\"line\":{\"colorbar\":{\"outlinewidth\":0,\"ticks\":\"\"}}}],\"scatterpolargl\":[{\"type\":\"scatterpolargl\",\"marker\":{\"colorbar\":{\"outlinewidth\":0,\"ticks\":\"\"}}}],\"bar\":[{\"error_x\":{\"color\":\"#2a3f5f\"},\"error_y\":{\"color\":\"#2a3f5f\"},\"marker\":{\"line\":{\"color\":\"#E5ECF6\",\"width\":0.5},\"pattern\":{\"fillmode\":\"overlay\",\"size\":10,\"solidity\":0.2}},\"type\":\"bar\"}],\"scattergeo\":[{\"type\":\"scattergeo\",\"marker\":{\"colorbar\":{\"outlinewidth\":0,\"ticks\":\"\"}}}],\"scatterpolar\":[{\"type\":\"scatterpolar\",\"marker\":{\"colorbar\":{\"outlinewidth\":0,\"ticks\":\"\"}}}],\"histogram\":[{\"marker\":{\"pattern\":{\"fillmode\":\"overlay\",\"size\":10,\"solidity\":0.2}},\"type\":\"histogram\"}],\"scattergl\":[{\"type\":\"scattergl\",\"marker\":{\"colorbar\":{\"outlinewidth\":0,\"ticks\":\"\"}}}],\"scatter3d\":[{\"type\":\"scatter3d\",\"line\":{\"colorbar\":{\"outlinewidth\":0,\"ticks\":\"\"}},\"marker\":{\"colorbar\":{\"outlinewidth\":0,\"ticks\":\"\"}}}],\"scattermapbox\":[{\"type\":\"scattermapbox\",\"marker\":{\"colorbar\":{\"outlinewidth\":0,\"ticks\":\"\"}}}],\"scatterternary\":[{\"type\":\"scatterternary\",\"marker\":{\"colorbar\":{\"outlinewidth\":0,\"ticks\":\"\"}}}],\"scattercarpet\":[{\"type\":\"scattercarpet\",\"marker\":{\"colorbar\":{\"outlinewidth\":0,\"ticks\":\"\"}}}],\"carpet\":[{\"aaxis\":{\"endlinecolor\":\"#2a3f5f\",\"gridcolor\":\"white\",\"linecolor\":\"white\",\"minorgridcolor\":\"white\",\"startlinecolor\":\"#2a3f5f\"},\"baxis\":{\"endlinecolor\":\"#2a3f5f\",\"gridcolor\":\"white\",\"linecolor\":\"white\",\"minorgridcolor\":\"white\",\"startlinecolor\":\"#2a3f5f\"},\"type\":\"carpet\"}],\"table\":[{\"cells\":{\"fill\":{\"color\":\"#EBF0F8\"},\"line\":{\"color\":\"white\"}},\"header\":{\"fill\":{\"color\":\"#C8D4E3\"},\"line\":{\"color\":\"white\"}},\"type\":\"table\"}],\"barpolar\":[{\"marker\":{\"line\":{\"color\":\"#E5ECF6\",\"width\":0.5},\"pattern\":{\"fillmode\":\"overlay\",\"size\":10,\"solidity\":0.2}},\"type\":\"barpolar\"}],\"pie\":[{\"automargin\":true,\"type\":\"pie\"}]},\"layout\":{\"autotypenumbers\":\"strict\",\"colorway\":[\"#636efa\",\"#EF553B\",\"#00cc96\",\"#ab63fa\",\"#FFA15A\",\"#19d3f3\",\"#FF6692\",\"#B6E880\",\"#FF97FF\",\"#FECB52\"],\"font\":{\"color\":\"#2a3f5f\"},\"hovermode\":\"closest\",\"hoverlabel\":{\"align\":\"left\"},\"paper_bgcolor\":\"white\",\"plot_bgcolor\":\"#E5ECF6\",\"polar\":{\"bgcolor\":\"#E5ECF6\",\"angularaxis\":{\"gridcolor\":\"white\",\"linecolor\":\"white\",\"ticks\":\"\"},\"radialaxis\":{\"gridcolor\":\"white\",\"linecolor\":\"white\",\"ticks\":\"\"}},\"ternary\":{\"bgcolor\":\"#E5ECF6\",\"aaxis\":{\"gridcolor\":\"white\",\"linecolor\":\"white\",\"ticks\":\"\"},\"baxis\":{\"gridcolor\":\"white\",\"linecolor\":\"white\",\"ticks\":\"\"},\"caxis\":{\"gridcolor\":\"white\",\"linecolor\":\"white\",\"ticks\":\"\"}},\"coloraxis\":{\"colorbar\":{\"outlinewidth\":0,\"ticks\":\"\"}},\"colorscale\":{\"sequential\":[[0.0,\"#0d0887\"],[0.1111111111111111,\"#46039f\"],[0.2222222222222222,\"#7201a8\"],[0.3333333333333333,\"#9c179e\"],[0.4444444444444444,\"#bd3786\"],[0.5555555555555556,\"#d8576b\"],[0.6666666666666666,\"#ed7953\"],[0.7777777777777778,\"#fb9f3a\"],[0.8888888888888888,\"#fdca26\"],[1.0,\"#f0f921\"]],\"sequentialminus\":[[0.0,\"#0d0887\"],[0.1111111111111111,\"#46039f\"],[0.2222222222222222,\"#7201a8\"],[0.3333333333333333,\"#9c179e\"],[0.4444444444444444,\"#bd3786\"],[0.5555555555555556,\"#d8576b\"],[0.6666666666666666,\"#ed7953\"],[0.7777777777777778,\"#fb9f3a\"],[0.8888888888888888,\"#fdca26\"],[1.0,\"#f0f921\"]],\"diverging\":[[0,\"#8e0152\"],[0.1,\"#c51b7d\"],[0.2,\"#de77ae\"],[0.3,\"#f1b6da\"],[0.4,\"#fde0ef\"],[0.5,\"#f7f7f7\"],[0.6,\"#e6f5d0\"],[0.7,\"#b8e186\"],[0.8,\"#7fbc41\"],[0.9,\"#4d9221\"],[1,\"#276419\"]]},\"xaxis\":{\"gridcolor\":\"white\",\"linecolor\":\"white\",\"ticks\":\"\",\"title\":{\"standoff\":15},\"zerolinecolor\":\"white\",\"automargin\":true,\"zerolinewidth\":2},\"yaxis\":{\"gridcolor\":\"white\",\"linecolor\":\"white\",\"ticks\":\"\",\"title\":{\"standoff\":15},\"zerolinecolor\":\"white\",\"automargin\":true,\"zerolinewidth\":2},\"scene\":{\"xaxis\":{\"backgroundcolor\":\"#E5ECF6\",\"gridcolor\":\"white\",\"linecolor\":\"white\",\"showbackground\":true,\"ticks\":\"\",\"zerolinecolor\":\"white\",\"gridwidth\":2},\"yaxis\":{\"backgroundcolor\":\"#E5ECF6\",\"gridcolor\":\"white\",\"linecolor\":\"white\",\"showbackground\":true,\"ticks\":\"\",\"zerolinecolor\":\"white\",\"gridwidth\":2},\"zaxis\":{\"backgroundcolor\":\"#E5ECF6\",\"gridcolor\":\"white\",\"linecolor\":\"white\",\"showbackground\":true,\"ticks\":\"\",\"zerolinecolor\":\"white\",\"gridwidth\":2}},\"shapedefaults\":{\"line\":{\"color\":\"#2a3f5f\"}},\"annotationdefaults\":{\"arrowcolor\":\"#2a3f5f\",\"arrowhead\":0,\"arrowwidth\":1},\"geo\":{\"bgcolor\":\"white\",\"landcolor\":\"#E5ECF6\",\"subunitcolor\":\"white\",\"showland\":true,\"showlakes\":true,\"lakecolor\":\"white\"},\"title\":{\"x\":0.05},\"mapbox\":{\"style\":\"light\"}}},\"xaxis\":{\"anchor\":\"y\",\"domain\":[0.0,1.0],\"title\":{\"text\":\"hour\"}},\"yaxis\":{\"anchor\":\"x\",\"domain\":[0.0,1.0],\"title\":{\"text\":\"value\"}},\"legend\":{\"title\":{\"text\":\"member_casual\"},\"tracegroupgap\":0},\"margin\":{\"t\":60}},                        {\"responsive\": true}                    ).then(function(){\n",
       "                            \n",
       "var gd = document.getElementById('028c9e05-878b-42a5-843d-bd81b73a2526');\n",
       "var x = new MutationObserver(function (mutations, observer) {{\n",
       "        var display = window.getComputedStyle(gd).display;\n",
       "        if (!display || display === 'none') {{\n",
       "            console.log([gd, 'removed!']);\n",
       "            Plotly.purge(gd);\n",
       "            observer.disconnect();\n",
       "        }}\n",
       "}});\n",
       "\n",
       "// Listen for the removal of the full notebook cells\n",
       "var notebookContainer = gd.closest('#notebook-container');\n",
       "if (notebookContainer) {{\n",
       "    x.observe(notebookContainer, {childList: true});\n",
       "}}\n",
       "\n",
       "// Listen for the clearing of the current output cell\n",
       "var outputEl = gd.closest('.output');\n",
       "if (outputEl) {{\n",
       "    x.observe(outputEl, {childList: true});\n",
       "}}\n",
       "\n",
       "                        })                };                });            </script>        </div>"
      ]
     },
     "metadata": {},
     "output_type": "display_data"
    }
   ],
   "source": [
    "#weekends\n",
    "member_hour_weekend = pd.pivot_table(weekend_data, values = 'ride_id', index = 'hour', columns = 'member_casual', aggfunc='count')\n",
    "px.line(member_hour_weekend, markers=True)"
   ]
  },
  {
   "cell_type": "markdown",
   "id": "331a51f6",
   "metadata": {
    "papermill": {
     "duration": 0.022171,
     "end_time": "2023-01-20T15:01:28.134309",
     "exception": false,
     "start_time": "2023-01-20T15:01:28.112138",
     "status": "completed"
    },
    "tags": []
   },
   "source": [
    "Activity is very different on weekends. It has the same shape for both, and the peaks are smoother (with a plateau at the apex. The difference is that at peak hours (from 11h to 18h), there are many more casual riders than members. "
   ]
  },
  {
   "cell_type": "markdown",
   "id": "e18148be",
   "metadata": {
    "papermill": {
     "duration": 0.019862,
     "end_time": "2023-01-20T15:01:28.174518",
     "exception": false,
     "start_time": "2023-01-20T15:01:28.154656",
     "status": "completed"
    },
    "tags": []
   },
   "source": [
    "**INFO 6**: \n",
    "Members ride on weekdays, mostly at 8h and at 17h; whereas casuals ride on weekends (11-18h). The hourly data suggests that members ride to commute, whereas casuals ride for leisure. "
   ]
  },
  {
   "cell_type": "markdown",
   "id": "5a1793da",
   "metadata": {
    "papermill": {
     "duration": 0.02049,
     "end_time": "2023-01-20T15:01:28.215752",
     "exception": false,
     "start_time": "2023-01-20T15:01:28.195262",
     "status": "completed"
    },
    "tags": []
   },
   "source": [
    "# 4.4. Ride length "
   ]
  },
  {
   "cell_type": "markdown",
   "id": "2bcb07c4",
   "metadata": {
    "papermill": {
     "duration": 0.020259,
     "end_time": "2023-01-20T15:01:28.255916",
     "exception": false,
     "start_time": "2023-01-20T15:01:28.235657",
     "status": "completed"
    },
    "tags": []
   },
   "source": [
    "How does the ride duration differ between casual riders and annual members?"
   ]
  },
  {
   "cell_type": "code",
   "execution_count": 31,
   "id": "fd322a58",
   "metadata": {
    "execution": {
     "iopub.execute_input": "2023-01-20T15:01:28.298611Z",
     "iopub.status.busy": "2023-01-20T15:01:28.298196Z",
     "iopub.status.idle": "2023-01-20T15:01:29.046431Z",
     "shell.execute_reply": "2023-01-20T15:01:29.044896Z"
    },
    "papermill": {
     "duration": 0.772705,
     "end_time": "2023-01-20T15:01:29.049342",
     "exception": false,
     "start_time": "2023-01-20T15:01:28.276637",
     "status": "completed"
    },
    "tags": []
   },
   "outputs": [],
   "source": [
    "compare_ride = pd.pivot_table(data, values = 'ride_length', index = 'member_casual')"
   ]
  },
  {
   "cell_type": "code",
   "execution_count": 32,
   "id": "15f9edd0",
   "metadata": {
    "execution": {
     "iopub.execute_input": "2023-01-20T15:01:29.092730Z",
     "iopub.status.busy": "2023-01-20T15:01:29.092320Z",
     "iopub.status.idle": "2023-01-20T15:01:29.156736Z",
     "shell.execute_reply": "2023-01-20T15:01:29.155648Z"
    },
    "papermill": {
     "duration": 0.088417,
     "end_time": "2023-01-20T15:01:29.159306",
     "exception": false,
     "start_time": "2023-01-20T15:01:29.070889",
     "status": "completed"
    },
    "tags": []
   },
   "outputs": [
    {
     "data": {
      "text/html": [
       "<div>                            <div id=\"d735f137-f806-47a6-a41e-da98a2d6e615\" class=\"plotly-graph-div\" style=\"height:525px; width:100%;\"></div>            <script type=\"text/javascript\">                require([\"plotly\"], function(Plotly) {                    window.PLOTLYENV=window.PLOTLYENV || {};                                    if (document.getElementById(\"d735f137-f806-47a6-a41e-da98a2d6e615\")) {                    Plotly.newPlot(                        \"d735f137-f806-47a6-a41e-da98a2d6e615\",                        [{\"alignmentgroup\":\"True\",\"hovertemplate\":\"variable=ride_length<br>member_casual=%{x}<br>value=%{y}<extra></extra>\",\"legendgroup\":\"ride_length\",\"marker\":{\"color\":\"#636efa\",\"pattern\":{\"shape\":\"\"}},\"name\":\"ride_length\",\"offsetgroup\":\"ride_length\",\"orientation\":\"v\",\"showlegend\":true,\"textposition\":\"auto\",\"x\":[\"casual\",\"member\"],\"xaxis\":\"x\",\"y\":[31.249548603557294,12.87981328238364],\"yaxis\":\"y\",\"type\":\"bar\"}],                        {\"template\":{\"data\":{\"histogram2dcontour\":[{\"type\":\"histogram2dcontour\",\"colorbar\":{\"outlinewidth\":0,\"ticks\":\"\"},\"colorscale\":[[0.0,\"#0d0887\"],[0.1111111111111111,\"#46039f\"],[0.2222222222222222,\"#7201a8\"],[0.3333333333333333,\"#9c179e\"],[0.4444444444444444,\"#bd3786\"],[0.5555555555555556,\"#d8576b\"],[0.6666666666666666,\"#ed7953\"],[0.7777777777777778,\"#fb9f3a\"],[0.8888888888888888,\"#fdca26\"],[1.0,\"#f0f921\"]]}],\"choropleth\":[{\"type\":\"choropleth\",\"colorbar\":{\"outlinewidth\":0,\"ticks\":\"\"}}],\"histogram2d\":[{\"type\":\"histogram2d\",\"colorbar\":{\"outlinewidth\":0,\"ticks\":\"\"},\"colorscale\":[[0.0,\"#0d0887\"],[0.1111111111111111,\"#46039f\"],[0.2222222222222222,\"#7201a8\"],[0.3333333333333333,\"#9c179e\"],[0.4444444444444444,\"#bd3786\"],[0.5555555555555556,\"#d8576b\"],[0.6666666666666666,\"#ed7953\"],[0.7777777777777778,\"#fb9f3a\"],[0.8888888888888888,\"#fdca26\"],[1.0,\"#f0f921\"]]}],\"heatmap\":[{\"type\":\"heatmap\",\"colorbar\":{\"outlinewidth\":0,\"ticks\":\"\"},\"colorscale\":[[0.0,\"#0d0887\"],[0.1111111111111111,\"#46039f\"],[0.2222222222222222,\"#7201a8\"],[0.3333333333333333,\"#9c179e\"],[0.4444444444444444,\"#bd3786\"],[0.5555555555555556,\"#d8576b\"],[0.6666666666666666,\"#ed7953\"],[0.7777777777777778,\"#fb9f3a\"],[0.8888888888888888,\"#fdca26\"],[1.0,\"#f0f921\"]]}],\"heatmapgl\":[{\"type\":\"heatmapgl\",\"colorbar\":{\"outlinewidth\":0,\"ticks\":\"\"},\"colorscale\":[[0.0,\"#0d0887\"],[0.1111111111111111,\"#46039f\"],[0.2222222222222222,\"#7201a8\"],[0.3333333333333333,\"#9c179e\"],[0.4444444444444444,\"#bd3786\"],[0.5555555555555556,\"#d8576b\"],[0.6666666666666666,\"#ed7953\"],[0.7777777777777778,\"#fb9f3a\"],[0.8888888888888888,\"#fdca26\"],[1.0,\"#f0f921\"]]}],\"contourcarpet\":[{\"type\":\"contourcarpet\",\"colorbar\":{\"outlinewidth\":0,\"ticks\":\"\"}}],\"contour\":[{\"type\":\"contour\",\"colorbar\":{\"outlinewidth\":0,\"ticks\":\"\"},\"colorscale\":[[0.0,\"#0d0887\"],[0.1111111111111111,\"#46039f\"],[0.2222222222222222,\"#7201a8\"],[0.3333333333333333,\"#9c179e\"],[0.4444444444444444,\"#bd3786\"],[0.5555555555555556,\"#d8576b\"],[0.6666666666666666,\"#ed7953\"],[0.7777777777777778,\"#fb9f3a\"],[0.8888888888888888,\"#fdca26\"],[1.0,\"#f0f921\"]]}],\"surface\":[{\"type\":\"surface\",\"colorbar\":{\"outlinewidth\":0,\"ticks\":\"\"},\"colorscale\":[[0.0,\"#0d0887\"],[0.1111111111111111,\"#46039f\"],[0.2222222222222222,\"#7201a8\"],[0.3333333333333333,\"#9c179e\"],[0.4444444444444444,\"#bd3786\"],[0.5555555555555556,\"#d8576b\"],[0.6666666666666666,\"#ed7953\"],[0.7777777777777778,\"#fb9f3a\"],[0.8888888888888888,\"#fdca26\"],[1.0,\"#f0f921\"]]}],\"mesh3d\":[{\"type\":\"mesh3d\",\"colorbar\":{\"outlinewidth\":0,\"ticks\":\"\"}}],\"scatter\":[{\"fillpattern\":{\"fillmode\":\"overlay\",\"size\":10,\"solidity\":0.2},\"type\":\"scatter\"}],\"parcoords\":[{\"type\":\"parcoords\",\"line\":{\"colorbar\":{\"outlinewidth\":0,\"ticks\":\"\"}}}],\"scatterpolargl\":[{\"type\":\"scatterpolargl\",\"marker\":{\"colorbar\":{\"outlinewidth\":0,\"ticks\":\"\"}}}],\"bar\":[{\"error_x\":{\"color\":\"#2a3f5f\"},\"error_y\":{\"color\":\"#2a3f5f\"},\"marker\":{\"line\":{\"color\":\"#E5ECF6\",\"width\":0.5},\"pattern\":{\"fillmode\":\"overlay\",\"size\":10,\"solidity\":0.2}},\"type\":\"bar\"}],\"scattergeo\":[{\"type\":\"scattergeo\",\"marker\":{\"colorbar\":{\"outlinewidth\":0,\"ticks\":\"\"}}}],\"scatterpolar\":[{\"type\":\"scatterpolar\",\"marker\":{\"colorbar\":{\"outlinewidth\":0,\"ticks\":\"\"}}}],\"histogram\":[{\"marker\":{\"pattern\":{\"fillmode\":\"overlay\",\"size\":10,\"solidity\":0.2}},\"type\":\"histogram\"}],\"scattergl\":[{\"type\":\"scattergl\",\"marker\":{\"colorbar\":{\"outlinewidth\":0,\"ticks\":\"\"}}}],\"scatter3d\":[{\"type\":\"scatter3d\",\"line\":{\"colorbar\":{\"outlinewidth\":0,\"ticks\":\"\"}},\"marker\":{\"colorbar\":{\"outlinewidth\":0,\"ticks\":\"\"}}}],\"scattermapbox\":[{\"type\":\"scattermapbox\",\"marker\":{\"colorbar\":{\"outlinewidth\":0,\"ticks\":\"\"}}}],\"scatterternary\":[{\"type\":\"scatterternary\",\"marker\":{\"colorbar\":{\"outlinewidth\":0,\"ticks\":\"\"}}}],\"scattercarpet\":[{\"type\":\"scattercarpet\",\"marker\":{\"colorbar\":{\"outlinewidth\":0,\"ticks\":\"\"}}}],\"carpet\":[{\"aaxis\":{\"endlinecolor\":\"#2a3f5f\",\"gridcolor\":\"white\",\"linecolor\":\"white\",\"minorgridcolor\":\"white\",\"startlinecolor\":\"#2a3f5f\"},\"baxis\":{\"endlinecolor\":\"#2a3f5f\",\"gridcolor\":\"white\",\"linecolor\":\"white\",\"minorgridcolor\":\"white\",\"startlinecolor\":\"#2a3f5f\"},\"type\":\"carpet\"}],\"table\":[{\"cells\":{\"fill\":{\"color\":\"#EBF0F8\"},\"line\":{\"color\":\"white\"}},\"header\":{\"fill\":{\"color\":\"#C8D4E3\"},\"line\":{\"color\":\"white\"}},\"type\":\"table\"}],\"barpolar\":[{\"marker\":{\"line\":{\"color\":\"#E5ECF6\",\"width\":0.5},\"pattern\":{\"fillmode\":\"overlay\",\"size\":10,\"solidity\":0.2}},\"type\":\"barpolar\"}],\"pie\":[{\"automargin\":true,\"type\":\"pie\"}]},\"layout\":{\"autotypenumbers\":\"strict\",\"colorway\":[\"#636efa\",\"#EF553B\",\"#00cc96\",\"#ab63fa\",\"#FFA15A\",\"#19d3f3\",\"#FF6692\",\"#B6E880\",\"#FF97FF\",\"#FECB52\"],\"font\":{\"color\":\"#2a3f5f\"},\"hovermode\":\"closest\",\"hoverlabel\":{\"align\":\"left\"},\"paper_bgcolor\":\"white\",\"plot_bgcolor\":\"#E5ECF6\",\"polar\":{\"bgcolor\":\"#E5ECF6\",\"angularaxis\":{\"gridcolor\":\"white\",\"linecolor\":\"white\",\"ticks\":\"\"},\"radialaxis\":{\"gridcolor\":\"white\",\"linecolor\":\"white\",\"ticks\":\"\"}},\"ternary\":{\"bgcolor\":\"#E5ECF6\",\"aaxis\":{\"gridcolor\":\"white\",\"linecolor\":\"white\",\"ticks\":\"\"},\"baxis\":{\"gridcolor\":\"white\",\"linecolor\":\"white\",\"ticks\":\"\"},\"caxis\":{\"gridcolor\":\"white\",\"linecolor\":\"white\",\"ticks\":\"\"}},\"coloraxis\":{\"colorbar\":{\"outlinewidth\":0,\"ticks\":\"\"}},\"colorscale\":{\"sequential\":[[0.0,\"#0d0887\"],[0.1111111111111111,\"#46039f\"],[0.2222222222222222,\"#7201a8\"],[0.3333333333333333,\"#9c179e\"],[0.4444444444444444,\"#bd3786\"],[0.5555555555555556,\"#d8576b\"],[0.6666666666666666,\"#ed7953\"],[0.7777777777777778,\"#fb9f3a\"],[0.8888888888888888,\"#fdca26\"],[1.0,\"#f0f921\"]],\"sequentialminus\":[[0.0,\"#0d0887\"],[0.1111111111111111,\"#46039f\"],[0.2222222222222222,\"#7201a8\"],[0.3333333333333333,\"#9c179e\"],[0.4444444444444444,\"#bd3786\"],[0.5555555555555556,\"#d8576b\"],[0.6666666666666666,\"#ed7953\"],[0.7777777777777778,\"#fb9f3a\"],[0.8888888888888888,\"#fdca26\"],[1.0,\"#f0f921\"]],\"diverging\":[[0,\"#8e0152\"],[0.1,\"#c51b7d\"],[0.2,\"#de77ae\"],[0.3,\"#f1b6da\"],[0.4,\"#fde0ef\"],[0.5,\"#f7f7f7\"],[0.6,\"#e6f5d0\"],[0.7,\"#b8e186\"],[0.8,\"#7fbc41\"],[0.9,\"#4d9221\"],[1,\"#276419\"]]},\"xaxis\":{\"gridcolor\":\"white\",\"linecolor\":\"white\",\"ticks\":\"\",\"title\":{\"standoff\":15},\"zerolinecolor\":\"white\",\"automargin\":true,\"zerolinewidth\":2},\"yaxis\":{\"gridcolor\":\"white\",\"linecolor\":\"white\",\"ticks\":\"\",\"title\":{\"standoff\":15},\"zerolinecolor\":\"white\",\"automargin\":true,\"zerolinewidth\":2},\"scene\":{\"xaxis\":{\"backgroundcolor\":\"#E5ECF6\",\"gridcolor\":\"white\",\"linecolor\":\"white\",\"showbackground\":true,\"ticks\":\"\",\"zerolinecolor\":\"white\",\"gridwidth\":2},\"yaxis\":{\"backgroundcolor\":\"#E5ECF6\",\"gridcolor\":\"white\",\"linecolor\":\"white\",\"showbackground\":true,\"ticks\":\"\",\"zerolinecolor\":\"white\",\"gridwidth\":2},\"zaxis\":{\"backgroundcolor\":\"#E5ECF6\",\"gridcolor\":\"white\",\"linecolor\":\"white\",\"showbackground\":true,\"ticks\":\"\",\"zerolinecolor\":\"white\",\"gridwidth\":2}},\"shapedefaults\":{\"line\":{\"color\":\"#2a3f5f\"}},\"annotationdefaults\":{\"arrowcolor\":\"#2a3f5f\",\"arrowhead\":0,\"arrowwidth\":1},\"geo\":{\"bgcolor\":\"white\",\"landcolor\":\"#E5ECF6\",\"subunitcolor\":\"white\",\"showland\":true,\"showlakes\":true,\"lakecolor\":\"white\"},\"title\":{\"x\":0.05},\"mapbox\":{\"style\":\"light\"}}},\"xaxis\":{\"anchor\":\"y\",\"domain\":[0.0,1.0],\"title\":{\"text\":\"member_casual\"}},\"yaxis\":{\"anchor\":\"x\",\"domain\":[0.0,1.0],\"title\":{\"text\":\"value\"}},\"legend\":{\"title\":{\"text\":\"variable\"},\"tracegroupgap\":0},\"margin\":{\"t\":60},\"barmode\":\"relative\"},                        {\"responsive\": true}                    ).then(function(){\n",
       "                            \n",
       "var gd = document.getElementById('d735f137-f806-47a6-a41e-da98a2d6e615');\n",
       "var x = new MutationObserver(function (mutations, observer) {{\n",
       "        var display = window.getComputedStyle(gd).display;\n",
       "        if (!display || display === 'none') {{\n",
       "            console.log([gd, 'removed!']);\n",
       "            Plotly.purge(gd);\n",
       "            observer.disconnect();\n",
       "        }}\n",
       "}});\n",
       "\n",
       "// Listen for the removal of the full notebook cells\n",
       "var notebookContainer = gd.closest('#notebook-container');\n",
       "if (notebookContainer) {{\n",
       "    x.observe(notebookContainer, {childList: true});\n",
       "}}\n",
       "\n",
       "// Listen for the clearing of the current output cell\n",
       "var outputEl = gd.closest('.output');\n",
       "if (outputEl) {{\n",
       "    x.observe(outputEl, {childList: true});\n",
       "}}\n",
       "\n",
       "                        })                };                });            </script>        </div>"
      ]
     },
     "metadata": {},
     "output_type": "display_data"
    }
   ],
   "source": [
    "px.bar(compare_ride)"
   ]
  },
  {
   "cell_type": "markdown",
   "id": "e55a2a95",
   "metadata": {
    "papermill": {
     "duration": 0.020035,
     "end_time": "2023-01-20T15:01:29.200038",
     "exception": false,
     "start_time": "2023-01-20T15:01:29.180003",
     "status": "completed"
    },
    "tags": []
   },
   "source": [
    "**INFO 7**: The mean length of a bike ride is more than double for annual members. "
   ]
  },
  {
   "cell_type": "markdown",
   "id": "2edf96b5",
   "metadata": {
    "papermill": {
     "duration": 0.020679,
     "end_time": "2023-01-20T15:01:29.241129",
     "exception": false,
     "start_time": "2023-01-20T15:01:29.220450",
     "status": "completed"
    },
    "tags": []
   },
   "source": [
    "# 4.4.1 Ride duration per month"
   ]
  },
  {
   "cell_type": "code",
   "execution_count": 33,
   "id": "01749fee",
   "metadata": {
    "execution": {
     "iopub.execute_input": "2023-01-20T15:01:29.286705Z",
     "iopub.status.busy": "2023-01-20T15:01:29.285657Z",
     "iopub.status.idle": "2023-01-20T15:01:30.898538Z",
     "shell.execute_reply": "2023-01-20T15:01:30.896871Z"
    },
    "papermill": {
     "duration": 1.639248,
     "end_time": "2023-01-20T15:01:30.901821",
     "exception": false,
     "start_time": "2023-01-20T15:01:29.262573",
     "status": "completed"
    },
    "tags": []
   },
   "outputs": [],
   "source": [
    "#ride length per day and month \n",
    "compare_ride = pd.pivot_table(data, values = 'ride_length', index = 'month', columns = 'member_casual')\n",
    "month_order =  ['January', 'February', 'March', 'April', 'May', 'June', 'July',\n",
    "               'August', 'September', 'October', 'November', 'December']\n",
    "compare_ride = compare_ride.reindex(index=month_order)"
   ]
  },
  {
   "cell_type": "code",
   "execution_count": 34,
   "id": "75b1b79f",
   "metadata": {
    "execution": {
     "iopub.execute_input": "2023-01-20T15:01:30.973034Z",
     "iopub.status.busy": "2023-01-20T15:01:30.972486Z",
     "iopub.status.idle": "2023-01-20T15:01:31.058766Z",
     "shell.execute_reply": "2023-01-20T15:01:31.057608Z"
    },
    "papermill": {
     "duration": 0.131811,
     "end_time": "2023-01-20T15:01:31.061977",
     "exception": false,
     "start_time": "2023-01-20T15:01:30.930166",
     "status": "completed"
    },
    "tags": []
   },
   "outputs": [
    {
     "data": {
      "text/html": [
       "<div>                            <div id=\"1b9bac14-b09e-4fda-9e8a-3017beae036d\" class=\"plotly-graph-div\" style=\"height:525px; width:100%;\"></div>            <script type=\"text/javascript\">                require([\"plotly\"], function(Plotly) {                    window.PLOTLYENV=window.PLOTLYENV || {};                                    if (document.getElementById(\"1b9bac14-b09e-4fda-9e8a-3017beae036d\")) {                    Plotly.newPlot(                        \"1b9bac14-b09e-4fda-9e8a-3017beae036d\",                        [{\"alignmentgroup\":\"True\",\"hovertemplate\":\"member_casual=casual<br>month=%{x}<br>value=%{y}<extra></extra>\",\"legendgroup\":\"casual\",\"marker\":{\"color\":\"#636efa\",\"pattern\":{\"shape\":\"\"}},\"name\":\"casual\",\"offsetgroup\":\"casual\",\"orientation\":\"v\",\"showlegend\":true,\"textposition\":\"auto\",\"x\":[\"January\",\"February\",\"March\",\"April\",\"May\",\"June\",\"July\",\"August\",\"September\",\"October\",\"November\",\"December\"],\"xaxis\":\"x\",\"y\":[29.887742980561555,26.219181920059768,32.13436505640729,37.533268424096455,37.74178719892883,36.63217429541843,32.29949372930127,28.29643226686634,27.3255736623705,28.183885213145597,22.625480458996158,23.00539160859216],\"yaxis\":\"y\",\"type\":\"bar\"},{\"alignmentgroup\":\"True\",\"hovertemplate\":\"member_casual=member<br>month=%{x}<br>value=%{y}<extra></extra>\",\"legendgroup\":\"member\",\"marker\":{\"color\":\"#EF553B\",\"pattern\":{\"shape\":\"\"}},\"name\":\"member\",\"offsetgroup\":\"member\",\"orientation\":\"v\",\"showlegend\":true,\"textposition\":\"auto\",\"x\":[\"January\",\"February\",\"March\",\"April\",\"May\",\"June\",\"July\",\"August\",\"September\",\"October\",\"November\",\"December\"],\"xaxis\":\"x\",\"y\":[11.490568914956011,10.918401579735225,11.468397198187063,14.19934805038155,14.149997997939698,14.188290231085999,13.750027605861908,13.611916329870482,13.245000089227215,12.012976490972877,10.815008160474848,10.515432897267747],\"yaxis\":\"y\",\"type\":\"bar\"}],                        {\"template\":{\"data\":{\"histogram2dcontour\":[{\"type\":\"histogram2dcontour\",\"colorbar\":{\"outlinewidth\":0,\"ticks\":\"\"},\"colorscale\":[[0.0,\"#0d0887\"],[0.1111111111111111,\"#46039f\"],[0.2222222222222222,\"#7201a8\"],[0.3333333333333333,\"#9c179e\"],[0.4444444444444444,\"#bd3786\"],[0.5555555555555556,\"#d8576b\"],[0.6666666666666666,\"#ed7953\"],[0.7777777777777778,\"#fb9f3a\"],[0.8888888888888888,\"#fdca26\"],[1.0,\"#f0f921\"]]}],\"choropleth\":[{\"type\":\"choropleth\",\"colorbar\":{\"outlinewidth\":0,\"ticks\":\"\"}}],\"histogram2d\":[{\"type\":\"histogram2d\",\"colorbar\":{\"outlinewidth\":0,\"ticks\":\"\"},\"colorscale\":[[0.0,\"#0d0887\"],[0.1111111111111111,\"#46039f\"],[0.2222222222222222,\"#7201a8\"],[0.3333333333333333,\"#9c179e\"],[0.4444444444444444,\"#bd3786\"],[0.5555555555555556,\"#d8576b\"],[0.6666666666666666,\"#ed7953\"],[0.7777777777777778,\"#fb9f3a\"],[0.8888888888888888,\"#fdca26\"],[1.0,\"#f0f921\"]]}],\"heatmap\":[{\"type\":\"heatmap\",\"colorbar\":{\"outlinewidth\":0,\"ticks\":\"\"},\"colorscale\":[[0.0,\"#0d0887\"],[0.1111111111111111,\"#46039f\"],[0.2222222222222222,\"#7201a8\"],[0.3333333333333333,\"#9c179e\"],[0.4444444444444444,\"#bd3786\"],[0.5555555555555556,\"#d8576b\"],[0.6666666666666666,\"#ed7953\"],[0.7777777777777778,\"#fb9f3a\"],[0.8888888888888888,\"#fdca26\"],[1.0,\"#f0f921\"]]}],\"heatmapgl\":[{\"type\":\"heatmapgl\",\"colorbar\":{\"outlinewidth\":0,\"ticks\":\"\"},\"colorscale\":[[0.0,\"#0d0887\"],[0.1111111111111111,\"#46039f\"],[0.2222222222222222,\"#7201a8\"],[0.3333333333333333,\"#9c179e\"],[0.4444444444444444,\"#bd3786\"],[0.5555555555555556,\"#d8576b\"],[0.6666666666666666,\"#ed7953\"],[0.7777777777777778,\"#fb9f3a\"],[0.8888888888888888,\"#fdca26\"],[1.0,\"#f0f921\"]]}],\"contourcarpet\":[{\"type\":\"contourcarpet\",\"colorbar\":{\"outlinewidth\":0,\"ticks\":\"\"}}],\"contour\":[{\"type\":\"contour\",\"colorbar\":{\"outlinewidth\":0,\"ticks\":\"\"},\"colorscale\":[[0.0,\"#0d0887\"],[0.1111111111111111,\"#46039f\"],[0.2222222222222222,\"#7201a8\"],[0.3333333333333333,\"#9c179e\"],[0.4444444444444444,\"#bd3786\"],[0.5555555555555556,\"#d8576b\"],[0.6666666666666666,\"#ed7953\"],[0.7777777777777778,\"#fb9f3a\"],[0.8888888888888888,\"#fdca26\"],[1.0,\"#f0f921\"]]}],\"surface\":[{\"type\":\"surface\",\"colorbar\":{\"outlinewidth\":0,\"ticks\":\"\"},\"colorscale\":[[0.0,\"#0d0887\"],[0.1111111111111111,\"#46039f\"],[0.2222222222222222,\"#7201a8\"],[0.3333333333333333,\"#9c179e\"],[0.4444444444444444,\"#bd3786\"],[0.5555555555555556,\"#d8576b\"],[0.6666666666666666,\"#ed7953\"],[0.7777777777777778,\"#fb9f3a\"],[0.8888888888888888,\"#fdca26\"],[1.0,\"#f0f921\"]]}],\"mesh3d\":[{\"type\":\"mesh3d\",\"colorbar\":{\"outlinewidth\":0,\"ticks\":\"\"}}],\"scatter\":[{\"fillpattern\":{\"fillmode\":\"overlay\",\"size\":10,\"solidity\":0.2},\"type\":\"scatter\"}],\"parcoords\":[{\"type\":\"parcoords\",\"line\":{\"colorbar\":{\"outlinewidth\":0,\"ticks\":\"\"}}}],\"scatterpolargl\":[{\"type\":\"scatterpolargl\",\"marker\":{\"colorbar\":{\"outlinewidth\":0,\"ticks\":\"\"}}}],\"bar\":[{\"error_x\":{\"color\":\"#2a3f5f\"},\"error_y\":{\"color\":\"#2a3f5f\"},\"marker\":{\"line\":{\"color\":\"#E5ECF6\",\"width\":0.5},\"pattern\":{\"fillmode\":\"overlay\",\"size\":10,\"solidity\":0.2}},\"type\":\"bar\"}],\"scattergeo\":[{\"type\":\"scattergeo\",\"marker\":{\"colorbar\":{\"outlinewidth\":0,\"ticks\":\"\"}}}],\"scatterpolar\":[{\"type\":\"scatterpolar\",\"marker\":{\"colorbar\":{\"outlinewidth\":0,\"ticks\":\"\"}}}],\"histogram\":[{\"marker\":{\"pattern\":{\"fillmode\":\"overlay\",\"size\":10,\"solidity\":0.2}},\"type\":\"histogram\"}],\"scattergl\":[{\"type\":\"scattergl\",\"marker\":{\"colorbar\":{\"outlinewidth\":0,\"ticks\":\"\"}}}],\"scatter3d\":[{\"type\":\"scatter3d\",\"line\":{\"colorbar\":{\"outlinewidth\":0,\"ticks\":\"\"}},\"marker\":{\"colorbar\":{\"outlinewidth\":0,\"ticks\":\"\"}}}],\"scattermapbox\":[{\"type\":\"scattermapbox\",\"marker\":{\"colorbar\":{\"outlinewidth\":0,\"ticks\":\"\"}}}],\"scatterternary\":[{\"type\":\"scatterternary\",\"marker\":{\"colorbar\":{\"outlinewidth\":0,\"ticks\":\"\"}}}],\"scattercarpet\":[{\"type\":\"scattercarpet\",\"marker\":{\"colorbar\":{\"outlinewidth\":0,\"ticks\":\"\"}}}],\"carpet\":[{\"aaxis\":{\"endlinecolor\":\"#2a3f5f\",\"gridcolor\":\"white\",\"linecolor\":\"white\",\"minorgridcolor\":\"white\",\"startlinecolor\":\"#2a3f5f\"},\"baxis\":{\"endlinecolor\":\"#2a3f5f\",\"gridcolor\":\"white\",\"linecolor\":\"white\",\"minorgridcolor\":\"white\",\"startlinecolor\":\"#2a3f5f\"},\"type\":\"carpet\"}],\"table\":[{\"cells\":{\"fill\":{\"color\":\"#EBF0F8\"},\"line\":{\"color\":\"white\"}},\"header\":{\"fill\":{\"color\":\"#C8D4E3\"},\"line\":{\"color\":\"white\"}},\"type\":\"table\"}],\"barpolar\":[{\"marker\":{\"line\":{\"color\":\"#E5ECF6\",\"width\":0.5},\"pattern\":{\"fillmode\":\"overlay\",\"size\":10,\"solidity\":0.2}},\"type\":\"barpolar\"}],\"pie\":[{\"automargin\":true,\"type\":\"pie\"}]},\"layout\":{\"autotypenumbers\":\"strict\",\"colorway\":[\"#636efa\",\"#EF553B\",\"#00cc96\",\"#ab63fa\",\"#FFA15A\",\"#19d3f3\",\"#FF6692\",\"#B6E880\",\"#FF97FF\",\"#FECB52\"],\"font\":{\"color\":\"#2a3f5f\"},\"hovermode\":\"closest\",\"hoverlabel\":{\"align\":\"left\"},\"paper_bgcolor\":\"white\",\"plot_bgcolor\":\"#E5ECF6\",\"polar\":{\"bgcolor\":\"#E5ECF6\",\"angularaxis\":{\"gridcolor\":\"white\",\"linecolor\":\"white\",\"ticks\":\"\"},\"radialaxis\":{\"gridcolor\":\"white\",\"linecolor\":\"white\",\"ticks\":\"\"}},\"ternary\":{\"bgcolor\":\"#E5ECF6\",\"aaxis\":{\"gridcolor\":\"white\",\"linecolor\":\"white\",\"ticks\":\"\"},\"baxis\":{\"gridcolor\":\"white\",\"linecolor\":\"white\",\"ticks\":\"\"},\"caxis\":{\"gridcolor\":\"white\",\"linecolor\":\"white\",\"ticks\":\"\"}},\"coloraxis\":{\"colorbar\":{\"outlinewidth\":0,\"ticks\":\"\"}},\"colorscale\":{\"sequential\":[[0.0,\"#0d0887\"],[0.1111111111111111,\"#46039f\"],[0.2222222222222222,\"#7201a8\"],[0.3333333333333333,\"#9c179e\"],[0.4444444444444444,\"#bd3786\"],[0.5555555555555556,\"#d8576b\"],[0.6666666666666666,\"#ed7953\"],[0.7777777777777778,\"#fb9f3a\"],[0.8888888888888888,\"#fdca26\"],[1.0,\"#f0f921\"]],\"sequentialminus\":[[0.0,\"#0d0887\"],[0.1111111111111111,\"#46039f\"],[0.2222222222222222,\"#7201a8\"],[0.3333333333333333,\"#9c179e\"],[0.4444444444444444,\"#bd3786\"],[0.5555555555555556,\"#d8576b\"],[0.6666666666666666,\"#ed7953\"],[0.7777777777777778,\"#fb9f3a\"],[0.8888888888888888,\"#fdca26\"],[1.0,\"#f0f921\"]],\"diverging\":[[0,\"#8e0152\"],[0.1,\"#c51b7d\"],[0.2,\"#de77ae\"],[0.3,\"#f1b6da\"],[0.4,\"#fde0ef\"],[0.5,\"#f7f7f7\"],[0.6,\"#e6f5d0\"],[0.7,\"#b8e186\"],[0.8,\"#7fbc41\"],[0.9,\"#4d9221\"],[1,\"#276419\"]]},\"xaxis\":{\"gridcolor\":\"white\",\"linecolor\":\"white\",\"ticks\":\"\",\"title\":{\"standoff\":15},\"zerolinecolor\":\"white\",\"automargin\":true,\"zerolinewidth\":2},\"yaxis\":{\"gridcolor\":\"white\",\"linecolor\":\"white\",\"ticks\":\"\",\"title\":{\"standoff\":15},\"zerolinecolor\":\"white\",\"automargin\":true,\"zerolinewidth\":2},\"scene\":{\"xaxis\":{\"backgroundcolor\":\"#E5ECF6\",\"gridcolor\":\"white\",\"linecolor\":\"white\",\"showbackground\":true,\"ticks\":\"\",\"zerolinecolor\":\"white\",\"gridwidth\":2},\"yaxis\":{\"backgroundcolor\":\"#E5ECF6\",\"gridcolor\":\"white\",\"linecolor\":\"white\",\"showbackground\":true,\"ticks\":\"\",\"zerolinecolor\":\"white\",\"gridwidth\":2},\"zaxis\":{\"backgroundcolor\":\"#E5ECF6\",\"gridcolor\":\"white\",\"linecolor\":\"white\",\"showbackground\":true,\"ticks\":\"\",\"zerolinecolor\":\"white\",\"gridwidth\":2}},\"shapedefaults\":{\"line\":{\"color\":\"#2a3f5f\"}},\"annotationdefaults\":{\"arrowcolor\":\"#2a3f5f\",\"arrowhead\":0,\"arrowwidth\":1},\"geo\":{\"bgcolor\":\"white\",\"landcolor\":\"#E5ECF6\",\"subunitcolor\":\"white\",\"showland\":true,\"showlakes\":true,\"lakecolor\":\"white\"},\"title\":{\"x\":0.05},\"mapbox\":{\"style\":\"light\"}}},\"xaxis\":{\"anchor\":\"y\",\"domain\":[0.0,1.0],\"title\":{\"text\":\"month\"}},\"yaxis\":{\"anchor\":\"x\",\"domain\":[0.0,1.0],\"title\":{\"text\":\"value\"}},\"legend\":{\"title\":{\"text\":\"member_casual\"},\"tracegroupgap\":0},\"margin\":{\"t\":60},\"barmode\":\"group\"},                        {\"responsive\": true}                    ).then(function(){\n",
       "                            \n",
       "var gd = document.getElementById('1b9bac14-b09e-4fda-9e8a-3017beae036d');\n",
       "var x = new MutationObserver(function (mutations, observer) {{\n",
       "        var display = window.getComputedStyle(gd).display;\n",
       "        if (!display || display === 'none') {{\n",
       "            console.log([gd, 'removed!']);\n",
       "            Plotly.purge(gd);\n",
       "            observer.disconnect();\n",
       "        }}\n",
       "}});\n",
       "\n",
       "// Listen for the removal of the full notebook cells\n",
       "var notebookContainer = gd.closest('#notebook-container');\n",
       "if (notebookContainer) {{\n",
       "    x.observe(notebookContainer, {childList: true});\n",
       "}}\n",
       "\n",
       "// Listen for the clearing of the current output cell\n",
       "var outputEl = gd.closest('.output');\n",
       "if (outputEl) {{\n",
       "    x.observe(outputEl, {childList: true});\n",
       "}}\n",
       "\n",
       "                        })                };                });            </script>        </div>"
      ]
     },
     "metadata": {},
     "output_type": "display_data"
    }
   ],
   "source": [
    "px.bar(compare_ride, barmode = 'group')\n"
   ]
  },
  {
   "cell_type": "markdown",
   "id": "08be3ddb",
   "metadata": {
    "papermill": {
     "duration": 0.025818,
     "end_time": "2023-01-20T15:01:31.118083",
     "exception": false,
     "start_time": "2023-01-20T15:01:31.092265",
     "status": "completed"
    },
    "tags": []
   },
   "source": [
    "Ride length is higher for both groups in summer, although this is especially the case for the casual users group. "
   ]
  },
  {
   "cell_type": "markdown",
   "id": "45d9315b",
   "metadata": {
    "papermill": {
     "duration": 0.022037,
     "end_time": "2023-01-20T15:01:31.163715",
     "exception": false,
     "start_time": "2023-01-20T15:01:31.141678",
     "status": "completed"
    },
    "tags": []
   },
   "source": [
    "# 4.4.2 Ride duration per day of the week"
   ]
  },
  {
   "cell_type": "code",
   "execution_count": 35,
   "id": "fa46350a",
   "metadata": {
    "execution": {
     "iopub.execute_input": "2023-01-20T15:01:31.208405Z",
     "iopub.status.busy": "2023-01-20T15:01:31.207322Z",
     "iopub.status.idle": "2023-01-20T15:01:32.848837Z",
     "shell.execute_reply": "2023-01-20T15:01:32.847695Z"
    },
    "papermill": {
     "duration": 1.666819,
     "end_time": "2023-01-20T15:01:32.851598",
     "exception": false,
     "start_time": "2023-01-20T15:01:31.184779",
     "status": "completed"
    },
    "tags": []
   },
   "outputs": [],
   "source": [
    "member_day = pd.pivot_table(data, values = 'ride_length', index = 'day', columns = 'member_casual')\n",
    "day_order = ['Monday', 'Tuesday', 'Wednesday', 'Thursday', 'Friday', 'Saturday', 'Sunday']\n",
    "member_day = member_day.reindex(index=day_order)"
   ]
  },
  {
   "cell_type": "code",
   "execution_count": 36,
   "id": "06cee162",
   "metadata": {
    "execution": {
     "iopub.execute_input": "2023-01-20T15:01:32.899860Z",
     "iopub.status.busy": "2023-01-20T15:01:32.899176Z",
     "iopub.status.idle": "2023-01-20T15:01:32.970390Z",
     "shell.execute_reply": "2023-01-20T15:01:32.968880Z"
    },
    "papermill": {
     "duration": 0.099525,
     "end_time": "2023-01-20T15:01:32.973591",
     "exception": false,
     "start_time": "2023-01-20T15:01:32.874066",
     "status": "completed"
    },
    "tags": []
   },
   "outputs": [
    {
     "data": {
      "text/html": [
       "<div>                            <div id=\"238f21a1-2c2d-444a-be22-6876ac69f1dd\" class=\"plotly-graph-div\" style=\"height:525px; width:100%;\"></div>            <script type=\"text/javascript\">                require([\"plotly\"], function(Plotly) {                    window.PLOTLYENV=window.PLOTLYENV || {};                                    if (document.getElementById(\"238f21a1-2c2d-444a-be22-6876ac69f1dd\")) {                    Plotly.newPlot(                        \"238f21a1-2c2d-444a-be22-6876ac69f1dd\",                        [{\"alignmentgroup\":\"True\",\"hovertemplate\":\"member_casual=casual<br>day=%{x}<br>value=%{y}<extra></extra>\",\"legendgroup\":\"casual\",\"marker\":{\"color\":\"#636efa\",\"pattern\":{\"shape\":\"\"}},\"name\":\"casual\",\"offsetgroup\":\"casual\",\"orientation\":\"v\",\"showlegend\":true,\"textposition\":\"auto\",\"x\":[\"Monday\",\"Tuesday\",\"Wednesday\",\"Thursday\",\"Friday\",\"Saturday\",\"Sunday\"],\"xaxis\":\"x\",\"y\":[30.99245382189518,26.94530619629127,27.27609444068128,27.390774847428073,29.613697629858187,33.79150568620856,36.91141164775081],\"yaxis\":\"y\",\"type\":\"bar\"},{\"alignmentgroup\":\"True\",\"hovertemplate\":\"member_casual=member<br>day=%{x}<br>value=%{y}<extra></extra>\",\"legendgroup\":\"member\",\"marker\":{\"color\":\"#EF553B\",\"pattern\":{\"shape\":\"\"}},\"name\":\"member\",\"offsetgroup\":\"member\",\"orientation\":\"v\",\"showlegend\":true,\"textposition\":\"auto\",\"x\":[\"Monday\",\"Tuesday\",\"Wednesday\",\"Thursday\",\"Friday\",\"Saturday\",\"Sunday\"],\"xaxis\":\"x\",\"y\":[12.478926348606734,12.032103717820277,12.100100812904051,12.081498483171833,12.649866589570372,14.503926219075373,14.85163846062588],\"yaxis\":\"y\",\"type\":\"bar\"}],                        {\"template\":{\"data\":{\"histogram2dcontour\":[{\"type\":\"histogram2dcontour\",\"colorbar\":{\"outlinewidth\":0,\"ticks\":\"\"},\"colorscale\":[[0.0,\"#0d0887\"],[0.1111111111111111,\"#46039f\"],[0.2222222222222222,\"#7201a8\"],[0.3333333333333333,\"#9c179e\"],[0.4444444444444444,\"#bd3786\"],[0.5555555555555556,\"#d8576b\"],[0.6666666666666666,\"#ed7953\"],[0.7777777777777778,\"#fb9f3a\"],[0.8888888888888888,\"#fdca26\"],[1.0,\"#f0f921\"]]}],\"choropleth\":[{\"type\":\"choropleth\",\"colorbar\":{\"outlinewidth\":0,\"ticks\":\"\"}}],\"histogram2d\":[{\"type\":\"histogram2d\",\"colorbar\":{\"outlinewidth\":0,\"ticks\":\"\"},\"colorscale\":[[0.0,\"#0d0887\"],[0.1111111111111111,\"#46039f\"],[0.2222222222222222,\"#7201a8\"],[0.3333333333333333,\"#9c179e\"],[0.4444444444444444,\"#bd3786\"],[0.5555555555555556,\"#d8576b\"],[0.6666666666666666,\"#ed7953\"],[0.7777777777777778,\"#fb9f3a\"],[0.8888888888888888,\"#fdca26\"],[1.0,\"#f0f921\"]]}],\"heatmap\":[{\"type\":\"heatmap\",\"colorbar\":{\"outlinewidth\":0,\"ticks\":\"\"},\"colorscale\":[[0.0,\"#0d0887\"],[0.1111111111111111,\"#46039f\"],[0.2222222222222222,\"#7201a8\"],[0.3333333333333333,\"#9c179e\"],[0.4444444444444444,\"#bd3786\"],[0.5555555555555556,\"#d8576b\"],[0.6666666666666666,\"#ed7953\"],[0.7777777777777778,\"#fb9f3a\"],[0.8888888888888888,\"#fdca26\"],[1.0,\"#f0f921\"]]}],\"heatmapgl\":[{\"type\":\"heatmapgl\",\"colorbar\":{\"outlinewidth\":0,\"ticks\":\"\"},\"colorscale\":[[0.0,\"#0d0887\"],[0.1111111111111111,\"#46039f\"],[0.2222222222222222,\"#7201a8\"],[0.3333333333333333,\"#9c179e\"],[0.4444444444444444,\"#bd3786\"],[0.5555555555555556,\"#d8576b\"],[0.6666666666666666,\"#ed7953\"],[0.7777777777777778,\"#fb9f3a\"],[0.8888888888888888,\"#fdca26\"],[1.0,\"#f0f921\"]]}],\"contourcarpet\":[{\"type\":\"contourcarpet\",\"colorbar\":{\"outlinewidth\":0,\"ticks\":\"\"}}],\"contour\":[{\"type\":\"contour\",\"colorbar\":{\"outlinewidth\":0,\"ticks\":\"\"},\"colorscale\":[[0.0,\"#0d0887\"],[0.1111111111111111,\"#46039f\"],[0.2222222222222222,\"#7201a8\"],[0.3333333333333333,\"#9c179e\"],[0.4444444444444444,\"#bd3786\"],[0.5555555555555556,\"#d8576b\"],[0.6666666666666666,\"#ed7953\"],[0.7777777777777778,\"#fb9f3a\"],[0.8888888888888888,\"#fdca26\"],[1.0,\"#f0f921\"]]}],\"surface\":[{\"type\":\"surface\",\"colorbar\":{\"outlinewidth\":0,\"ticks\":\"\"},\"colorscale\":[[0.0,\"#0d0887\"],[0.1111111111111111,\"#46039f\"],[0.2222222222222222,\"#7201a8\"],[0.3333333333333333,\"#9c179e\"],[0.4444444444444444,\"#bd3786\"],[0.5555555555555556,\"#d8576b\"],[0.6666666666666666,\"#ed7953\"],[0.7777777777777778,\"#fb9f3a\"],[0.8888888888888888,\"#fdca26\"],[1.0,\"#f0f921\"]]}],\"mesh3d\":[{\"type\":\"mesh3d\",\"colorbar\":{\"outlinewidth\":0,\"ticks\":\"\"}}],\"scatter\":[{\"fillpattern\":{\"fillmode\":\"overlay\",\"size\":10,\"solidity\":0.2},\"type\":\"scatter\"}],\"parcoords\":[{\"type\":\"parcoords\",\"line\":{\"colorbar\":{\"outlinewidth\":0,\"ticks\":\"\"}}}],\"scatterpolargl\":[{\"type\":\"scatterpolargl\",\"marker\":{\"colorbar\":{\"outlinewidth\":0,\"ticks\":\"\"}}}],\"bar\":[{\"error_x\":{\"color\":\"#2a3f5f\"},\"error_y\":{\"color\":\"#2a3f5f\"},\"marker\":{\"line\":{\"color\":\"#E5ECF6\",\"width\":0.5},\"pattern\":{\"fillmode\":\"overlay\",\"size\":10,\"solidity\":0.2}},\"type\":\"bar\"}],\"scattergeo\":[{\"type\":\"scattergeo\",\"marker\":{\"colorbar\":{\"outlinewidth\":0,\"ticks\":\"\"}}}],\"scatterpolar\":[{\"type\":\"scatterpolar\",\"marker\":{\"colorbar\":{\"outlinewidth\":0,\"ticks\":\"\"}}}],\"histogram\":[{\"marker\":{\"pattern\":{\"fillmode\":\"overlay\",\"size\":10,\"solidity\":0.2}},\"type\":\"histogram\"}],\"scattergl\":[{\"type\":\"scattergl\",\"marker\":{\"colorbar\":{\"outlinewidth\":0,\"ticks\":\"\"}}}],\"scatter3d\":[{\"type\":\"scatter3d\",\"line\":{\"colorbar\":{\"outlinewidth\":0,\"ticks\":\"\"}},\"marker\":{\"colorbar\":{\"outlinewidth\":0,\"ticks\":\"\"}}}],\"scattermapbox\":[{\"type\":\"scattermapbox\",\"marker\":{\"colorbar\":{\"outlinewidth\":0,\"ticks\":\"\"}}}],\"scatterternary\":[{\"type\":\"scatterternary\",\"marker\":{\"colorbar\":{\"outlinewidth\":0,\"ticks\":\"\"}}}],\"scattercarpet\":[{\"type\":\"scattercarpet\",\"marker\":{\"colorbar\":{\"outlinewidth\":0,\"ticks\":\"\"}}}],\"carpet\":[{\"aaxis\":{\"endlinecolor\":\"#2a3f5f\",\"gridcolor\":\"white\",\"linecolor\":\"white\",\"minorgridcolor\":\"white\",\"startlinecolor\":\"#2a3f5f\"},\"baxis\":{\"endlinecolor\":\"#2a3f5f\",\"gridcolor\":\"white\",\"linecolor\":\"white\",\"minorgridcolor\":\"white\",\"startlinecolor\":\"#2a3f5f\"},\"type\":\"carpet\"}],\"table\":[{\"cells\":{\"fill\":{\"color\":\"#EBF0F8\"},\"line\":{\"color\":\"white\"}},\"header\":{\"fill\":{\"color\":\"#C8D4E3\"},\"line\":{\"color\":\"white\"}},\"type\":\"table\"}],\"barpolar\":[{\"marker\":{\"line\":{\"color\":\"#E5ECF6\",\"width\":0.5},\"pattern\":{\"fillmode\":\"overlay\",\"size\":10,\"solidity\":0.2}},\"type\":\"barpolar\"}],\"pie\":[{\"automargin\":true,\"type\":\"pie\"}]},\"layout\":{\"autotypenumbers\":\"strict\",\"colorway\":[\"#636efa\",\"#EF553B\",\"#00cc96\",\"#ab63fa\",\"#FFA15A\",\"#19d3f3\",\"#FF6692\",\"#B6E880\",\"#FF97FF\",\"#FECB52\"],\"font\":{\"color\":\"#2a3f5f\"},\"hovermode\":\"closest\",\"hoverlabel\":{\"align\":\"left\"},\"paper_bgcolor\":\"white\",\"plot_bgcolor\":\"#E5ECF6\",\"polar\":{\"bgcolor\":\"#E5ECF6\",\"angularaxis\":{\"gridcolor\":\"white\",\"linecolor\":\"white\",\"ticks\":\"\"},\"radialaxis\":{\"gridcolor\":\"white\",\"linecolor\":\"white\",\"ticks\":\"\"}},\"ternary\":{\"bgcolor\":\"#E5ECF6\",\"aaxis\":{\"gridcolor\":\"white\",\"linecolor\":\"white\",\"ticks\":\"\"},\"baxis\":{\"gridcolor\":\"white\",\"linecolor\":\"white\",\"ticks\":\"\"},\"caxis\":{\"gridcolor\":\"white\",\"linecolor\":\"white\",\"ticks\":\"\"}},\"coloraxis\":{\"colorbar\":{\"outlinewidth\":0,\"ticks\":\"\"}},\"colorscale\":{\"sequential\":[[0.0,\"#0d0887\"],[0.1111111111111111,\"#46039f\"],[0.2222222222222222,\"#7201a8\"],[0.3333333333333333,\"#9c179e\"],[0.4444444444444444,\"#bd3786\"],[0.5555555555555556,\"#d8576b\"],[0.6666666666666666,\"#ed7953\"],[0.7777777777777778,\"#fb9f3a\"],[0.8888888888888888,\"#fdca26\"],[1.0,\"#f0f921\"]],\"sequentialminus\":[[0.0,\"#0d0887\"],[0.1111111111111111,\"#46039f\"],[0.2222222222222222,\"#7201a8\"],[0.3333333333333333,\"#9c179e\"],[0.4444444444444444,\"#bd3786\"],[0.5555555555555556,\"#d8576b\"],[0.6666666666666666,\"#ed7953\"],[0.7777777777777778,\"#fb9f3a\"],[0.8888888888888888,\"#fdca26\"],[1.0,\"#f0f921\"]],\"diverging\":[[0,\"#8e0152\"],[0.1,\"#c51b7d\"],[0.2,\"#de77ae\"],[0.3,\"#f1b6da\"],[0.4,\"#fde0ef\"],[0.5,\"#f7f7f7\"],[0.6,\"#e6f5d0\"],[0.7,\"#b8e186\"],[0.8,\"#7fbc41\"],[0.9,\"#4d9221\"],[1,\"#276419\"]]},\"xaxis\":{\"gridcolor\":\"white\",\"linecolor\":\"white\",\"ticks\":\"\",\"title\":{\"standoff\":15},\"zerolinecolor\":\"white\",\"automargin\":true,\"zerolinewidth\":2},\"yaxis\":{\"gridcolor\":\"white\",\"linecolor\":\"white\",\"ticks\":\"\",\"title\":{\"standoff\":15},\"zerolinecolor\":\"white\",\"automargin\":true,\"zerolinewidth\":2},\"scene\":{\"xaxis\":{\"backgroundcolor\":\"#E5ECF6\",\"gridcolor\":\"white\",\"linecolor\":\"white\",\"showbackground\":true,\"ticks\":\"\",\"zerolinecolor\":\"white\",\"gridwidth\":2},\"yaxis\":{\"backgroundcolor\":\"#E5ECF6\",\"gridcolor\":\"white\",\"linecolor\":\"white\",\"showbackground\":true,\"ticks\":\"\",\"zerolinecolor\":\"white\",\"gridwidth\":2},\"zaxis\":{\"backgroundcolor\":\"#E5ECF6\",\"gridcolor\":\"white\",\"linecolor\":\"white\",\"showbackground\":true,\"ticks\":\"\",\"zerolinecolor\":\"white\",\"gridwidth\":2}},\"shapedefaults\":{\"line\":{\"color\":\"#2a3f5f\"}},\"annotationdefaults\":{\"arrowcolor\":\"#2a3f5f\",\"arrowhead\":0,\"arrowwidth\":1},\"geo\":{\"bgcolor\":\"white\",\"landcolor\":\"#E5ECF6\",\"subunitcolor\":\"white\",\"showland\":true,\"showlakes\":true,\"lakecolor\":\"white\"},\"title\":{\"x\":0.05},\"mapbox\":{\"style\":\"light\"}}},\"xaxis\":{\"anchor\":\"y\",\"domain\":[0.0,1.0],\"title\":{\"text\":\"day\"}},\"yaxis\":{\"anchor\":\"x\",\"domain\":[0.0,1.0],\"title\":{\"text\":\"value\"}},\"legend\":{\"title\":{\"text\":\"member_casual\"},\"tracegroupgap\":0},\"margin\":{\"t\":60},\"barmode\":\"group\"},                        {\"responsive\": true}                    ).then(function(){\n",
       "                            \n",
       "var gd = document.getElementById('238f21a1-2c2d-444a-be22-6876ac69f1dd');\n",
       "var x = new MutationObserver(function (mutations, observer) {{\n",
       "        var display = window.getComputedStyle(gd).display;\n",
       "        if (!display || display === 'none') {{\n",
       "            console.log([gd, 'removed!']);\n",
       "            Plotly.purge(gd);\n",
       "            observer.disconnect();\n",
       "        }}\n",
       "}});\n",
       "\n",
       "// Listen for the removal of the full notebook cells\n",
       "var notebookContainer = gd.closest('#notebook-container');\n",
       "if (notebookContainer) {{\n",
       "    x.observe(notebookContainer, {childList: true});\n",
       "}}\n",
       "\n",
       "// Listen for the clearing of the current output cell\n",
       "var outputEl = gd.closest('.output');\n",
       "if (outputEl) {{\n",
       "    x.observe(outputEl, {childList: true});\n",
       "}}\n",
       "\n",
       "                        })                };                });            </script>        </div>"
      ]
     },
     "metadata": {},
     "output_type": "display_data"
    }
   ],
   "source": [
    "px.bar(member_day, barmode = 'group')"
   ]
  },
  {
   "cell_type": "markdown",
   "id": "6e390114",
   "metadata": {
    "papermill": {
     "duration": 0.022426,
     "end_time": "2023-01-20T15:01:33.017344",
     "exception": false,
     "start_time": "2023-01-20T15:01:32.994918",
     "status": "completed"
    },
    "tags": []
   },
   "source": [
    "Ride durations are higher on weekends; here again, this is especially the case for the casual riders group. "
   ]
  },
  {
   "cell_type": "markdown",
   "id": "b5ae69ac",
   "metadata": {
    "papermill": {
     "duration": 0.022732,
     "end_time": "2023-01-20T15:01:33.061678",
     "exception": false,
     "start_time": "2023-01-20T15:01:33.038946",
     "status": "completed"
    },
    "tags": []
   },
   "source": [
    "**INFO 8**: For both groups, the length of rides is higer on summers and on weekends; this is more pronounced for casuals. "
   ]
  },
  {
   "cell_type": "markdown",
   "id": "16c41699",
   "metadata": {
    "papermill": {
     "duration": 0.022944,
     "end_time": "2023-01-20T15:01:33.106711",
     "exception": false,
     "start_time": "2023-01-20T15:01:33.083767",
     "status": "completed"
    },
    "tags": []
   },
   "source": [
    "# 4.5 What stations?"
   ]
  },
  {
   "cell_type": "code",
   "execution_count": 37,
   "id": "41677b73",
   "metadata": {
    "execution": {
     "iopub.execute_input": "2023-01-20T15:01:33.152317Z",
     "iopub.status.busy": "2023-01-20T15:01:33.151529Z",
     "iopub.status.idle": "2023-01-20T15:01:34.610164Z",
     "shell.execute_reply": "2023-01-20T15:01:34.608920Z"
    },
    "papermill": {
     "duration": 1.484525,
     "end_time": "2023-01-20T15:01:34.612944",
     "exception": false,
     "start_time": "2023-01-20T15:01:33.128419",
     "status": "completed"
    },
    "tags": []
   },
   "outputs": [],
   "source": [
    "#caculate the most frequent start stations \n",
    "top_start_stations = (data.groupby(['start_station_name', 'member_casual'])['start_station_name']\n",
    "                      .count()\n",
    "                      .reset_index(name='count')\n",
    "                      .sort_values(by=['member_casual','count'],ascending=[True,False])\n",
    "                      .groupby('member_casual')\n",
    "                      .head(10))\n",
    "top_start_stations = top_start_stations.assign(type_station='start')\n",
    "top_start_stations = top_start_stations.rename(columns={'start_station_name': 'station'})"
   ]
  },
  {
   "cell_type": "code",
   "execution_count": 38,
   "id": "62d8401f",
   "metadata": {
    "execution": {
     "iopub.execute_input": "2023-01-20T15:01:34.657672Z",
     "iopub.status.busy": "2023-01-20T15:01:34.657283Z",
     "iopub.status.idle": "2023-01-20T15:01:36.057304Z",
     "shell.execute_reply": "2023-01-20T15:01:36.055851Z"
    },
    "papermill": {
     "duration": 1.425482,
     "end_time": "2023-01-20T15:01:36.060178",
     "exception": false,
     "start_time": "2023-01-20T15:01:34.634696",
     "status": "completed"
    },
    "tags": []
   },
   "outputs": [],
   "source": [
    "#caculate the most frequent end stations \n",
    "top_end_stations = (data.groupby(['end_station_name', 'member_casual'])['start_station_name']\n",
    "                      .count()\n",
    "                      .reset_index(name='count')\n",
    "                      .sort_values(by=['member_casual','count'],ascending=[True,False])\n",
    "                      .groupby('member_casual')\n",
    "                      .head(10))\n",
    "top_end_stations = top_end_stations.assign(type_station='end')\n",
    "top_end_stations = top_end_stations.rename(columns={'end_station_name': 'station'})"
   ]
  },
  {
   "cell_type": "code",
   "execution_count": 39,
   "id": "aff875e1",
   "metadata": {
    "execution": {
     "iopub.execute_input": "2023-01-20T15:01:36.105158Z",
     "iopub.status.busy": "2023-01-20T15:01:36.104674Z",
     "iopub.status.idle": "2023-01-20T15:01:36.110368Z",
     "shell.execute_reply": "2023-01-20T15:01:36.109397Z"
    },
    "papermill": {
     "duration": 0.030479,
     "end_time": "2023-01-20T15:01:36.112548",
     "exception": false,
     "start_time": "2023-01-20T15:01:36.082069",
     "status": "completed"
    },
    "tags": []
   },
   "outputs": [],
   "source": [
    "top_stations = pd.concat([top_start_stations,top_end_stations])"
   ]
  },
  {
   "cell_type": "code",
   "execution_count": 40,
   "id": "45f01407",
   "metadata": {
    "execution": {
     "iopub.execute_input": "2023-01-20T15:01:36.160488Z",
     "iopub.status.busy": "2023-01-20T15:01:36.160106Z",
     "iopub.status.idle": "2023-01-20T15:01:36.169877Z",
     "shell.execute_reply": "2023-01-20T15:01:36.168743Z"
    },
    "papermill": {
     "duration": 0.036779,
     "end_time": "2023-01-20T15:01:36.172208",
     "exception": false,
     "start_time": "2023-01-20T15:01:36.135429",
     "status": "completed"
    },
    "tags": []
   },
   "outputs": [
    {
     "data": {
      "text/plain": [
       "Wells St & Concord Ln                 4\n",
       "Wells St & Elm St                     3\n",
       "Streeter Dr & Grand Ave               2\n",
       "Clark St & Elm St                     2\n",
       "Wabash Ave & Grand Ave                2\n",
       "Broadway & Barry Ave                  2\n",
       "Clinton St & Madison St               2\n",
       "St. Clair St & Erie St                2\n",
       "Wells St & Huron St                   2\n",
       "Dearborn St & Erie St                 2\n",
       "Kingsbury St & Kinzie St              2\n",
       "Millennium Park                       2\n",
       "Clark St & Lincoln Ave                2\n",
       "Theater on the Lake                   2\n",
       "Shedd Aquarium                        2\n",
       "Michigan Ave & Oak St                 2\n",
       "Lake Shore Dr & Monroe St             1\n",
       "DuSable Lake Shore Dr & Monroe St     1\n",
       "DuSable Lake Shore Dr & North Blvd    1\n",
       "Lake Shore Dr & North Blvd            1\n",
       "Clinton St & Washington Blvd          1\n",
       "Name: station, dtype: int64"
      ]
     },
     "execution_count": 40,
     "metadata": {},
     "output_type": "execute_result"
    }
   ],
   "source": [
    "top_stations['station'].value_counts()"
   ]
  },
  {
   "cell_type": "code",
   "execution_count": 41,
   "id": "918edef7",
   "metadata": {
    "execution": {
     "iopub.execute_input": "2023-01-20T15:01:36.221985Z",
     "iopub.status.busy": "2023-01-20T15:01:36.221479Z",
     "iopub.status.idle": "2023-01-20T15:01:36.733127Z",
     "shell.execute_reply": "2023-01-20T15:01:36.731661Z"
    },
    "papermill": {
     "duration": 0.538829,
     "end_time": "2023-01-20T15:01:36.735892",
     "exception": false,
     "start_time": "2023-01-20T15:01:36.197063",
     "status": "completed"
    },
    "tags": []
   },
   "outputs": [],
   "source": [
    "#import libraries for maps\n",
    "import folium\n",
    "from geopy.geocoders import Nominatim\n",
    "geolocator = Nominatim(user_agent=\"geoapiExercises\")"
   ]
  },
  {
   "cell_type": "code",
   "execution_count": 42,
   "id": "59fc5909",
   "metadata": {
    "execution": {
     "iopub.execute_input": "2023-01-20T15:01:36.781878Z",
     "iopub.status.busy": "2023-01-20T15:01:36.781096Z",
     "iopub.status.idle": "2023-01-20T15:01:47.504013Z",
     "shell.execute_reply": "2023-01-20T15:01:47.503081Z"
    },
    "papermill": {
     "duration": 10.748286,
     "end_time": "2023-01-20T15:01:47.506476",
     "exception": false,
     "start_time": "2023-01-20T15:01:36.758190",
     "status": "completed"
    },
    "tags": []
   },
   "outputs": [
    {
     "data": {
      "text/html": [
       "<div style=\"width:100%;\"><div style=\"position:relative;width:100%;height:0;padding-bottom:60%;\"><span style=\"color:#565656\">Make this Notebook Trusted to load map: File -> Trust Notebook</span><iframe srcdoc=\"&lt;!DOCTYPE html&gt;\n",
       "&lt;head&gt;    \n",
       "    &lt;meta http-equiv=&quot;content-type&quot; content=&quot;text/html; charset=UTF-8&quot; /&gt;\n",
       "    \n",
       "        &lt;script&gt;\n",
       "            L_NO_TOUCH = false;\n",
       "            L_DISABLE_3D = false;\n",
       "        &lt;/script&gt;\n",
       "    \n",
       "    &lt;style&gt;html, body {width: 100%;height: 100%;margin: 0;padding: 0;}&lt;/style&gt;\n",
       "    &lt;style&gt;#map {position:absolute;top:0;bottom:0;right:0;left:0;}&lt;/style&gt;\n",
       "    &lt;script src=&quot;https://cdn.jsdelivr.net/npm/leaflet@1.6.0/dist/leaflet.js&quot;&gt;&lt;/script&gt;\n",
       "    &lt;script src=&quot;https://code.jquery.com/jquery-1.12.4.min.js&quot;&gt;&lt;/script&gt;\n",
       "    &lt;script src=&quot;https://maxcdn.bootstrapcdn.com/bootstrap/3.2.0/js/bootstrap.min.js&quot;&gt;&lt;/script&gt;\n",
       "    &lt;script src=&quot;https://cdnjs.cloudflare.com/ajax/libs/Leaflet.awesome-markers/2.0.2/leaflet.awesome-markers.js&quot;&gt;&lt;/script&gt;\n",
       "    &lt;link rel=&quot;stylesheet&quot; href=&quot;https://cdn.jsdelivr.net/npm/leaflet@1.6.0/dist/leaflet.css&quot;/&gt;\n",
       "    &lt;link rel=&quot;stylesheet&quot; href=&quot;https://maxcdn.bootstrapcdn.com/bootstrap/3.2.0/css/bootstrap.min.css&quot;/&gt;\n",
       "    &lt;link rel=&quot;stylesheet&quot; href=&quot;https://maxcdn.bootstrapcdn.com/bootstrap/3.2.0/css/bootstrap-theme.min.css&quot;/&gt;\n",
       "    &lt;link rel=&quot;stylesheet&quot; href=&quot;https://maxcdn.bootstrapcdn.com/font-awesome/4.6.3/css/font-awesome.min.css&quot;/&gt;\n",
       "    &lt;link rel=&quot;stylesheet&quot; href=&quot;https://cdnjs.cloudflare.com/ajax/libs/Leaflet.awesome-markers/2.0.2/leaflet.awesome-markers.css&quot;/&gt;\n",
       "    &lt;link rel=&quot;stylesheet&quot; href=&quot;https://cdn.jsdelivr.net/gh/python-visualization/folium/folium/templates/leaflet.awesome.rotate.min.css&quot;/&gt;\n",
       "    \n",
       "            &lt;meta name=&quot;viewport&quot; content=&quot;width=device-width,\n",
       "                initial-scale=1.0, maximum-scale=1.0, user-scalable=no&quot; /&gt;\n",
       "            &lt;style&gt;\n",
       "                #map_fdd109f7c4a615fa3fa2158bfb7c228e {\n",
       "                    position: relative;\n",
       "                    width: 100.0%;\n",
       "                    height: 100.0%;\n",
       "                    left: 0.0%;\n",
       "                    top: 0.0%;\n",
       "                }\n",
       "            &lt;/style&gt;\n",
       "        \n",
       "&lt;/head&gt;\n",
       "&lt;body&gt;    \n",
       "    \n",
       "            &lt;div class=&quot;folium-map&quot; id=&quot;map_fdd109f7c4a615fa3fa2158bfb7c228e&quot; &gt;&lt;/div&gt;\n",
       "        \n",
       "&lt;/body&gt;\n",
       "&lt;script&gt;    \n",
       "    \n",
       "            var map_fdd109f7c4a615fa3fa2158bfb7c228e = L.map(\n",
       "                &quot;map_fdd109f7c4a615fa3fa2158bfb7c228e&quot;,\n",
       "                {\n",
       "                    center: [41.8781136, -87.6297982],\n",
       "                    crs: L.CRS.EPSG3857,\n",
       "                    zoom: 13,\n",
       "                    zoomControl: true,\n",
       "                    preferCanvas: false,\n",
       "                }\n",
       "            );\n",
       "\n",
       "            \n",
       "\n",
       "        \n",
       "    \n",
       "            var tile_layer_0f134909df633c74640c92880e1d9f38 = L.tileLayer(\n",
       "                &quot;https://{s}.tile.openstreetmap.org/{z}/{x}/{y}.png&quot;,\n",
       "                {&quot;attribution&quot;: &quot;Data by \\u0026copy; \\u003ca href=\\&quot;http://openstreetmap.org\\&quot;\\u003eOpenStreetMap\\u003c/a\\u003e, under \\u003ca href=\\&quot;http://www.openstreetmap.org/copyright\\&quot;\\u003eODbL\\u003c/a\\u003e.&quot;, &quot;detectRetina&quot;: false, &quot;maxNativeZoom&quot;: 18, &quot;maxZoom&quot;: 18, &quot;minZoom&quot;: 0, &quot;noWrap&quot;: false, &quot;opacity&quot;: 1, &quot;subdomains&quot;: &quot;abc&quot;, &quot;tms&quot;: false}\n",
       "            ).addTo(map_fdd109f7c4a615fa3fa2158bfb7c228e);\n",
       "        \n",
       "    \n",
       "            var marker_c86d6123ed1ac7e7a9417a37991a2996 = L.marker(\n",
       "                [41.9376003, -87.6440444],\n",
       "                {}\n",
       "            ).addTo(map_fdd109f7c4a615fa3fa2158bfb7c228e);\n",
       "        \n",
       "    \n",
       "            var icon_aaede2e96dd01b0148767627062291e9 = L.AwesomeMarkers.icon(\n",
       "                {&quot;extraClasses&quot;: &quot;fa-rotate-0&quot;, &quot;icon&quot;: &quot;info-sign&quot;, &quot;iconColor&quot;: &quot;white&quot;, &quot;markerColor&quot;: &quot;blue&quot;, &quot;prefix&quot;: &quot;glyphicon&quot;}\n",
       "            );\n",
       "            marker_c86d6123ed1ac7e7a9417a37991a2996.setIcon(icon_aaede2e96dd01b0148767627062291e9);\n",
       "        \n",
       "    \n",
       "        var popup_2a40e3ec8b26c533526caa8d224a2584 = L.popup({&quot;maxWidth&quot;: &quot;100%&quot;});\n",
       "\n",
       "        \n",
       "            \n",
       "                var html_d20d3e76c16afea1d26ecfab91ad95b8 = $(`&lt;div id=&quot;html_d20d3e76c16afea1d26ecfab91ad95b8&quot; style=&quot;width: 100.0%; height: 100.0%;&quot;&gt;Broadway &amp; Barry Ave&lt;/div&gt;`)[0];\n",
       "                popup_2a40e3ec8b26c533526caa8d224a2584.setContent(html_d20d3e76c16afea1d26ecfab91ad95b8);\n",
       "            \n",
       "        \n",
       "\n",
       "        marker_c86d6123ed1ac7e7a9417a37991a2996.bindPopup(popup_2a40e3ec8b26c533526caa8d224a2584)\n",
       "        ;\n",
       "\n",
       "        \n",
       "    \n",
       "    \n",
       "            var marker_cf481ab9bc0d6d8c949ca1421ea4f2ff = L.marker(\n",
       "                [41.9029296, -87.6313227],\n",
       "                {}\n",
       "            ).addTo(map_fdd109f7c4a615fa3fa2158bfb7c228e);\n",
       "        \n",
       "    \n",
       "            var icon_a5982d9e6fc8482be83e77cc027c65a5 = L.AwesomeMarkers.icon(\n",
       "                {&quot;extraClasses&quot;: &quot;fa-rotate-0&quot;, &quot;icon&quot;: &quot;info-sign&quot;, &quot;iconColor&quot;: &quot;white&quot;, &quot;markerColor&quot;: &quot;blue&quot;, &quot;prefix&quot;: &quot;glyphicon&quot;}\n",
       "            );\n",
       "            marker_cf481ab9bc0d6d8c949ca1421ea4f2ff.setIcon(icon_a5982d9e6fc8482be83e77cc027c65a5);\n",
       "        \n",
       "    \n",
       "        var popup_bf428dd77d6a0b0bd38c1960659cde03 = L.popup({&quot;maxWidth&quot;: &quot;100%&quot;});\n",
       "\n",
       "        \n",
       "            \n",
       "                var html_e647bdc45cde6bbdf58af54924fcaf72 = $(`&lt;div id=&quot;html_e647bdc45cde6bbdf58af54924fcaf72&quot; style=&quot;width: 100.0%; height: 100.0%;&quot;&gt;Clark St &amp; Elm St&lt;/div&gt;`)[0];\n",
       "                popup_bf428dd77d6a0b0bd38c1960659cde03.setContent(html_e647bdc45cde6bbdf58af54924fcaf72);\n",
       "            \n",
       "        \n",
       "\n",
       "        marker_cf481ab9bc0d6d8c949ca1421ea4f2ff.bindPopup(popup_bf428dd77d6a0b0bd38c1960659cde03)\n",
       "        ;\n",
       "\n",
       "        \n",
       "    \n",
       "    \n",
       "            var marker_ef630b76a158d3439ea7ac160588c955 = L.marker(\n",
       "                [41.9157619, -87.6346054],\n",
       "                {}\n",
       "            ).addTo(map_fdd109f7c4a615fa3fa2158bfb7c228e);\n",
       "        \n",
       "    \n",
       "            var icon_a0b25714c9990c569618aebbbf05762a = L.AwesomeMarkers.icon(\n",
       "                {&quot;extraClasses&quot;: &quot;fa-rotate-0&quot;, &quot;icon&quot;: &quot;info-sign&quot;, &quot;iconColor&quot;: &quot;white&quot;, &quot;markerColor&quot;: &quot;red&quot;, &quot;prefix&quot;: &quot;glyphicon&quot;}\n",
       "            );\n",
       "            marker_ef630b76a158d3439ea7ac160588c955.setIcon(icon_a0b25714c9990c569618aebbbf05762a);\n",
       "        \n",
       "    \n",
       "        var popup_c4e7442608857c73bc0aa963f26adbf6 = L.popup({&quot;maxWidth&quot;: &quot;100%&quot;});\n",
       "\n",
       "        \n",
       "            \n",
       "                var html_96272d160e3061dc7e038f79cb10f671 = $(`&lt;div id=&quot;html_96272d160e3061dc7e038f79cb10f671&quot; style=&quot;width: 100.0%; height: 100.0%;&quot;&gt;Clark St &amp; Lincoln Ave&lt;/div&gt;`)[0];\n",
       "                popup_c4e7442608857c73bc0aa963f26adbf6.setContent(html_96272d160e3061dc7e038f79cb10f671);\n",
       "            \n",
       "        \n",
       "\n",
       "        marker_ef630b76a158d3439ea7ac160588c955.bindPopup(popup_c4e7442608857c73bc0aa963f26adbf6)\n",
       "        ;\n",
       "\n",
       "        \n",
       "    \n",
       "    \n",
       "            var marker_040186af3434b3c31dd47d3aba50b6b0 = L.marker(\n",
       "                [41.8821571, -87.641082],\n",
       "                {}\n",
       "            ).addTo(map_fdd109f7c4a615fa3fa2158bfb7c228e);\n",
       "        \n",
       "    \n",
       "            var icon_8488c6dc0be521cdb711e69f61a41a21 = L.AwesomeMarkers.icon(\n",
       "                {&quot;extraClasses&quot;: &quot;fa-rotate-0&quot;, &quot;icon&quot;: &quot;info-sign&quot;, &quot;iconColor&quot;: &quot;white&quot;, &quot;markerColor&quot;: &quot;blue&quot;, &quot;prefix&quot;: &quot;glyphicon&quot;}\n",
       "            );\n",
       "            marker_040186af3434b3c31dd47d3aba50b6b0.setIcon(icon_8488c6dc0be521cdb711e69f61a41a21);\n",
       "        \n",
       "    \n",
       "        var popup_d1d4a923cef0f99032919fb800b074fb = L.popup({&quot;maxWidth&quot;: &quot;100%&quot;});\n",
       "\n",
       "        \n",
       "            \n",
       "                var html_3da1b859ff3d77880d3e2ac543e26858 = $(`&lt;div id=&quot;html_3da1b859ff3d77880d3e2ac543e26858&quot; style=&quot;width: 100.0%; height: 100.0%;&quot;&gt;Clinton St &amp; Madison St&lt;/div&gt;`)[0];\n",
       "                popup_d1d4a923cef0f99032919fb800b074fb.setContent(html_3da1b859ff3d77880d3e2ac543e26858);\n",
       "            \n",
       "        \n",
       "\n",
       "        marker_040186af3434b3c31dd47d3aba50b6b0.bindPopup(popup_d1d4a923cef0f99032919fb800b074fb)\n",
       "        ;\n",
       "\n",
       "        \n",
       "    \n",
       "    \n",
       "            var marker_f11edbd10f5710ce21d7f9129619532f = L.marker(\n",
       "                [41.8834693, -87.6411203],\n",
       "                {}\n",
       "            ).addTo(map_fdd109f7c4a615fa3fa2158bfb7c228e);\n",
       "        \n",
       "    \n",
       "            var icon_23c7262230a33cf244d58bb49b4ade93 = L.AwesomeMarkers.icon(\n",
       "                {&quot;extraClasses&quot;: &quot;fa-rotate-0&quot;, &quot;icon&quot;: &quot;info-sign&quot;, &quot;iconColor&quot;: &quot;white&quot;, &quot;markerColor&quot;: &quot;blue&quot;, &quot;prefix&quot;: &quot;glyphicon&quot;}\n",
       "            );\n",
       "            marker_f11edbd10f5710ce21d7f9129619532f.setIcon(icon_23c7262230a33cf244d58bb49b4ade93);\n",
       "        \n",
       "    \n",
       "        var popup_ce4749849bb7cf3b0a3b7cf5c6c81e54 = L.popup({&quot;maxWidth&quot;: &quot;100%&quot;});\n",
       "\n",
       "        \n",
       "            \n",
       "                var html_faec8a113ccb2582c452c55b0da3d5d2 = $(`&lt;div id=&quot;html_faec8a113ccb2582c452c55b0da3d5d2&quot; style=&quot;width: 100.0%; height: 100.0%;&quot;&gt;Clinton St &amp; Washington Blvd&lt;/div&gt;`)[0];\n",
       "                popup_ce4749849bb7cf3b0a3b7cf5c6c81e54.setContent(html_faec8a113ccb2582c452c55b0da3d5d2);\n",
       "            \n",
       "        \n",
       "\n",
       "        marker_f11edbd10f5710ce21d7f9129619532f.bindPopup(popup_ce4749849bb7cf3b0a3b7cf5c6c81e54)\n",
       "        ;\n",
       "\n",
       "        \n",
       "    \n",
       "    \n",
       "            var marker_32c89bdaf0de901f0483024289e14bd4 = L.marker(\n",
       "                [41.8940108, -87.6293635],\n",
       "                {}\n",
       "            ).addTo(map_fdd109f7c4a615fa3fa2158bfb7c228e);\n",
       "        \n",
       "    \n",
       "            var icon_255614e7add768c011589c702408a481 = L.AwesomeMarkers.icon(\n",
       "                {&quot;extraClasses&quot;: &quot;fa-rotate-0&quot;, &quot;icon&quot;: &quot;info-sign&quot;, &quot;iconColor&quot;: &quot;white&quot;, &quot;markerColor&quot;: &quot;blue&quot;, &quot;prefix&quot;: &quot;glyphicon&quot;}\n",
       "            );\n",
       "            marker_32c89bdaf0de901f0483024289e14bd4.setIcon(icon_255614e7add768c011589c702408a481);\n",
       "        \n",
       "    \n",
       "        var popup_07e748a598e68b2f90f0dd99bba9a45d = L.popup({&quot;maxWidth&quot;: &quot;100%&quot;});\n",
       "\n",
       "        \n",
       "            \n",
       "                var html_9406639dd453b94aa5b3d1b481bd5689 = $(`&lt;div id=&quot;html_9406639dd453b94aa5b3d1b481bd5689&quot; style=&quot;width: 100.0%; height: 100.0%;&quot;&gt;Dearborn St &amp; Erie St&lt;/div&gt;`)[0];\n",
       "                popup_07e748a598e68b2f90f0dd99bba9a45d.setContent(html_9406639dd453b94aa5b3d1b481bd5689);\n",
       "            \n",
       "        \n",
       "\n",
       "        marker_32c89bdaf0de901f0483024289e14bd4.bindPopup(popup_07e748a598e68b2f90f0dd99bba9a45d)\n",
       "        ;\n",
       "\n",
       "        \n",
       "    \n",
       "    \n",
       "            var marker_6c788abc50d2659e149e9af8e15e0d10 = L.marker(\n",
       "                [41.8891867, -87.6385227],\n",
       "                {}\n",
       "            ).addTo(map_fdd109f7c4a615fa3fa2158bfb7c228e);\n",
       "        \n",
       "    \n",
       "            var icon_d7cc056e33b5be6b1c0dcec2ab25098e = L.AwesomeMarkers.icon(\n",
       "                {&quot;extraClasses&quot;: &quot;fa-rotate-0&quot;, &quot;icon&quot;: &quot;info-sign&quot;, &quot;iconColor&quot;: &quot;white&quot;, &quot;markerColor&quot;: &quot;blue&quot;, &quot;prefix&quot;: &quot;glyphicon&quot;}\n",
       "            );\n",
       "            marker_6c788abc50d2659e149e9af8e15e0d10.setIcon(icon_d7cc056e33b5be6b1c0dcec2ab25098e);\n",
       "        \n",
       "    \n",
       "        var popup_84eae056b18b5becd2d98a353c7ea921 = L.popup({&quot;maxWidth&quot;: &quot;100%&quot;});\n",
       "\n",
       "        \n",
       "            \n",
       "                var html_e70539e1a51c25d2e96ae72ddf99554d = $(`&lt;div id=&quot;html_e70539e1a51c25d2e96ae72ddf99554d&quot; style=&quot;width: 100.0%; height: 100.0%;&quot;&gt;Kingsbury St &amp; Kinzie St&lt;/div&gt;`)[0];\n",
       "                popup_84eae056b18b5becd2d98a353c7ea921.setContent(html_e70539e1a51c25d2e96ae72ddf99554d);\n",
       "            \n",
       "        \n",
       "\n",
       "        marker_6c788abc50d2659e149e9af8e15e0d10.bindPopup(popup_84eae056b18b5becd2d98a353c7ea921)\n",
       "        ;\n",
       "\n",
       "        \n",
       "    \n",
       "    \n",
       "            var marker_20dfbfb2ed989ebf0125a59cd07fed96 = L.marker(\n",
       "                [41.8809367, -87.6167829],\n",
       "                {}\n",
       "            ).addTo(map_fdd109f7c4a615fa3fa2158bfb7c228e);\n",
       "        \n",
       "    \n",
       "            var icon_f019f3447fb4450293ade6dd12093493 = L.AwesomeMarkers.icon(\n",
       "                {&quot;extraClasses&quot;: &quot;fa-rotate-0&quot;, &quot;icon&quot;: &quot;info-sign&quot;, &quot;iconColor&quot;: &quot;white&quot;, &quot;markerColor&quot;: &quot;red&quot;, &quot;prefix&quot;: &quot;glyphicon&quot;}\n",
       "            );\n",
       "            marker_20dfbfb2ed989ebf0125a59cd07fed96.setIcon(icon_f019f3447fb4450293ade6dd12093493);\n",
       "        \n",
       "    \n",
       "        var popup_239533955d655c03c56d4db617a1705f = L.popup({&quot;maxWidth&quot;: &quot;100%&quot;});\n",
       "\n",
       "        \n",
       "            \n",
       "                var html_363cb06e1b62eae82138731b81ece2fd = $(`&lt;div id=&quot;html_363cb06e1b62eae82138731b81ece2fd&quot; style=&quot;width: 100.0%; height: 100.0%;&quot;&gt;Lake Shore Dr &amp; Monroe St&lt;/div&gt;`)[0];\n",
       "                popup_239533955d655c03c56d4db617a1705f.setContent(html_363cb06e1b62eae82138731b81ece2fd);\n",
       "            \n",
       "        \n",
       "\n",
       "        marker_20dfbfb2ed989ebf0125a59cd07fed96.bindPopup(popup_239533955d655c03c56d4db617a1705f)\n",
       "        ;\n",
       "\n",
       "        \n",
       "    \n",
       "    \n",
       "            var marker_e81016d57ef1b051d0960cd31ea6f5df = L.marker(\n",
       "                [41.9117402, -87.6268192],\n",
       "                {}\n",
       "            ).addTo(map_fdd109f7c4a615fa3fa2158bfb7c228e);\n",
       "        \n",
       "    \n",
       "            var icon_154b2a0443fb7795237c671e909bd11f = L.AwesomeMarkers.icon(\n",
       "                {&quot;extraClasses&quot;: &quot;fa-rotate-0&quot;, &quot;icon&quot;: &quot;info-sign&quot;, &quot;iconColor&quot;: &quot;white&quot;, &quot;markerColor&quot;: &quot;red&quot;, &quot;prefix&quot;: &quot;glyphicon&quot;}\n",
       "            );\n",
       "            marker_e81016d57ef1b051d0960cd31ea6f5df.setIcon(icon_154b2a0443fb7795237c671e909bd11f);\n",
       "        \n",
       "    \n",
       "        var popup_700de45f15ab54ad80aec82ea69790a6 = L.popup({&quot;maxWidth&quot;: &quot;100%&quot;});\n",
       "\n",
       "        \n",
       "            \n",
       "                var html_60fb55eed07f10cb67cff13b9a1df78c = $(`&lt;div id=&quot;html_60fb55eed07f10cb67cff13b9a1df78c&quot; style=&quot;width: 100.0%; height: 100.0%;&quot;&gt;Lake Shore Dr &amp; North Blvd&lt;/div&gt;`)[0];\n",
       "                popup_700de45f15ab54ad80aec82ea69790a6.setContent(html_60fb55eed07f10cb67cff13b9a1df78c);\n",
       "            \n",
       "        \n",
       "\n",
       "        marker_e81016d57ef1b051d0960cd31ea6f5df.bindPopup(popup_700de45f15ab54ad80aec82ea69790a6)\n",
       "        ;\n",
       "\n",
       "        \n",
       "    \n",
       "    \n",
       "            var marker_9b376b1c5b35b7c09a346595d35c84dd = L.marker(\n",
       "                [41.9009604, -87.6237766],\n",
       "                {}\n",
       "            ).addTo(map_fdd109f7c4a615fa3fa2158bfb7c228e);\n",
       "        \n",
       "    \n",
       "            var icon_0609b8d4a0cf23792e9048f47c5d5756 = L.AwesomeMarkers.icon(\n",
       "                {&quot;extraClasses&quot;: &quot;fa-rotate-0&quot;, &quot;icon&quot;: &quot;info-sign&quot;, &quot;iconColor&quot;: &quot;white&quot;, &quot;markerColor&quot;: &quot;red&quot;, &quot;prefix&quot;: &quot;glyphicon&quot;}\n",
       "            );\n",
       "            marker_9b376b1c5b35b7c09a346595d35c84dd.setIcon(icon_0609b8d4a0cf23792e9048f47c5d5756);\n",
       "        \n",
       "    \n",
       "        var popup_a4a851b2bc1f98b446e87df35435bcc4 = L.popup({&quot;maxWidth&quot;: &quot;100%&quot;});\n",
       "\n",
       "        \n",
       "            \n",
       "                var html_d702e849b23cb94fcb32de36fd15e9d0 = $(`&lt;div id=&quot;html_d702e849b23cb94fcb32de36fd15e9d0&quot; style=&quot;width: 100.0%; height: 100.0%;&quot;&gt;Michigan Ave &amp; Oak St&lt;/div&gt;`)[0];\n",
       "                popup_a4a851b2bc1f98b446e87df35435bcc4.setContent(html_d702e849b23cb94fcb32de36fd15e9d0);\n",
       "            \n",
       "        \n",
       "\n",
       "        marker_9b376b1c5b35b7c09a346595d35c84dd.bindPopup(popup_a4a851b2bc1f98b446e87df35435bcc4)\n",
       "        ;\n",
       "\n",
       "        \n",
       "    \n",
       "    \n",
       "            var marker_aaa9de03271b8897f56a13673446a6d3 = L.marker(\n",
       "                [41.8825754, -87.62253608080282],\n",
       "                {}\n",
       "            ).addTo(map_fdd109f7c4a615fa3fa2158bfb7c228e);\n",
       "        \n",
       "    \n",
       "            var icon_be24d613a988b242fe679f9160f83ffa = L.AwesomeMarkers.icon(\n",
       "                {&quot;extraClasses&quot;: &quot;fa-rotate-0&quot;, &quot;icon&quot;: &quot;info-sign&quot;, &quot;iconColor&quot;: &quot;white&quot;, &quot;markerColor&quot;: &quot;red&quot;, &quot;prefix&quot;: &quot;glyphicon&quot;}\n",
       "            );\n",
       "            marker_aaa9de03271b8897f56a13673446a6d3.setIcon(icon_be24d613a988b242fe679f9160f83ffa);\n",
       "        \n",
       "    \n",
       "        var popup_2fe99e095629a26691b6765bf066f961 = L.popup({&quot;maxWidth&quot;: &quot;100%&quot;});\n",
       "\n",
       "        \n",
       "            \n",
       "                var html_0b7f161739e13fb6a966f8cde37de4c6 = $(`&lt;div id=&quot;html_0b7f161739e13fb6a966f8cde37de4c6&quot; style=&quot;width: 100.0%; height: 100.0%;&quot;&gt;Millennium Park&lt;/div&gt;`)[0];\n",
       "                popup_2fe99e095629a26691b6765bf066f961.setContent(html_0b7f161739e13fb6a966f8cde37de4c6);\n",
       "            \n",
       "        \n",
       "\n",
       "        marker_aaa9de03271b8897f56a13673446a6d3.bindPopup(popup_2fe99e095629a26691b6765bf066f961)\n",
       "        ;\n",
       "\n",
       "        \n",
       "    \n",
       "    \n",
       "            var marker_62b4a175efc4f682e8d2574955d74683 = L.marker(\n",
       "                [41.86754105, -87.61368620198587],\n",
       "                {}\n",
       "            ).addTo(map_fdd109f7c4a615fa3fa2158bfb7c228e);\n",
       "        \n",
       "    \n",
       "            var icon_7682b81a5a65a1848c16eed39b69bbf9 = L.AwesomeMarkers.icon(\n",
       "                {&quot;extraClasses&quot;: &quot;fa-rotate-0&quot;, &quot;icon&quot;: &quot;info-sign&quot;, &quot;iconColor&quot;: &quot;white&quot;, &quot;markerColor&quot;: &quot;red&quot;, &quot;prefix&quot;: &quot;glyphicon&quot;}\n",
       "            );\n",
       "            marker_62b4a175efc4f682e8d2574955d74683.setIcon(icon_7682b81a5a65a1848c16eed39b69bbf9);\n",
       "        \n",
       "    \n",
       "        var popup_3d3b8c83cee5fe6cd4a0d3b0b81038cc = L.popup({&quot;maxWidth&quot;: &quot;100%&quot;});\n",
       "\n",
       "        \n",
       "            \n",
       "                var html_76c0b3deea86bbe049a19f523385f5d7 = $(`&lt;div id=&quot;html_76c0b3deea86bbe049a19f523385f5d7&quot; style=&quot;width: 100.0%; height: 100.0%;&quot;&gt;Shedd Aquarium&lt;/div&gt;`)[0];\n",
       "                popup_3d3b8c83cee5fe6cd4a0d3b0b81038cc.setContent(html_76c0b3deea86bbe049a19f523385f5d7);\n",
       "            \n",
       "        \n",
       "\n",
       "        marker_62b4a175efc4f682e8d2574955d74683.bindPopup(popup_3d3b8c83cee5fe6cd4a0d3b0b81038cc)\n",
       "        ;\n",
       "\n",
       "        \n",
       "    \n",
       "    \n",
       "            var marker_7324e519094d82731efcf4ce7b57ebb7 = L.marker(\n",
       "                [41.894448, -87.622663],\n",
       "                {}\n",
       "            ).addTo(map_fdd109f7c4a615fa3fa2158bfb7c228e);\n",
       "        \n",
       "    \n",
       "            var icon_3542878ec64bebeb76df5ab217f86881 = L.AwesomeMarkers.icon(\n",
       "                {&quot;extraClasses&quot;: &quot;fa-rotate-0&quot;, &quot;icon&quot;: &quot;info-sign&quot;, &quot;iconColor&quot;: &quot;white&quot;, &quot;markerColor&quot;: &quot;blue&quot;, &quot;prefix&quot;: &quot;glyphicon&quot;}\n",
       "            );\n",
       "            marker_7324e519094d82731efcf4ce7b57ebb7.setIcon(icon_3542878ec64bebeb76df5ab217f86881);\n",
       "        \n",
       "    \n",
       "        var popup_aa06f762a53ca7bbb34bfdf15d359788 = L.popup({&quot;maxWidth&quot;: &quot;100%&quot;});\n",
       "\n",
       "        \n",
       "            \n",
       "                var html_12dd334382e2fdb5234dca4c2bd86ee0 = $(`&lt;div id=&quot;html_12dd334382e2fdb5234dca4c2bd86ee0&quot; style=&quot;width: 100.0%; height: 100.0%;&quot;&gt;St. Clair St &amp; Erie St&lt;/div&gt;`)[0];\n",
       "                popup_aa06f762a53ca7bbb34bfdf15d359788.setContent(html_12dd334382e2fdb5234dca4c2bd86ee0);\n",
       "            \n",
       "        \n",
       "\n",
       "        marker_7324e519094d82731efcf4ce7b57ebb7.bindPopup(popup_aa06f762a53ca7bbb34bfdf15d359788)\n",
       "        ;\n",
       "\n",
       "        \n",
       "    \n",
       "    \n",
       "            var marker_b95bf1e2875ac837e143e4a2363324bf = L.marker(\n",
       "                [41.8922419, -87.6119493],\n",
       "                {}\n",
       "            ).addTo(map_fdd109f7c4a615fa3fa2158bfb7c228e);\n",
       "        \n",
       "    \n",
       "            var icon_5d5e39416265fb3f2ca32cf6022a5c34 = L.AwesomeMarkers.icon(\n",
       "                {&quot;extraClasses&quot;: &quot;fa-rotate-0&quot;, &quot;icon&quot;: &quot;info-sign&quot;, &quot;iconColor&quot;: &quot;white&quot;, &quot;markerColor&quot;: &quot;red&quot;, &quot;prefix&quot;: &quot;glyphicon&quot;}\n",
       "            );\n",
       "            marker_b95bf1e2875ac837e143e4a2363324bf.setIcon(icon_5d5e39416265fb3f2ca32cf6022a5c34);\n",
       "        \n",
       "    \n",
       "        var popup_9c406499fadba7694252a071f117b9c2 = L.popup({&quot;maxWidth&quot;: &quot;100%&quot;});\n",
       "\n",
       "        \n",
       "            \n",
       "                var html_dbaba8c6b7566224e581bdbfcf14d4da = $(`&lt;div id=&quot;html_dbaba8c6b7566224e581bdbfcf14d4da&quot; style=&quot;width: 100.0%; height: 100.0%;&quot;&gt;Streeter Dr &amp; Grand Ave&lt;/div&gt;`)[0];\n",
       "                popup_9c406499fadba7694252a071f117b9c2.setContent(html_dbaba8c6b7566224e581bdbfcf14d4da);\n",
       "            \n",
       "        \n",
       "\n",
       "        marker_b95bf1e2875ac837e143e4a2363324bf.bindPopup(popup_9c406499fadba7694252a071f117b9c2)\n",
       "        ;\n",
       "\n",
       "        \n",
       "    \n",
       "    \n",
       "            var marker_9ec0d6926d1ebc73d348eca26c48969b = L.marker(\n",
       "                [41.92718495, -87.63073778974186],\n",
       "                {}\n",
       "            ).addTo(map_fdd109f7c4a615fa3fa2158bfb7c228e);\n",
       "        \n",
       "    \n",
       "            var icon_fcfe0f7b642cc07cfc6282f3bc904e59 = L.AwesomeMarkers.icon(\n",
       "                {&quot;extraClasses&quot;: &quot;fa-rotate-0&quot;, &quot;icon&quot;: &quot;info-sign&quot;, &quot;iconColor&quot;: &quot;white&quot;, &quot;markerColor&quot;: &quot;red&quot;, &quot;prefix&quot;: &quot;glyphicon&quot;}\n",
       "            );\n",
       "            marker_9ec0d6926d1ebc73d348eca26c48969b.setIcon(icon_fcfe0f7b642cc07cfc6282f3bc904e59);\n",
       "        \n",
       "    \n",
       "        var popup_bcc34506340c1128df52d519d6d9f846 = L.popup({&quot;maxWidth&quot;: &quot;100%&quot;});\n",
       "\n",
       "        \n",
       "            \n",
       "                var html_b68cd266f3ae3f21bdef70c95d857a62 = $(`&lt;div id=&quot;html_b68cd266f3ae3f21bdef70c95d857a62&quot; style=&quot;width: 100.0%; height: 100.0%;&quot;&gt;Theater on the Lake&lt;/div&gt;`)[0];\n",
       "                popup_bcc34506340c1128df52d519d6d9f846.setContent(html_b68cd266f3ae3f21bdef70c95d857a62);\n",
       "            \n",
       "        \n",
       "\n",
       "        marker_9ec0d6926d1ebc73d348eca26c48969b.bindPopup(popup_bcc34506340c1128df52d519d6d9f846)\n",
       "        ;\n",
       "\n",
       "        \n",
       "    \n",
       "    \n",
       "            var marker_6e48cca06ac34dc85e0caba1317a3c56 = L.marker(\n",
       "                [41.8914225, -87.6267774],\n",
       "                {}\n",
       "            ).addTo(map_fdd109f7c4a615fa3fa2158bfb7c228e);\n",
       "        \n",
       "    \n",
       "            var icon_f354a4739e8dea689b672e5d6dfda5f1 = L.AwesomeMarkers.icon(\n",
       "                {&quot;extraClasses&quot;: &quot;fa-rotate-0&quot;, &quot;icon&quot;: &quot;info-sign&quot;, &quot;iconColor&quot;: &quot;white&quot;, &quot;markerColor&quot;: &quot;purple&quot;, &quot;prefix&quot;: &quot;glyphicon&quot;}\n",
       "            );\n",
       "            marker_6e48cca06ac34dc85e0caba1317a3c56.setIcon(icon_f354a4739e8dea689b672e5d6dfda5f1);\n",
       "        \n",
       "    \n",
       "        var popup_83879211c6947d36842dd2b3b7a2b940 = L.popup({&quot;maxWidth&quot;: &quot;100%&quot;});\n",
       "\n",
       "        \n",
       "            \n",
       "                var html_fbfa0510e8021dbcd9c1b82b65f9485b = $(`&lt;div id=&quot;html_fbfa0510e8021dbcd9c1b82b65f9485b&quot; style=&quot;width: 100.0%; height: 100.0%;&quot;&gt;Wabash Ave &amp; Grand Ave&lt;/div&gt;`)[0];\n",
       "                popup_83879211c6947d36842dd2b3b7a2b940.setContent(html_fbfa0510e8021dbcd9c1b82b65f9485b);\n",
       "            \n",
       "        \n",
       "\n",
       "        marker_6e48cca06ac34dc85e0caba1317a3c56.bindPopup(popup_83879211c6947d36842dd2b3b7a2b940)\n",
       "        ;\n",
       "\n",
       "        \n",
       "    \n",
       "    \n",
       "            var marker_27a46ce26d4e541007cdfd073a0785e8 = L.marker(\n",
       "                [41.912202, -87.634664],\n",
       "                {}\n",
       "            ).addTo(map_fdd109f7c4a615fa3fa2158bfb7c228e);\n",
       "        \n",
       "    \n",
       "            var icon_45c077e1c88f6f87629cb574ab0a36d0 = L.AwesomeMarkers.icon(\n",
       "                {&quot;extraClasses&quot;: &quot;fa-rotate-0&quot;, &quot;icon&quot;: &quot;info-sign&quot;, &quot;iconColor&quot;: &quot;white&quot;, &quot;markerColor&quot;: &quot;purple&quot;, &quot;prefix&quot;: &quot;glyphicon&quot;}\n",
       "            );\n",
       "            marker_27a46ce26d4e541007cdfd073a0785e8.setIcon(icon_45c077e1c88f6f87629cb574ab0a36d0);\n",
       "        \n",
       "    \n",
       "        var popup_0d5d6a3ff701fee8bf99c3d241f61b0f = L.popup({&quot;maxWidth&quot;: &quot;100%&quot;});\n",
       "\n",
       "        \n",
       "            \n",
       "                var html_ee95d719cae68259664a4dc64d8eea1a = $(`&lt;div id=&quot;html_ee95d719cae68259664a4dc64d8eea1a&quot; style=&quot;width: 100.0%; height: 100.0%;&quot;&gt;Wells St &amp; Concord Ln&lt;/div&gt;`)[0];\n",
       "                popup_0d5d6a3ff701fee8bf99c3d241f61b0f.setContent(html_ee95d719cae68259664a4dc64d8eea1a);\n",
       "            \n",
       "        \n",
       "\n",
       "        marker_27a46ce26d4e541007cdfd073a0785e8.bindPopup(popup_0d5d6a3ff701fee8bf99c3d241f61b0f)\n",
       "        ;\n",
       "\n",
       "        \n",
       "    \n",
       "    \n",
       "            var marker_1120fd9af3979d5ac5de6dbc34f85e57 = L.marker(\n",
       "                [41.9032468, -87.6343279],\n",
       "                {}\n",
       "            ).addTo(map_fdd109f7c4a615fa3fa2158bfb7c228e);\n",
       "        \n",
       "    \n",
       "            var icon_294a40647fc52cace3d2474ab1e48f98 = L.AwesomeMarkers.icon(\n",
       "                {&quot;extraClasses&quot;: &quot;fa-rotate-0&quot;, &quot;icon&quot;: &quot;info-sign&quot;, &quot;iconColor&quot;: &quot;white&quot;, &quot;markerColor&quot;: &quot;purple&quot;, &quot;prefix&quot;: &quot;glyphicon&quot;}\n",
       "            );\n",
       "            marker_1120fd9af3979d5ac5de6dbc34f85e57.setIcon(icon_294a40647fc52cace3d2474ab1e48f98);\n",
       "        \n",
       "    \n",
       "        var popup_5e5d5b19820a456f3ce7455e1602e997 = L.popup({&quot;maxWidth&quot;: &quot;100%&quot;});\n",
       "\n",
       "        \n",
       "            \n",
       "                var html_16d9244ac443592f90457963f8559938 = $(`&lt;div id=&quot;html_16d9244ac443592f90457963f8559938&quot; style=&quot;width: 100.0%; height: 100.0%;&quot;&gt;Wells St &amp; Elm St&lt;/div&gt;`)[0];\n",
       "                popup_5e5d5b19820a456f3ce7455e1602e997.setContent(html_16d9244ac443592f90457963f8559938);\n",
       "            \n",
       "        \n",
       "\n",
       "        marker_1120fd9af3979d5ac5de6dbc34f85e57.bindPopup(popup_5e5d5b19820a456f3ce7455e1602e997)\n",
       "        ;\n",
       "\n",
       "        \n",
       "    \n",
       "    \n",
       "            var marker_d12d090b9810b7ef341e27963de869d7 = L.marker(\n",
       "                [41.8947285, -87.634423],\n",
       "                {}\n",
       "            ).addTo(map_fdd109f7c4a615fa3fa2158bfb7c228e);\n",
       "        \n",
       "    \n",
       "            var icon_f3b2c9fbfb516ec322ce0a8c704216a3 = L.AwesomeMarkers.icon(\n",
       "                {&quot;extraClasses&quot;: &quot;fa-rotate-0&quot;, &quot;icon&quot;: &quot;info-sign&quot;, &quot;iconColor&quot;: &quot;white&quot;, &quot;markerColor&quot;: &quot;blue&quot;, &quot;prefix&quot;: &quot;glyphicon&quot;}\n",
       "            );\n",
       "            marker_d12d090b9810b7ef341e27963de869d7.setIcon(icon_f3b2c9fbfb516ec322ce0a8c704216a3);\n",
       "        \n",
       "    \n",
       "        var popup_1ed4e4d56320db0c1e57db85cf0803c6 = L.popup({&quot;maxWidth&quot;: &quot;100%&quot;});\n",
       "\n",
       "        \n",
       "            \n",
       "                var html_f4d22bf6135a25f13c1ac3c0a65a2eb8 = $(`&lt;div id=&quot;html_f4d22bf6135a25f13c1ac3c0a65a2eb8&quot; style=&quot;width: 100.0%; height: 100.0%;&quot;&gt;Wells St &amp; Huron St&lt;/div&gt;`)[0];\n",
       "                popup_1ed4e4d56320db0c1e57db85cf0803c6.setContent(html_f4d22bf6135a25f13c1ac3c0a65a2eb8);\n",
       "            \n",
       "        \n",
       "\n",
       "        marker_d12d090b9810b7ef341e27963de869d7.bindPopup(popup_1ed4e4d56320db0c1e57db85cf0803c6)\n",
       "        ;\n",
       "\n",
       "        \n",
       "    \n",
       "&lt;/script&gt;\" style=\"position:absolute;width:100%;height:100%;left:0;top:0;border:none !important;\" allowfullscreen webkitallowfullscreen mozallowfullscreen></iframe></div></div>"
      ],
      "text/plain": [
       "<folium.folium.Map at 0x7faf6ec41b10>"
      ]
     },
     "execution_count": 42,
     "metadata": {},
     "output_type": "execute_result"
    }
   ],
   "source": [
    "chicago_location = [41.8781136, -87.6297982]\n",
    "\n",
    "# Create the map object centered on Chicago\n",
    "map_osm = folium.Map(location=chicago_location, zoom_start=13)\n",
    "\n",
    "# Group the dataframe by 'station'\n",
    "grouped_stations = top_stations.groupby('station')\n",
    "\n",
    "# Iterate through the grouped stations and add a marker for each one to the map\n",
    "for station, station_data in grouped_stations:\n",
    "    if (station_data['member_casual']=='member').any() and (station_data['member_casual']=='casual').any():\n",
    "        color = 'purple'\n",
    "    elif (station_data['member_casual']=='member').any():\n",
    "        color = 'blue'\n",
    "    elif (station_data['member_casual']=='casual').any():\n",
    "        color = 'red'\n",
    "    else:\n",
    "        color = 'black'\n",
    "        \n",
    "    location = geolocator.geocode(station+\" Chicago, IL\")\n",
    "    if location:\n",
    "        folium.Marker([location.latitude, location.longitude],\n",
    "                      popup=station,\n",
    "                      icon=folium.Icon(color=color)).add_to(map_osm)\n",
    "   \n",
    "# Display the map\n",
    "map_osm"
   ]
  },
  {
   "cell_type": "markdown",
   "id": "d4504258",
   "metadata": {
    "papermill": {
     "duration": 0.023632,
     "end_time": "2023-01-20T15:01:47.552916",
     "exception": false,
     "start_time": "2023-01-20T15:01:47.529284",
     "status": "completed"
    },
    "tags": []
   },
   "source": [
    "* Stations in *blue* are the most frequent stations for members. \n",
    "* Stations in *red* are the most frequent for casual riders.\n",
    "* Stations in *purple* are the most frequent stations for both members and casual riders. "
   ]
  },
  {
   "cell_type": "markdown",
   "id": "42df19b2",
   "metadata": {
    "papermill": {
     "duration": 0.022487,
     "end_time": "2023-01-20T15:01:47.600119",
     "exception": false,
     "start_time": "2023-01-20T15:01:47.577632",
     "status": "completed"
    },
    "tags": []
   },
   "source": [
    "The above map shows some very interesting patterns. The most used bike stations are diferent for members and casuals riders. Crucially, the most frequent stations  for casual riders are those next to the lake, while for members they tend to be more in the inner city. This reinforces our previous point: casual riders in general bike to have fun, for pleasure, so it makes sense they have a ride close to what seems as the most pleasant place (the lake side). Members on the hand, use bikes for commuting mostly. \n",
    "\n",
    "It is intersting however to note that there is a few stations where there is a convergence: Wells St & Concord Ln, Wells St & Elm St and Wabash Ave & Grand Ave. "
   ]
  },
  {
   "cell_type": "markdown",
   "id": "28133a42",
   "metadata": {
    "papermill": {
     "duration": 0.0232,
     "end_time": "2023-01-20T15:01:47.647137",
     "exception": false,
     "start_time": "2023-01-20T15:01:47.623937",
     "status": "completed"
    },
    "tags": []
   },
   "source": [
    "**INFO 9**: Casual riders tend to bike next to the lake, wheras annual members tend to bike in the inner city. "
   ]
  },
  {
   "cell_type": "markdown",
   "id": "7e9b4871",
   "metadata": {
    "papermill": {
     "duration": 0.023323,
     "end_time": "2023-01-20T15:01:47.693359",
     "exception": false,
     "start_time": "2023-01-20T15:01:47.670036",
     "status": "completed"
    },
    "tags": []
   },
   "source": [
    "# 6. ACT "
   ]
  },
  {
   "cell_type": "markdown",
   "id": "b76c8a58",
   "metadata": {
    "papermill": {
     "duration": 0.023119,
     "end_time": "2023-01-20T15:01:47.739590",
     "exception": false,
     "start_time": "2023-01-20T15:01:47.716471",
     "status": "completed"
    },
    "tags": []
   },
   "source": [
    "# 6.1. Recap \n",
    "\n",
    "Our analysis has revealed clear differences between members and casuals. To summarise:\n",
    "\n",
    "* There are more members than casuals (56% to 44%).\n",
    "* Members clearly opt for classic bikes, whereas casuals use classic bikes but also electric bikes.\n",
    "* There are more casual rides when the weather is good (summer) and more members when the weather is bad (winter).\n",
    "* Members tend to bike on weekdays; casuals on weekends.\n",
    "* Members biking is concentrated around two time of the day: 8h and 17h (on weekdays), while casuals mostly bike from 11h to 18h (on weekends).\n",
    "* Casuals take much longer rides than members (more than double).\n",
    "* Members tend to bike in the inner city, while casuals tend to bike by the lake-side. \n",
    "\n",
    "\n",
    "Fundamentally, these differences reflect the fact that both groups bike for different reasons: **Members use bikes to commute, while casuals use Cyclist bikes for leisure**. "
   ]
  },
  {
   "cell_type": "markdown",
   "id": "519ee104",
   "metadata": {
    "papermill": {
     "duration": 0.022252,
     "end_time": "2023-01-20T15:01:47.785613",
     "exception": false,
     "start_time": "2023-01-20T15:01:47.763361",
     "status": "completed"
    },
    "tags": []
   },
   "source": [
    "# 6.2. Advice\n",
    "\n",
    "To attract casual riders in order to become members, the marketing team at Cyclist should target casual users who use Cylist bikes in the same way as members (for instance those that use the bikes to commute on weekdays, around 8h and 17h; who take short rides, and who bike in the inner city). "
   ]
  }
 ],
 "metadata": {
  "kernelspec": {
   "display_name": "Python 3",
   "language": "python",
   "name": "python3"
  },
  "language_info": {
   "codemirror_mode": {
    "name": "ipython",
    "version": 3
   },
   "file_extension": ".py",
   "mimetype": "text/x-python",
   "name": "python",
   "nbconvert_exporter": "python",
   "pygments_lexer": "ipython3",
   "version": "3.7.12"
  },
  "papermill": {
   "default_parameters": {},
   "duration": 135.788308,
   "end_time": "2023-01-20T15:01:50.239542",
   "environment_variables": {},
   "exception": null,
   "input_path": "__notebook__.ipynb",
   "output_path": "__notebook__.ipynb",
   "parameters": {},
   "start_time": "2023-01-20T14:59:34.451234",
   "version": "2.3.4"
  }
 },
 "nbformat": 4,
 "nbformat_minor": 5
}
